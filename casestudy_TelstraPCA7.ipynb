{
  "cells": [
    {
      "cell_type": "code",
      "execution_count": null,
      "metadata": {
        "colab": {
          "base_uri": "https://localhost:8080/"
        },
        "id": "Ei2Z6Z2Kqp5N",
        "outputId": "a1320394-abd8-45af-ff4a-b31ee37f88c4"
      },
      "outputs": [
        {
          "output_type": "stream",
          "name": "stdout",
          "text": [
            "Looking in indexes: https://pypi.org/simple, https://us-python.pkg.dev/colab-wheels/public/simple/\n",
            "Requirement already satisfied: kaggle in /usr/local/lib/python3.7/dist-packages (1.5.12)\n",
            "Requirement already satisfied: tqdm in /usr/local/lib/python3.7/dist-packages (from kaggle) (4.64.1)\n",
            "Requirement already satisfied: six>=1.10 in /usr/local/lib/python3.7/dist-packages (from kaggle) (1.15.0)\n",
            "Requirement already satisfied: python-dateutil in /usr/local/lib/python3.7/dist-packages (from kaggle) (2.8.2)\n",
            "Requirement already satisfied: python-slugify in /usr/local/lib/python3.7/dist-packages (from kaggle) (6.1.2)\n",
            "Requirement already satisfied: certifi in /usr/local/lib/python3.7/dist-packages (from kaggle) (2022.6.15)\n",
            "Requirement already satisfied: urllib3 in /usr/local/lib/python3.7/dist-packages (from kaggle) (1.24.3)\n",
            "Requirement already satisfied: requests in /usr/local/lib/python3.7/dist-packages (from kaggle) (2.23.0)\n",
            "Requirement already satisfied: text-unidecode>=1.3 in /usr/local/lib/python3.7/dist-packages (from python-slugify->kaggle) (1.3)\n",
            "Requirement already satisfied: chardet<4,>=3.0.2 in /usr/local/lib/python3.7/dist-packages (from requests->kaggle) (3.0.4)\n",
            "Requirement already satisfied: idna<3,>=2.5 in /usr/local/lib/python3.7/dist-packages (from requests->kaggle) (2.10)\n"
          ]
        }
      ],
      "source": [
        "!pip install kaggle\n",
        "\"\"\"\n",
        "To use the Kaggle API, sign up for a Kaggle account at https://www.kaggle.com. \n",
        "Then go to the 'Account' tab of your user profile (https://www.kaggle.com/<username>/account) and select 'Create API Token'. \n",
        "This will trigger the download of kaggle.json, a file containing your API credentials.\n",
        "Upload that file to google colab/google cloud platform \n",
        "\"\"\"\n",
        "api_token = {\"username\":\"surabhimv\",\"key\":\"6486570e714dc5adf89e540c7913012d\"}"
      ]
    },
    {
      "cell_type": "markdown",
      "source": [
        "##Loading the Data"
      ],
      "metadata": {
        "id": "Do9HItgruqIo"
      }
    },
    {
      "cell_type": "code",
      "execution_count": null,
      "metadata": {
        "colab": {
          "base_uri": "https://localhost:8080/"
        },
        "id": "zoxn9F-xstzs",
        "outputId": "5bebb211-223f-42c1-ef10-102f8c083cfe"
      },
      "outputs": [
        {
          "output_type": "stream",
          "name": "stdout",
          "text": [
            "Warning: Your Kaggle API key is readable by other users on this system! To fix this, you can run 'chmod 600 /root/.kaggle/kaggle.json'\n",
            "Downloading telstra-recruiting-network.zip to /content\n",
            "  0% 0.00/557k [00:00<?, ?B/s]\n",
            "100% 557k/557k [00:00<00:00, 107MB/s]\n"
          ]
        }
      ],
      "source": [
        "!mkdir ~/.kaggle\n",
        "!cp kaggle.json ~/.kaggle/\n",
        "!kaggle competitions download -c 'telstra-recruiting-network'"
      ]
    },
    {
      "cell_type": "code",
      "execution_count": null,
      "metadata": {
        "colab": {
          "base_uri": "https://localhost:8080/"
        },
        "id": "DlspeDkQ_k4v",
        "outputId": "42753ed3-70bf-4b47-eff7-62d9e1593e35"
      },
      "outputs": [
        {
          "output_type": "stream",
          "name": "stdout",
          "text": [
            "Archive:  telstra-recruiting-network.zip\n",
            "  inflating: event_type.csv.zip      \n",
            "  inflating: log_feature.csv.zip     \n",
            "  inflating: resource_type.csv.zip   \n",
            "  inflating: sample_submission.csv.zip  \n",
            "  inflating: severity_type.csv.zip   \n",
            "  inflating: test.csv.zip            \n",
            "  inflating: train.csv.zip           \n"
          ]
        }
      ],
      "source": [
        "!unzip telstra-recruiting-network.zip                                           #unzipping the telstra-recruiting-network file"
      ]
    },
    {
      "cell_type": "code",
      "execution_count": null,
      "metadata": {
        "colab": {
          "base_uri": "https://localhost:8080/"
        },
        "id": "RzeTqldc_KMI",
        "outputId": "4dc24679-c91b-4072-f599-b69d0a7ba0e4"
      },
      "outputs": [
        {
          "output_type": "stream",
          "name": "stdout",
          "text": [
            "Archive:  event_type.csv.zip\n",
            "replace event_type.csv? [y]es, [n]o, [A]ll, [N]one, [r]ename: "
          ]
        }
      ],
      "source": [
        "!unzip event_type.csv.zip                                                       #unzipping the  files"
      ]
    },
    {
      "cell_type": "code",
      "execution_count": null,
      "metadata": {
        "colab": {
          "base_uri": "https://localhost:8080/"
        },
        "id": "jcapEJWcB2sa",
        "outputId": "74450d35-acc4-40cb-e83e-0b6419cf23e1"
      },
      "outputs": [
        {
          "output_type": "stream",
          "name": "stdout",
          "text": [
            "Archive:  log_feature.csv.zip\n",
            "replace log_feature.csv? [y]es, [n]o, [A]ll, [N]one, [r]ename: "
          ]
        }
      ],
      "source": [
        "!unzip log_feature.csv.zip"
      ]
    },
    {
      "cell_type": "code",
      "execution_count": null,
      "metadata": {
        "colab": {
          "base_uri": "https://localhost:8080/"
        },
        "id": "9CPD6Yg9B23c",
        "outputId": "32ffa019-75de-4c41-eed8-2ad94b61f2fb"
      },
      "outputs": [
        {
          "output_type": "stream",
          "name": "stdout",
          "text": [
            "Archive:  resource_type.csv.zip\n",
            "  inflating: resource_type.csv       \n"
          ]
        }
      ],
      "source": [
        "!unzip resource_type.csv.zip"
      ]
    },
    {
      "cell_type": "code",
      "execution_count": null,
      "metadata": {
        "colab": {
          "base_uri": "https://localhost:8080/"
        },
        "id": "1WrrAmdvB3A5",
        "outputId": "5b42cca6-d52d-4115-f4db-a31ac3820e05"
      },
      "outputs": [
        {
          "output_type": "stream",
          "name": "stdout",
          "text": [
            "Archive:  severity_type.csv.zip\n",
            "replace severity_type.csv? [y]es, [n]o, [A]ll, [N]one, [r]ename: "
          ]
        }
      ],
      "source": [
        "!unzip severity_type.csv.zip"
      ]
    },
    {
      "cell_type": "code",
      "execution_count": null,
      "metadata": {
        "colab": {
          "base_uri": "https://localhost:8080/"
        },
        "id": "wCGjzLF5B3K3",
        "outputId": "434922f3-4ffe-4746-fe54-deaafcf08283"
      },
      "outputs": [
        {
          "output_type": "stream",
          "name": "stdout",
          "text": [
            "Archive:  train.csv.zip\n",
            "replace train.csv? [y]es, [n]o, [A]ll, [N]one, [r]ename: "
          ]
        }
      ],
      "source": [
        "!unzip train.csv.zip"
      ]
    },
    {
      "cell_type": "code",
      "execution_count": null,
      "metadata": {
        "colab": {
          "base_uri": "https://localhost:8080/"
        },
        "id": "pCXd2HNnD0DW",
        "outputId": "ec997c92-34c3-4c98-b411-15da305e2b80"
      },
      "outputs": [
        {
          "output_type": "stream",
          "name": "stdout",
          "text": [
            "Archive:  test.csv.zip\n",
            "replace test.csv? [y]es, [n]o, [A]ll, [N]one, [r]ename: "
          ]
        }
      ],
      "source": [
        "!unzip test.csv.zip"
      ]
    },
    {
      "cell_type": "code",
      "source": [
        "import warnings\n",
        "warnings.filterwarnings(\"ignore\")\n",
        "from multiprocessing import Process# this is used for multithreading\n",
        "import multiprocessing\n",
        "from sklearn.model_selection import RandomizedSearchCV\n",
        "from sklearn.calibration import CalibratedClassifierCV\n",
        "from sklearn.neighbors import KNeighborsClassifier\n",
        "from sklearn.metrics import log_loss\n",
        "from sklearn.metrics import confusion_matrix\n",
        "from sklearn.model_selection import train_test_split\n",
        "from sklearn.linear_model import LogisticRegression\n",
        "from sklearn.ensemble import RandomForestClassifier\n",
        "import pandas as pd\n",
        "import re "
      ],
      "metadata": {
        "id": "NVRmDKwbt3yG"
      },
      "execution_count": 53,
      "outputs": []
    },
    {
      "cell_type": "code",
      "execution_count": 54,
      "metadata": {
        "colab": {
          "base_uri": "https://localhost:8080/"
        },
        "id": "nif-sPdqBfNK",
        "outputId": "57d2ec9b-b42a-49b4-a161-73b7f9e51435"
      },
      "outputs": [
        {
          "output_type": "stream",
          "name": "stdout",
          "text": [
            "         id     event_type\n",
            "0      6597  event_type 11\n",
            "1      8011  event_type 15\n",
            "2      2597  event_type 15\n",
            "3      5022  event_type 15\n",
            "4      5022  event_type 11\n",
            "...     ...            ...\n",
            "31165  3761  event_type 11\n",
            "31166  8720  event_type 11\n",
            "31167  6488  event_type 11\n",
            "31168   878  event_type 11\n",
            "31169  4464  event_type 11\n",
            "\n",
            "[31170 rows x 2 columns]\n"
          ]
        }
      ],
      "source": [
        "df1=pd.read_csv('event_type.csv')                                               #reading the event_type.csv file\n",
        "print(df1)"
      ]
    },
    {
      "cell_type": "code",
      "execution_count": 55,
      "metadata": {
        "colab": {
          "base_uri": "https://localhost:8080/"
        },
        "id": "u3MhOQ05B06c",
        "outputId": "ab08d219-cb96-44ba-c2c6-039b27388f61"
      },
      "outputs": [
        {
          "output_type": "stream",
          "name": "stdout",
          "text": [
            "         id  log_feature  volume\n",
            "0      6597   feature 68       6\n",
            "1      8011   feature 68       7\n",
            "2      2597   feature 68       1\n",
            "3      5022  feature 172       2\n",
            "4      5022   feature 56       1\n",
            "...     ...          ...     ...\n",
            "58666  8720  feature 209       1\n",
            "58667  6488   feature 54       3\n",
            "58668   878   feature 62       1\n",
            "58669  4464  feature 209       1\n",
            "58670  4464   feature 87       2\n",
            "\n",
            "[58671 rows x 3 columns]\n"
          ]
        }
      ],
      "source": [
        "df2=pd.read_csv('log_feature.csv')                                              #reading the log_feature.csv file\n",
        "print(df2)"
      ]
    },
    {
      "cell_type": "code",
      "execution_count": 56,
      "metadata": {
        "colab": {
          "base_uri": "https://localhost:8080/"
        },
        "id": "X4IXkiXgB1Rx",
        "outputId": "284b59d7-f860-4821-dc79-dedf5c2532ca"
      },
      "outputs": [
        {
          "output_type": "stream",
          "name": "stdout",
          "text": [
            "         id    resource_type\n",
            "0      6597  resource_type 8\n",
            "1      8011  resource_type 8\n",
            "2      2597  resource_type 8\n",
            "3      5022  resource_type 8\n",
            "4      6852  resource_type 8\n",
            "...     ...              ...\n",
            "21071  3761  resource_type 8\n",
            "21072  8720  resource_type 8\n",
            "21073  6488  resource_type 8\n",
            "21074   878  resource_type 8\n",
            "21075  4464  resource_type 8\n",
            "\n",
            "[21076 rows x 2 columns]\n"
          ]
        }
      ],
      "source": [
        "df3=pd.read_csv('resource_type.csv')                                            #reading the resource_type.csv file\n",
        "print(df3)"
      ]
    },
    {
      "cell_type": "code",
      "execution_count": 57,
      "metadata": {
        "colab": {
          "base_uri": "https://localhost:8080/"
        },
        "id": "jVZRbVfMLebo",
        "outputId": "47b97dd1-ebb4-4624-f26d-5afa4d80909c"
      },
      "outputs": [
        {
          "output_type": "execute_result",
          "data": {
            "text/plain": [
              "array(['resource_type 8', 'resource_type 2', 'resource_type 1',\n",
              "       'resource_type 9', 'resource_type 6', 'resource_type 7',\n",
              "       'resource_type 10', 'resource_type 4', 'resource_type 3',\n",
              "       'resource_type 5'], dtype=object)"
            ]
          },
          "metadata": {},
          "execution_count": 57
        }
      ],
      "source": [
        "df3['resource_type'].unique()                                                   #finding the unique features in 'resource_type' column"
      ]
    },
    {
      "cell_type": "code",
      "execution_count": 58,
      "metadata": {
        "colab": {
          "base_uri": "https://localhost:8080/"
        },
        "id": "pMUkL7JcNQnT",
        "outputId": "0b6e70be-aaa0-435e-b70f-bd41572636fa"
      },
      "outputs": [
        {
          "output_type": "stream",
          "name": "stdout",
          "text": [
            "       resource_type 1  resource_type 10  resource_type 2  resource_type 3  \\\n",
            "0                    0                 0                0                0   \n",
            "1                    0                 0                0                0   \n",
            "2                    0                 0                0                0   \n",
            "3                    0                 0                0                0   \n",
            "4                    0                 0                0                0   \n",
            "...                ...               ...              ...              ...   \n",
            "21071                0                 0                0                0   \n",
            "21072                0                 0                0                0   \n",
            "21073                0                 0                0                0   \n",
            "21074                0                 0                0                0   \n",
            "21075                0                 0                0                0   \n",
            "\n",
            "       resource_type 4  resource_type 5  resource_type 6  resource_type 7  \\\n",
            "0                    0                0                0                0   \n",
            "1                    0                0                0                0   \n",
            "2                    0                0                0                0   \n",
            "3                    0                0                0                0   \n",
            "4                    0                0                0                0   \n",
            "...                ...              ...              ...              ...   \n",
            "21071                0                0                0                0   \n",
            "21072                0                0                0                0   \n",
            "21073                0                0                0                0   \n",
            "21074                0                0                0                0   \n",
            "21075                0                0                0                0   \n",
            "\n",
            "       resource_type 8  resource_type 9  \n",
            "0                    1                0  \n",
            "1                    1                0  \n",
            "2                    1                0  \n",
            "3                    1                0  \n",
            "4                    1                0  \n",
            "...                ...              ...  \n",
            "21071                1                0  \n",
            "21072                1                0  \n",
            "21073                1                0  \n",
            "21074                1                0  \n",
            "21075                1                0  \n",
            "\n",
            "[21076 rows x 10 columns]\n"
          ]
        }
      ],
      "source": [
        "dummies = pd.get_dummies(df3.resource_type)                                     #as the resourse_type contain 10  unnique values (onehot encoding is done )\n",
        "print(dummies)                                                                  #after doing the one hot encoding  dummy variables are formed"
      ]
    },
    {
      "cell_type": "code",
      "execution_count": 59,
      "metadata": {
        "colab": {
          "base_uri": "https://localhost:8080/"
        },
        "id": "GgW_Zdr0OQ2r",
        "outputId": "a63baab5-195f-41f2-b774-828fb03ee783"
      },
      "outputs": [
        {
          "output_type": "stream",
          "name": "stdout",
          "text": [
            "         id    resource_type  resource_type 1  resource_type 10  \\\n",
            "0      6597  resource_type 8                0                 0   \n",
            "1      8011  resource_type 8                0                 0   \n",
            "2      2597  resource_type 8                0                 0   \n",
            "3      5022  resource_type 8                0                 0   \n",
            "4      6852  resource_type 8                0                 0   \n",
            "...     ...              ...              ...               ...   \n",
            "21071  3761  resource_type 8                0                 0   \n",
            "21072  8720  resource_type 8                0                 0   \n",
            "21073  6488  resource_type 8                0                 0   \n",
            "21074   878  resource_type 8                0                 0   \n",
            "21075  4464  resource_type 8                0                 0   \n",
            "\n",
            "       resource_type 2  resource_type 3  resource_type 4  resource_type 5  \\\n",
            "0                    0                0                0                0   \n",
            "1                    0                0                0                0   \n",
            "2                    0                0                0                0   \n",
            "3                    0                0                0                0   \n",
            "4                    0                0                0                0   \n",
            "...                ...              ...              ...              ...   \n",
            "21071                0                0                0                0   \n",
            "21072                0                0                0                0   \n",
            "21073                0                0                0                0   \n",
            "21074                0                0                0                0   \n",
            "21075                0                0                0                0   \n",
            "\n",
            "       resource_type 6  resource_type 7  resource_type 8  resource_type 9  \n",
            "0                    0                0                1                0  \n",
            "1                    0                0                1                0  \n",
            "2                    0                0                1                0  \n",
            "3                    0                0                1                0  \n",
            "4                    0                0                1                0  \n",
            "...                ...              ...              ...              ...  \n",
            "21071                0                0                1                0  \n",
            "21072                0                0                1                0  \n",
            "21073                0                0                1                0  \n",
            "21074                0                0                1                0  \n",
            "21075                0                0                1                0  \n",
            "\n",
            "[21076 rows x 12 columns]\n"
          ]
        }
      ],
      "source": [
        "df3 = pd.concat([df3,dummies],axis=1)                                           #concatinating the df3 dataframe with resource_type dummies \n",
        "print(df3)                                           "
      ]
    },
    {
      "cell_type": "code",
      "execution_count": 60,
      "metadata": {
        "colab": {
          "base_uri": "https://localhost:8080/"
        },
        "id": "nyFiuHjpB1gJ",
        "outputId": "327c8360-22dc-4691-bd34-e1f782d46a2c"
      },
      "outputs": [
        {
          "output_type": "stream",
          "name": "stdout",
          "text": [
            "         id    severity_type\n",
            "0      6597  severity_type 2\n",
            "1      8011  severity_type 2\n",
            "2      2597  severity_type 2\n",
            "3      5022  severity_type 1\n",
            "4      6852  severity_type 1\n",
            "...     ...              ...\n",
            "18547  3761  severity_type 1\n",
            "18548  8720  severity_type 1\n",
            "18549  6488  severity_type 2\n",
            "18550   878  severity_type 2\n",
            "18551  4464  severity_type 1\n",
            "\n",
            "[18552 rows x 2 columns]\n"
          ]
        }
      ],
      "source": [
        "df4=pd.read_csv('severity_type.csv')                                            #reading the 'severity_type.csv'  \n",
        "print(df4)"
      ]
    },
    {
      "cell_type": "code",
      "execution_count": 61,
      "metadata": {
        "colab": {
          "base_uri": "https://localhost:8080/"
        },
        "id": "MXs2l56kMwN6",
        "outputId": "4d7326ea-625d-4abf-b7f4-4e3cafebaf15"
      },
      "outputs": [
        {
          "output_type": "execute_result",
          "data": {
            "text/plain": [
              "array(['severity_type 2', 'severity_type 1', 'severity_type 4',\n",
              "       'severity_type 5', 'severity_type 3'], dtype=object)"
            ]
          },
          "metadata": {},
          "execution_count": 61
        }
      ],
      "source": [
        "df4['severity_type'].unique()                                                   #getting the unique featurees of 'severity_type'\n"
      ]
    },
    {
      "cell_type": "code",
      "execution_count": 62,
      "metadata": {
        "colab": {
          "base_uri": "https://localhost:8080/"
        },
        "id": "huSnXMSqOuG3",
        "outputId": "36dbeff5-de91-46fa-db6d-e573cab1538e"
      },
      "outputs": [
        {
          "output_type": "stream",
          "name": "stdout",
          "text": [
            "       severity_type 1  severity_type 2  severity_type 3  severity_type 4  \\\n",
            "0                    0                1                0                0   \n",
            "1                    0                1                0                0   \n",
            "2                    0                1                0                0   \n",
            "3                    1                0                0                0   \n",
            "4                    1                0                0                0   \n",
            "...                ...              ...              ...              ...   \n",
            "18547                1                0                0                0   \n",
            "18548                1                0                0                0   \n",
            "18549                0                1                0                0   \n",
            "18550                0                1                0                0   \n",
            "18551                1                0                0                0   \n",
            "\n",
            "       severity_type 5  \n",
            "0                    0  \n",
            "1                    0  \n",
            "2                    0  \n",
            "3                    0  \n",
            "4                    0  \n",
            "...                ...  \n",
            "18547                0  \n",
            "18548                0  \n",
            "18549                0  \n",
            "18550                0  \n",
            "18551                0  \n",
            "\n",
            "[18552 rows x 5 columns]\n"
          ]
        }
      ],
      "source": [
        "dummies1 = pd.get_dummies(df4.severity_type)                                    #getting the dummie variables of severity_type                   #\n",
        "print(dummies1)"
      ]
    },
    {
      "cell_type": "code",
      "execution_count": 63,
      "metadata": {
        "colab": {
          "base_uri": "https://localhost:8080/"
        },
        "id": "WQcfrQ7gO3BK",
        "outputId": "c09b6a02-d017-4fae-957c-a5b880250239"
      },
      "outputs": [
        {
          "output_type": "stream",
          "name": "stdout",
          "text": [
            "         id    severity_type  severity_type 1  severity_type 2  \\\n",
            "0      6597  severity_type 2                0                1   \n",
            "1      8011  severity_type 2                0                1   \n",
            "2      2597  severity_type 2                0                1   \n",
            "3      5022  severity_type 1                1                0   \n",
            "4      6852  severity_type 1                1                0   \n",
            "...     ...              ...              ...              ...   \n",
            "18547  3761  severity_type 1                1                0   \n",
            "18548  8720  severity_type 1                1                0   \n",
            "18549  6488  severity_type 2                0                1   \n",
            "18550   878  severity_type 2                0                1   \n",
            "18551  4464  severity_type 1                1                0   \n",
            "\n",
            "       severity_type 3  severity_type 4  severity_type 5  \n",
            "0                    0                0                0  \n",
            "1                    0                0                0  \n",
            "2                    0                0                0  \n",
            "3                    0                0                0  \n",
            "4                    0                0                0  \n",
            "...                ...              ...              ...  \n",
            "18547                0                0                0  \n",
            "18548                0                0                0  \n",
            "18549                0                0                0  \n",
            "18550                0                0                0  \n",
            "18551                0                0                0  \n",
            "\n",
            "[18552 rows x 7 columns]\n"
          ]
        }
      ],
      "source": [
        "df4= pd.concat([df4,dummies1],axis=1)                                           #concatinating the df4 and \"severity_type\" features dummies\n",
        "print(df4)"
      ]
    },
    {
      "cell_type": "code",
      "execution_count": 64,
      "metadata": {
        "colab": {
          "base_uri": "https://localhost:8080/"
        },
        "id": "zOE_1NKrDfYK",
        "outputId": "540d908f-b8e1-4ec2-de12-76f9e91e1c1f"
      },
      "outputs": [
        {
          "output_type": "stream",
          "name": "stdout",
          "text": [
            "         id       location  fault_severity\n",
            "0     14121   location 118               1\n",
            "1      9320    location 91               0\n",
            "2     14394   location 152               1\n",
            "3      8218   location 931               1\n",
            "4     14804   location 120               0\n",
            "...     ...            ...             ...\n",
            "7376    870   location 167               0\n",
            "7377  18068   location 106               0\n",
            "7378  14111  location 1086               2\n",
            "7379  15189     location 7               0\n",
            "7380  17067   location 885               0\n",
            "\n",
            "[7381 rows x 3 columns]\n"
          ]
        }
      ],
      "source": [
        "df5=pd.read_csv('train.csv')                                                    #reading the \"train.csv\" it contain the class variables\n",
        "print(df5)"
      ]
    },
    {
      "cell_type": "code",
      "execution_count": 65,
      "metadata": {
        "colab": {
          "base_uri": "https://localhost:8080/"
        },
        "id": "1CUhIAvWEKBX",
        "outputId": "96de7a16-88dc-4400-bb7c-50ea8ddace18"
      },
      "outputs": [
        {
          "output_type": "stream",
          "name": "stdout",
          "text": [
            "          id       location\n",
            "0      11066   location 481\n",
            "1      18000   location 962\n",
            "2      16964   location 491\n",
            "3       4795   location 532\n",
            "4       3392   location 600\n",
            "...      ...            ...\n",
            "11166  14806  location 1073\n",
            "11167   1825    location 11\n",
            "11168   2374   location 917\n",
            "11169   7277   location 208\n",
            "11170   9886   location 438\n",
            "\n",
            "[11171 rows x 2 columns]\n"
          ]
        }
      ],
      "source": [
        "df=pd.read_csv('test.csv')                                                      #reading the test.csv it does not contain class variables so not used\n",
        "print(df)"
      ]
    },
    {
      "cell_type": "markdown",
      "source": [
        "##Data Preprocessing"
      ],
      "metadata": {
        "id": "MJlDol8jvw8D"
      }
    },
    {
      "cell_type": "code",
      "execution_count": 66,
      "metadata": {
        "colab": {
          "base_uri": "https://localhost:8080/"
        },
        "id": "mZSfnTQTo21R",
        "outputId": "e387080b-6d30-4d30-9360-68b53c88b62b"
      },
      "outputs": [
        {
          "output_type": "stream",
          "name": "stdout",
          "text": [
            "         id  log_feature  volume\n",
            "0      6597           68       6\n",
            "1      8011           68       7\n",
            "2      2597           68       1\n",
            "3      5022          172       2\n",
            "4      5022           56       1\n",
            "...     ...          ...     ...\n",
            "58666  8720          209       1\n",
            "58667  6488           54       3\n",
            "58668   878           62       1\n",
            "58669  4464          209       1\n",
            "58670  4464           87       2\n",
            "\n",
            "[58671 rows x 3 columns]\n"
          ]
        }
      ],
      "source": [
        "d2=df2['log_feature'].values                                                    #preprocessing the \"log_feature\".as each value in the log_feature contain (categorical part and numeric value).so as part of preprocessing this categorical part is removed.\n",
        "s2=[]\n",
        "for i in d2:\n",
        "  q=re.findall(r'\\d+',i)\n",
        "  q1=''.join(q)\n",
        "  s2.append(int(q1))\n",
        "df2['log_feature']=s2\n",
        "print(df2)"
      ]
    },
    {
      "cell_type": "code",
      "execution_count": 67,
      "metadata": {
        "colab": {
          "base_uri": "https://localhost:8080/"
        },
        "id": "WId9cGf7pSIV",
        "outputId": "9c77a3ce-21e4-41b4-dc84-b3539524a2a7"
      },
      "outputs": [
        {
          "output_type": "stream",
          "name": "stdout",
          "text": [
            "         id  event_type\n",
            "0      6597          11\n",
            "1      8011          15\n",
            "2      2597          15\n",
            "3      5022          15\n",
            "4      5022          11\n",
            "...     ...         ...\n",
            "31165  3761          11\n",
            "31166  8720          11\n",
            "31167  6488          11\n",
            "31168   878          11\n",
            "31169  4464          11\n",
            "\n",
            "[31170 rows x 2 columns]\n"
          ]
        }
      ],
      "source": [
        "d1=df1['event_type'].values                                                     #preprocessing the \"event_type\".as each value in the log_feature contain (categorical part and numeric value).so as part of preprocessing this categorical part is removed.\n",
        "s3=[]\n",
        "for i in d1:\n",
        "  q=re.findall(r'\\d+',i)\n",
        "  q1=''.join(q)\n",
        "  s3.append(int(q1))\n",
        "df1['event_type']=s3\n",
        "print(df1)"
      ]
    },
    {
      "cell_type": "code",
      "execution_count": 68,
      "metadata": {
        "colab": {
          "base_uri": "https://localhost:8080/"
        },
        "id": "7xLAdy7Prja9",
        "outputId": "9e6f16e8-8489-4bd9-8723-899a060067fb"
      },
      "outputs": [
        {
          "output_type": "stream",
          "name": "stdout",
          "text": [
            "         id  location  fault_severity\n",
            "0     14121       118               1\n",
            "1      9320        91               0\n",
            "2     14394       152               1\n",
            "3      8218       931               1\n",
            "4     14804       120               0\n",
            "...     ...       ...             ...\n",
            "7376    870       167               0\n",
            "7377  18068       106               0\n",
            "7378  14111      1086               2\n",
            "7379  15189         7               0\n",
            "7380  17067       885               0\n",
            "\n",
            "[7381 rows x 3 columns]\n"
          ]
        }
      ],
      "source": [
        "d5=df5['location'].values                                                       #preprocessing the \"location\".as each value in the log_feature contain (categorical part and numeric value).so as part of preprocessing this categorical part is removed.\n",
        "s5=[]\n",
        "for i in d5:\n",
        "  q=re.findall(r'\\d+',i)\n",
        "  q1=''.join(q)\n",
        "  s5.append(int(q1))\n",
        "df5['location']=s5\n",
        "print(df5)"
      ]
    },
    {
      "cell_type": "code",
      "execution_count": 69,
      "metadata": {
        "colab": {
          "base_uri": "https://localhost:8080/"
        },
        "id": "s973_RF5p3fD",
        "outputId": "550ca508-697b-4191-800f-86b0ae6ec6de"
      },
      "outputs": [
        {
          "output_type": "stream",
          "name": "stdout",
          "text": [
            "          id  event_type  log_feature  volume    resource_type  \\\n",
            "61369   2123           2            1       1  resource_type 8   \n",
            "2078   13382          28            1       1  resource_type 9   \n",
            "2077   13382          28            1       1  resource_type 8   \n",
            "2066   13382           2            1       1  resource_type 9   \n",
            "2065   13382           2            1       1  resource_type 8   \n",
            "...      ...         ...          ...     ...              ...   \n",
            "19609   7378          20          383       1  resource_type 8   \n",
            "19607   7378          20          383       1  resource_type 3   \n",
            "376     4630           1          384       2  resource_type 8   \n",
            "370     4630          11          384       2  resource_type 8   \n",
            "364     4630          15          384       2  resource_type 8   \n",
            "\n",
            "       resource_type 1  resource_type 10  resource_type 2  resource_type 3  \\\n",
            "61369                0                 0                0                0   \n",
            "2078                 0                 0                0                0   \n",
            "2077                 0                 0                0                0   \n",
            "2066                 0                 0                0                0   \n",
            "2065                 0                 0                0                0   \n",
            "...                ...               ...              ...              ...   \n",
            "19609                0                 0                0                0   \n",
            "19607                0                 0                0                1   \n",
            "376                  0                 0                0                0   \n",
            "370                  0                 0                0                0   \n",
            "364                  0                 0                0                0   \n",
            "\n",
            "       resource_type 4  ...  resource_type 8  resource_type 9  \\\n",
            "61369                0  ...                1                0   \n",
            "2078                 0  ...                0                1   \n",
            "2077                 0  ...                1                0   \n",
            "2066                 0  ...                0                1   \n",
            "2065                 0  ...                1                0   \n",
            "...                ...  ...              ...              ...   \n",
            "19609                0  ...                1                0   \n",
            "19607                0  ...                0                0   \n",
            "376                  0  ...                1                0   \n",
            "370                  0  ...                1                0   \n",
            "364                  0  ...                1                0   \n",
            "\n",
            "         severity_type  severity_type 1  severity_type 2 severity_type 3  \\\n",
            "61369  severity_type 1                1                0               0   \n",
            "2078   severity_type 1                1                0               0   \n",
            "2077   severity_type 1                1                0               0   \n",
            "2066   severity_type 1                1                0               0   \n",
            "2065   severity_type 1                1                0               0   \n",
            "...                ...              ...              ...             ...   \n",
            "19609  severity_type 1                1                0               0   \n",
            "19607  severity_type 1                1                0               0   \n",
            "376    severity_type 2                0                1               0   \n",
            "370    severity_type 2                0                1               0   \n",
            "364    severity_type 2                0                1               0   \n",
            "\n",
            "       severity_type 4  severity_type 5  location  fault_severity  \n",
            "61369                0                0       989               1  \n",
            "2078                 0                0      1020               2  \n",
            "2077                 0                0      1020               2  \n",
            "2066                 0                0      1020               2  \n",
            "2065                 0                0      1020               2  \n",
            "...                ...              ...       ...             ...  \n",
            "19609                0                0        32               2  \n",
            "19607                0                0        32               2  \n",
            "376                  0                0      1008               0  \n",
            "370                  0                0      1008               0  \n",
            "364                  0                0      1008               0  \n",
            "\n",
            "[61839 rows x 23 columns]\n"
          ]
        }
      ],
      "source": [
        "dff= pd.merge(df1,df2,on='id')                                                  #merging the dataframe df1 and df2 on \"id\"\n",
        "dff1=pd.merge(dff,df3,on='id')                                                  #merging the dataframe dff and df3 on \"id\"\n",
        "dff2=pd.merge(dff1,df4,on='id')                                                 #merging the dataframe dff1 and df4 on \"id\"\n",
        "dff3=pd.merge(dff2,df5,on='id')                                                 #merging the dataframe dff2 and df5 on \"id\"\n",
        "dff3=dff3.sort_values(['log_feature'],ascending = [True])                       \n",
        "print(dff3)"
      ]
    },
    {
      "cell_type": "code",
      "execution_count": 70,
      "metadata": {
        "colab": {
          "base_uri": "https://localhost:8080/"
        },
        "id": "dRxAi3M3QWUB",
        "outputId": "8d7cc08a-cf1e-4c24-b2fc-3dcc45d7386e"
      },
      "outputs": [
        {
          "output_type": "stream",
          "name": "stdout",
          "text": [
            "          id  event_type  log_feature  volume  resource_type 1  \\\n",
            "61369   2123           2            1       1                0   \n",
            "2078   13382          28            1       1                0   \n",
            "2077   13382          28            1       1                0   \n",
            "2066   13382           2            1       1                0   \n",
            "2065   13382           2            1       1                0   \n",
            "...      ...         ...          ...     ...              ...   \n",
            "19609   7378          20          383       1                0   \n",
            "19607   7378          20          383       1                0   \n",
            "376     4630           1          384       2                0   \n",
            "370     4630          11          384       2                0   \n",
            "364     4630          15          384       2                0   \n",
            "\n",
            "       resource_type 10  resource_type 2  resource_type 3  resource_type 4  \\\n",
            "61369                 0                0                0                0   \n",
            "2078                  0                0                0                0   \n",
            "2077                  0                0                0                0   \n",
            "2066                  0                0                0                0   \n",
            "2065                  0                0                0                0   \n",
            "...                 ...              ...              ...              ...   \n",
            "19609                 0                0                0                0   \n",
            "19607                 0                0                1                0   \n",
            "376                   0                0                0                0   \n",
            "370                   0                0                0                0   \n",
            "364                   0                0                0                0   \n",
            "\n",
            "       resource_type 5  ...  resource_type 7  resource_type 8  \\\n",
            "61369                0  ...                0                1   \n",
            "2078                 0  ...                0                0   \n",
            "2077                 0  ...                0                1   \n",
            "2066                 0  ...                0                0   \n",
            "2065                 0  ...                0                1   \n",
            "...                ...  ...              ...              ...   \n",
            "19609                0  ...                0                1   \n",
            "19607                0  ...                0                0   \n",
            "376                  0  ...                0                1   \n",
            "370                  0  ...                0                1   \n",
            "364                  0  ...                0                1   \n",
            "\n",
            "       resource_type 9  severity_type 1  severity_type 2  severity_type 3  \\\n",
            "61369                0                1                0                0   \n",
            "2078                 1                1                0                0   \n",
            "2077                 0                1                0                0   \n",
            "2066                 1                1                0                0   \n",
            "2065                 0                1                0                0   \n",
            "...                ...              ...              ...              ...   \n",
            "19609                0                1                0                0   \n",
            "19607                0                1                0                0   \n",
            "376                  0                0                1                0   \n",
            "370                  0                0                1                0   \n",
            "364                  0                0                1                0   \n",
            "\n",
            "       severity_type 4  severity_type 5  location  fault_severity  \n",
            "61369                0                0       989               1  \n",
            "2078                 0                0      1020               2  \n",
            "2077                 0                0      1020               2  \n",
            "2066                 0                0      1020               2  \n",
            "2065                 0                0      1020               2  \n",
            "...                ...              ...       ...             ...  \n",
            "19609                0                0        32               2  \n",
            "19607                0                0        32               2  \n",
            "376                  0                0      1008               0  \n",
            "370                  0                0      1008               0  \n",
            "364                  0                0      1008               0  \n",
            "\n",
            "[61839 rows x 21 columns]\n"
          ]
        }
      ],
      "source": [
        "dff3=dff3.drop(['severity_type','resource_type'],axis=1)                        #dropping the \"severity_type\" and \"resource_type\" as for this features dummie variabbles are formed\n",
        "print(dff3)"
      ]
    },
    {
      "cell_type": "markdown",
      "source": [
        "##EDA"
      ],
      "metadata": {
        "id": "_p-LFQMxwh5v"
      }
    },
    {
      "cell_type": "code",
      "execution_count": 71,
      "metadata": {
        "colab": {
          "base_uri": "https://localhost:8080/"
        },
        "id": "S7wZHFJ-_lF7",
        "outputId": "34cfd2fc-a8b1-4cca-95ef-0185e256af90"
      },
      "outputs": [
        {
          "output_type": "stream",
          "name": "stdout",
          "text": [
            "<class 'pandas.core.frame.DataFrame'>\n",
            "Int64Index: 61839 entries, 61369 to 364\n",
            "Data columns (total 21 columns):\n",
            " #   Column            Non-Null Count  Dtype\n",
            "---  ------            --------------  -----\n",
            " 0   id                61839 non-null  int64\n",
            " 1   event_type        61839 non-null  int64\n",
            " 2   log_feature       61839 non-null  int64\n",
            " 3   volume            61839 non-null  int64\n",
            " 4   resource_type 1   61839 non-null  uint8\n",
            " 5   resource_type 10  61839 non-null  uint8\n",
            " 6   resource_type 2   61839 non-null  uint8\n",
            " 7   resource_type 3   61839 non-null  uint8\n",
            " 8   resource_type 4   61839 non-null  uint8\n",
            " 9   resource_type 5   61839 non-null  uint8\n",
            " 10  resource_type 6   61839 non-null  uint8\n",
            " 11  resource_type 7   61839 non-null  uint8\n",
            " 12  resource_type 8   61839 non-null  uint8\n",
            " 13  resource_type 9   61839 non-null  uint8\n",
            " 14  severity_type 1   61839 non-null  uint8\n",
            " 15  severity_type 2   61839 non-null  uint8\n",
            " 16  severity_type 3   61839 non-null  uint8\n",
            " 17  severity_type 4   61839 non-null  uint8\n",
            " 18  severity_type 5   61839 non-null  uint8\n",
            " 19  location          61839 non-null  int64\n",
            " 20  fault_severity    61839 non-null  int64\n",
            "dtypes: int64(6), uint8(15)\n",
            "memory usage: 4.2 MB\n"
          ]
        }
      ],
      "source": [
        "#EDA\n",
        "dff3.info()                                                                     #checking the information of each features such as (total number of non null values,and type of data)"
      ]
    },
    {
      "cell_type": "code",
      "execution_count": 72,
      "metadata": {
        "colab": {
          "base_uri": "https://localhost:8080/",
          "height": 411
        },
        "id": "zhSc1R0_j7n4",
        "outputId": "4364ae23-9dc9-48a2-beea-13bc5951b26b"
      },
      "outputs": [
        {
          "output_type": "execute_result",
          "data": {
            "text/plain": [
              "                 id    event_type   log_feature        volume  \\\n",
              "count  61839.000000  61839.000000  61839.000000  61839.000000   \n",
              "mean    9104.379469     24.887482    211.245411      8.390336   \n",
              "std     5387.274195     12.007950     94.919318     22.902491   \n",
              "min        1.000000      1.000000      1.000000      1.000000   \n",
              "25%     4353.000000     13.000000    134.000000      1.000000   \n",
              "50%     8981.000000     23.000000    228.000000      2.000000   \n",
              "75%    13664.000000     35.000000    306.000000      6.000000   \n",
              "max    18550.000000     54.000000    384.000000    877.000000   \n",
              "\n",
              "       resource_type 1  resource_type 10  resource_type 2  resource_type 3  \\\n",
              "count     61839.000000      61839.000000     61839.000000     61839.000000   \n",
              "mean          0.010463          0.007293         0.513365         0.011708   \n",
              "std           0.101751          0.085089         0.499825         0.107568   \n",
              "min           0.000000          0.000000         0.000000         0.000000   \n",
              "25%           0.000000          0.000000         0.000000         0.000000   \n",
              "50%           0.000000          0.000000         1.000000         0.000000   \n",
              "75%           0.000000          0.000000         1.000000         0.000000   \n",
              "max           1.000000          1.000000         1.000000         1.000000   \n",
              "\n",
              "       resource_type 4  resource_type 5  ...  resource_type 7  \\\n",
              "count     61839.000000     61839.000000  ...     61839.000000   \n",
              "mean          0.031129         0.001924  ...         0.046896   \n",
              "std           0.173668         0.043826  ...         0.211418   \n",
              "min           0.000000         0.000000  ...         0.000000   \n",
              "25%           0.000000         0.000000  ...         0.000000   \n",
              "50%           0.000000         0.000000  ...         0.000000   \n",
              "75%           0.000000         0.000000  ...         0.000000   \n",
              "max           1.000000         1.000000  ...         1.000000   \n",
              "\n",
              "       resource_type 8  resource_type 9  severity_type 1  severity_type 2  \\\n",
              "count     61839.000000     61839.000000     61839.000000     61839.000000   \n",
              "mean          0.323501         0.013115         0.591391         0.392309   \n",
              "std           0.467816         0.113767         0.491581         0.488269   \n",
              "min           0.000000         0.000000         0.000000         0.000000   \n",
              "25%           0.000000         0.000000         0.000000         0.000000   \n",
              "50%           0.000000         0.000000         1.000000         0.000000   \n",
              "75%           1.000000         0.000000         1.000000         1.000000   \n",
              "max           1.000000         1.000000         1.000000         1.000000   \n",
              "\n",
              "       severity_type 3  severity_type 4  severity_type 5      location  \\\n",
              "count     61839.000000     61839.000000     61839.000000  61839.000000   \n",
              "mean          0.000534         0.014877         0.000889    580.234836   \n",
              "std           0.023095         0.121063         0.029810    318.089156   \n",
              "min           0.000000         0.000000         0.000000      1.000000   \n",
              "25%           0.000000         0.000000         0.000000    304.000000   \n",
              "50%           0.000000         0.000000         0.000000    607.000000   \n",
              "75%           0.000000         0.000000         0.000000    834.000000   \n",
              "max           1.000000         1.000000         1.000000   1126.000000   \n",
              "\n",
              "       fault_severity  \n",
              "count    61839.000000  \n",
              "mean         0.549168  \n",
              "std          0.727701  \n",
              "min          0.000000  \n",
              "25%          0.000000  \n",
              "50%          0.000000  \n",
              "75%          1.000000  \n",
              "max          2.000000  \n",
              "\n",
              "[8 rows x 21 columns]"
            ],
            "text/html": [
              "\n",
              "  <div id=\"df-22cf6126-143c-4c54-ad9b-06210060d5e0\">\n",
              "    <div class=\"colab-df-container\">\n",
              "      <div>\n",
              "<style scoped>\n",
              "    .dataframe tbody tr th:only-of-type {\n",
              "        vertical-align: middle;\n",
              "    }\n",
              "\n",
              "    .dataframe tbody tr th {\n",
              "        vertical-align: top;\n",
              "    }\n",
              "\n",
              "    .dataframe thead th {\n",
              "        text-align: right;\n",
              "    }\n",
              "</style>\n",
              "<table border=\"1\" class=\"dataframe\">\n",
              "  <thead>\n",
              "    <tr style=\"text-align: right;\">\n",
              "      <th></th>\n",
              "      <th>id</th>\n",
              "      <th>event_type</th>\n",
              "      <th>log_feature</th>\n",
              "      <th>volume</th>\n",
              "      <th>resource_type 1</th>\n",
              "      <th>resource_type 10</th>\n",
              "      <th>resource_type 2</th>\n",
              "      <th>resource_type 3</th>\n",
              "      <th>resource_type 4</th>\n",
              "      <th>resource_type 5</th>\n",
              "      <th>...</th>\n",
              "      <th>resource_type 7</th>\n",
              "      <th>resource_type 8</th>\n",
              "      <th>resource_type 9</th>\n",
              "      <th>severity_type 1</th>\n",
              "      <th>severity_type 2</th>\n",
              "      <th>severity_type 3</th>\n",
              "      <th>severity_type 4</th>\n",
              "      <th>severity_type 5</th>\n",
              "      <th>location</th>\n",
              "      <th>fault_severity</th>\n",
              "    </tr>\n",
              "  </thead>\n",
              "  <tbody>\n",
              "    <tr>\n",
              "      <th>count</th>\n",
              "      <td>61839.000000</td>\n",
              "      <td>61839.000000</td>\n",
              "      <td>61839.000000</td>\n",
              "      <td>61839.000000</td>\n",
              "      <td>61839.000000</td>\n",
              "      <td>61839.000000</td>\n",
              "      <td>61839.000000</td>\n",
              "      <td>61839.000000</td>\n",
              "      <td>61839.000000</td>\n",
              "      <td>61839.000000</td>\n",
              "      <td>...</td>\n",
              "      <td>61839.000000</td>\n",
              "      <td>61839.000000</td>\n",
              "      <td>61839.000000</td>\n",
              "      <td>61839.000000</td>\n",
              "      <td>61839.000000</td>\n",
              "      <td>61839.000000</td>\n",
              "      <td>61839.000000</td>\n",
              "      <td>61839.000000</td>\n",
              "      <td>61839.000000</td>\n",
              "      <td>61839.000000</td>\n",
              "    </tr>\n",
              "    <tr>\n",
              "      <th>mean</th>\n",
              "      <td>9104.379469</td>\n",
              "      <td>24.887482</td>\n",
              "      <td>211.245411</td>\n",
              "      <td>8.390336</td>\n",
              "      <td>0.010463</td>\n",
              "      <td>0.007293</td>\n",
              "      <td>0.513365</td>\n",
              "      <td>0.011708</td>\n",
              "      <td>0.031129</td>\n",
              "      <td>0.001924</td>\n",
              "      <td>...</td>\n",
              "      <td>0.046896</td>\n",
              "      <td>0.323501</td>\n",
              "      <td>0.013115</td>\n",
              "      <td>0.591391</td>\n",
              "      <td>0.392309</td>\n",
              "      <td>0.000534</td>\n",
              "      <td>0.014877</td>\n",
              "      <td>0.000889</td>\n",
              "      <td>580.234836</td>\n",
              "      <td>0.549168</td>\n",
              "    </tr>\n",
              "    <tr>\n",
              "      <th>std</th>\n",
              "      <td>5387.274195</td>\n",
              "      <td>12.007950</td>\n",
              "      <td>94.919318</td>\n",
              "      <td>22.902491</td>\n",
              "      <td>0.101751</td>\n",
              "      <td>0.085089</td>\n",
              "      <td>0.499825</td>\n",
              "      <td>0.107568</td>\n",
              "      <td>0.173668</td>\n",
              "      <td>0.043826</td>\n",
              "      <td>...</td>\n",
              "      <td>0.211418</td>\n",
              "      <td>0.467816</td>\n",
              "      <td>0.113767</td>\n",
              "      <td>0.491581</td>\n",
              "      <td>0.488269</td>\n",
              "      <td>0.023095</td>\n",
              "      <td>0.121063</td>\n",
              "      <td>0.029810</td>\n",
              "      <td>318.089156</td>\n",
              "      <td>0.727701</td>\n",
              "    </tr>\n",
              "    <tr>\n",
              "      <th>min</th>\n",
              "      <td>1.000000</td>\n",
              "      <td>1.000000</td>\n",
              "      <td>1.000000</td>\n",
              "      <td>1.000000</td>\n",
              "      <td>0.000000</td>\n",
              "      <td>0.000000</td>\n",
              "      <td>0.000000</td>\n",
              "      <td>0.000000</td>\n",
              "      <td>0.000000</td>\n",
              "      <td>0.000000</td>\n",
              "      <td>...</td>\n",
              "      <td>0.000000</td>\n",
              "      <td>0.000000</td>\n",
              "      <td>0.000000</td>\n",
              "      <td>0.000000</td>\n",
              "      <td>0.000000</td>\n",
              "      <td>0.000000</td>\n",
              "      <td>0.000000</td>\n",
              "      <td>0.000000</td>\n",
              "      <td>1.000000</td>\n",
              "      <td>0.000000</td>\n",
              "    </tr>\n",
              "    <tr>\n",
              "      <th>25%</th>\n",
              "      <td>4353.000000</td>\n",
              "      <td>13.000000</td>\n",
              "      <td>134.000000</td>\n",
              "      <td>1.000000</td>\n",
              "      <td>0.000000</td>\n",
              "      <td>0.000000</td>\n",
              "      <td>0.000000</td>\n",
              "      <td>0.000000</td>\n",
              "      <td>0.000000</td>\n",
              "      <td>0.000000</td>\n",
              "      <td>...</td>\n",
              "      <td>0.000000</td>\n",
              "      <td>0.000000</td>\n",
              "      <td>0.000000</td>\n",
              "      <td>0.000000</td>\n",
              "      <td>0.000000</td>\n",
              "      <td>0.000000</td>\n",
              "      <td>0.000000</td>\n",
              "      <td>0.000000</td>\n",
              "      <td>304.000000</td>\n",
              "      <td>0.000000</td>\n",
              "    </tr>\n",
              "    <tr>\n",
              "      <th>50%</th>\n",
              "      <td>8981.000000</td>\n",
              "      <td>23.000000</td>\n",
              "      <td>228.000000</td>\n",
              "      <td>2.000000</td>\n",
              "      <td>0.000000</td>\n",
              "      <td>0.000000</td>\n",
              "      <td>1.000000</td>\n",
              "      <td>0.000000</td>\n",
              "      <td>0.000000</td>\n",
              "      <td>0.000000</td>\n",
              "      <td>...</td>\n",
              "      <td>0.000000</td>\n",
              "      <td>0.000000</td>\n",
              "      <td>0.000000</td>\n",
              "      <td>1.000000</td>\n",
              "      <td>0.000000</td>\n",
              "      <td>0.000000</td>\n",
              "      <td>0.000000</td>\n",
              "      <td>0.000000</td>\n",
              "      <td>607.000000</td>\n",
              "      <td>0.000000</td>\n",
              "    </tr>\n",
              "    <tr>\n",
              "      <th>75%</th>\n",
              "      <td>13664.000000</td>\n",
              "      <td>35.000000</td>\n",
              "      <td>306.000000</td>\n",
              "      <td>6.000000</td>\n",
              "      <td>0.000000</td>\n",
              "      <td>0.000000</td>\n",
              "      <td>1.000000</td>\n",
              "      <td>0.000000</td>\n",
              "      <td>0.000000</td>\n",
              "      <td>0.000000</td>\n",
              "      <td>...</td>\n",
              "      <td>0.000000</td>\n",
              "      <td>1.000000</td>\n",
              "      <td>0.000000</td>\n",
              "      <td>1.000000</td>\n",
              "      <td>1.000000</td>\n",
              "      <td>0.000000</td>\n",
              "      <td>0.000000</td>\n",
              "      <td>0.000000</td>\n",
              "      <td>834.000000</td>\n",
              "      <td>1.000000</td>\n",
              "    </tr>\n",
              "    <tr>\n",
              "      <th>max</th>\n",
              "      <td>18550.000000</td>\n",
              "      <td>54.000000</td>\n",
              "      <td>384.000000</td>\n",
              "      <td>877.000000</td>\n",
              "      <td>1.000000</td>\n",
              "      <td>1.000000</td>\n",
              "      <td>1.000000</td>\n",
              "      <td>1.000000</td>\n",
              "      <td>1.000000</td>\n",
              "      <td>1.000000</td>\n",
              "      <td>...</td>\n",
              "      <td>1.000000</td>\n",
              "      <td>1.000000</td>\n",
              "      <td>1.000000</td>\n",
              "      <td>1.000000</td>\n",
              "      <td>1.000000</td>\n",
              "      <td>1.000000</td>\n",
              "      <td>1.000000</td>\n",
              "      <td>1.000000</td>\n",
              "      <td>1126.000000</td>\n",
              "      <td>2.000000</td>\n",
              "    </tr>\n",
              "  </tbody>\n",
              "</table>\n",
              "<p>8 rows × 21 columns</p>\n",
              "</div>\n",
              "      <button class=\"colab-df-convert\" onclick=\"convertToInteractive('df-22cf6126-143c-4c54-ad9b-06210060d5e0')\"\n",
              "              title=\"Convert this dataframe to an interactive table.\"\n",
              "              style=\"display:none;\">\n",
              "        \n",
              "  <svg xmlns=\"http://www.w3.org/2000/svg\" height=\"24px\"viewBox=\"0 0 24 24\"\n",
              "       width=\"24px\">\n",
              "    <path d=\"M0 0h24v24H0V0z\" fill=\"none\"/>\n",
              "    <path d=\"M18.56 5.44l.94 2.06.94-2.06 2.06-.94-2.06-.94-.94-2.06-.94 2.06-2.06.94zm-11 1L8.5 8.5l.94-2.06 2.06-.94-2.06-.94L8.5 2.5l-.94 2.06-2.06.94zm10 10l.94 2.06.94-2.06 2.06-.94-2.06-.94-.94-2.06-.94 2.06-2.06.94z\"/><path d=\"M17.41 7.96l-1.37-1.37c-.4-.4-.92-.59-1.43-.59-.52 0-1.04.2-1.43.59L10.3 9.45l-7.72 7.72c-.78.78-.78 2.05 0 2.83L4 21.41c.39.39.9.59 1.41.59.51 0 1.02-.2 1.41-.59l7.78-7.78 2.81-2.81c.8-.78.8-2.07 0-2.86zM5.41 20L4 18.59l7.72-7.72 1.47 1.35L5.41 20z\"/>\n",
              "  </svg>\n",
              "      </button>\n",
              "      \n",
              "  <style>\n",
              "    .colab-df-container {\n",
              "      display:flex;\n",
              "      flex-wrap:wrap;\n",
              "      gap: 12px;\n",
              "    }\n",
              "\n",
              "    .colab-df-convert {\n",
              "      background-color: #E8F0FE;\n",
              "      border: none;\n",
              "      border-radius: 50%;\n",
              "      cursor: pointer;\n",
              "      display: none;\n",
              "      fill: #1967D2;\n",
              "      height: 32px;\n",
              "      padding: 0 0 0 0;\n",
              "      width: 32px;\n",
              "    }\n",
              "\n",
              "    .colab-df-convert:hover {\n",
              "      background-color: #E2EBFA;\n",
              "      box-shadow: 0px 1px 2px rgba(60, 64, 67, 0.3), 0px 1px 3px 1px rgba(60, 64, 67, 0.15);\n",
              "      fill: #174EA6;\n",
              "    }\n",
              "\n",
              "    [theme=dark] .colab-df-convert {\n",
              "      background-color: #3B4455;\n",
              "      fill: #D2E3FC;\n",
              "    }\n",
              "\n",
              "    [theme=dark] .colab-df-convert:hover {\n",
              "      background-color: #434B5C;\n",
              "      box-shadow: 0px 1px 3px 1px rgba(0, 0, 0, 0.15);\n",
              "      filter: drop-shadow(0px 1px 2px rgba(0, 0, 0, 0.3));\n",
              "      fill: #FFFFFF;\n",
              "    }\n",
              "  </style>\n",
              "\n",
              "      <script>\n",
              "        const buttonEl =\n",
              "          document.querySelector('#df-22cf6126-143c-4c54-ad9b-06210060d5e0 button.colab-df-convert');\n",
              "        buttonEl.style.display =\n",
              "          google.colab.kernel.accessAllowed ? 'block' : 'none';\n",
              "\n",
              "        async function convertToInteractive(key) {\n",
              "          const element = document.querySelector('#df-22cf6126-143c-4c54-ad9b-06210060d5e0');\n",
              "          const dataTable =\n",
              "            await google.colab.kernel.invokeFunction('convertToInteractive',\n",
              "                                                     [key], {});\n",
              "          if (!dataTable) return;\n",
              "\n",
              "          const docLinkHtml = 'Like what you see? Visit the ' +\n",
              "            '<a target=\"_blank\" href=https://colab.research.google.com/notebooks/data_table.ipynb>data table notebook</a>'\n",
              "            + ' to learn more about interactive tables.';\n",
              "          element.innerHTML = '';\n",
              "          dataTable['output_type'] = 'display_data';\n",
              "          await google.colab.output.renderOutput(dataTable, element);\n",
              "          const docLink = document.createElement('div');\n",
              "          docLink.innerHTML = docLinkHtml;\n",
              "          element.appendChild(docLink);\n",
              "        }\n",
              "      </script>\n",
              "    </div>\n",
              "  </div>\n",
              "  "
            ]
          },
          "metadata": {},
          "execution_count": 72
        }
      ],
      "source": [
        "dff3.describe()                                                                 #checking the informations such as (count,mean,std.min,25%,50%,75%and max of each features)"
      ]
    },
    {
      "cell_type": "code",
      "execution_count": 73,
      "metadata": {
        "colab": {
          "base_uri": "https://localhost:8080/"
        },
        "id": "v2FSUe3yB_K-",
        "outputId": "55648c3c-6c82-42db-f1ee-fb99354a6b67"
      },
      "outputs": [
        {
          "output_type": "execute_result",
          "data": {
            "text/plain": [
              "0    36597\n",
              "1    16524\n",
              "2     8718\n",
              "Name: fault_severity, dtype: int64"
            ]
          },
          "metadata": {},
          "execution_count": 73
        }
      ],
      "source": [
        "dff3['fault_severity'].value_counts()                                           #data is imbalanced"
      ]
    },
    {
      "cell_type": "code",
      "execution_count": 74,
      "metadata": {
        "colab": {
          "base_uri": "https://localhost:8080/"
        },
        "id": "-bBsf7Wta-ev",
        "outputId": "31988a82-cc51-426b-eee3-45537f704e02"
      },
      "outputs": [
        {
          "output_type": "execute_result",
          "data": {
            "text/plain": [
              "(61839, 21)"
            ]
          },
          "metadata": {},
          "execution_count": 74
        }
      ],
      "source": [
        "dff3.shape"
      ]
    },
    {
      "cell_type": "code",
      "execution_count": 75,
      "metadata": {
        "colab": {
          "base_uri": "https://localhost:8080/"
        },
        "id": "KbcVnxpmmJgS",
        "outputId": "e4a77543-10ee-4ee9-c6d4-55a5306c30e2"
      },
      "outputs": [
        {
          "output_type": "execute_result",
          "data": {
            "text/plain": [
              "id                 -0.045528\n",
              "event_type         -0.262184\n",
              "log_feature        -0.208400\n",
              "volume             -0.027196\n",
              "resource_type 1     0.066544\n",
              "resource_type 10    0.005569\n",
              "resource_type 2    -0.335982\n",
              "resource_type 3     0.048632\n",
              "resource_type 4     0.081235\n",
              "resource_type 5     0.087544\n",
              "resource_type 6     0.098407\n",
              "resource_type 7     0.059011\n",
              "resource_type 8     0.221832\n",
              "resource_type 9     0.016139\n",
              "severity_type 1     0.365011\n",
              "severity_type 2    -0.354763\n",
              "severity_type 3    -0.017438\n",
              "severity_type 4    -0.045933\n",
              "severity_type 5    -0.008352\n",
              "location            0.270390\n",
              "fault_severity      1.000000\n",
              "Name: fault_severity, dtype: float64"
            ]
          },
          "metadata": {},
          "execution_count": 75
        }
      ],
      "source": [
        "dff3.corr()['fault_severity']                                                   #checking the correlation of each features with the \"fault_severity\" features"
      ]
    },
    {
      "cell_type": "code",
      "execution_count": 76,
      "metadata": {
        "colab": {
          "base_uri": "https://localhost:8080/"
        },
        "id": "JPiLy0spFy60",
        "outputId": "ba36ef82-0e3a-4fdd-e917-cae85d468765"
      },
      "outputs": [
        {
          "output_type": "execute_result",
          "data": {
            "text/plain": [
              "array([1, 2, 0])"
            ]
          },
          "metadata": {},
          "execution_count": 76
        }
      ],
      "source": [
        "dff3['fault_severity'].unique()                                                 #checking the unique values in the 'fault_severity'"
      ]
    },
    {
      "cell_type": "code",
      "execution_count": null,
      "metadata": {
        "colab": {
          "base_uri": "https://localhost:8080/",
          "height": 388
        },
        "id": "EQcoCzoh4N9_",
        "outputId": "c79b0cf9-b49b-4a6c-a601-ecf601efc401"
      },
      "outputs": [
        {
          "output_type": "stream",
          "name": "stderr",
          "text": [
            "/usr/local/lib/python3.7/dist-packages/sklearn/manifold/_t_sne.py:783: FutureWarning: The default initialization in TSNE will change from 'random' to 'pca' in 1.2.\n",
            "  FutureWarning,\n",
            "/usr/local/lib/python3.7/dist-packages/seaborn/_decorators.py:43: FutureWarning: Pass the following variables as keyword args: x, y. From version 0.12, the only valid positional argument will be `data`, and passing other arguments without an explicit keyword will result in an error or misinterpretation.\n",
            "  FutureWarning\n"
          ]
        },
        {
          "output_type": "execute_result",
          "data": {
            "text/plain": [
              "[Text(0.5, 1.0, 'tsne')]"
            ]
          },
          "metadata": {},
          "execution_count": 28
        },
        {
          "output_type": "display_data",
          "data": {
            "text/plain": [
              "<Figure size 432x288 with 1 Axes>"
            ],
            "image/png": "[encoded data removed]"
          },
          "metadata": {
            "needs_background": "light"
          }
        }
      ],
      "source": [
        "#TSNE                                                                           #https://www.datatechnotes.com/2020/11/tsne-visualization-example-in-python.html\n",
        "from sklearn.manifold import TSNE                                               #visualization of heigh dimentional data to low dimentional space by tunning the\"perplexity,learning_rate,n_iter\"\n",
        "import seaborn as sns\n",
        "xtsne=TSNE(perplexity=200,learning_rate=1000,n_iter=6000)\n",
        "results=xtsne.fit_transform(dff3.drop(['fault_severity'], axis=1))\n",
        "vis_x = results[:, 0]\n",
        "vis_y = results[:, 1]\n",
        "data_y =dff3['fault_severity']\n",
        "\n",
        "sns.scatterplot(vis_x,vis_y, hue=data_y.tolist(),\n",
        "                palette=sns.color_palette(\"hls\", 3),\n",
        "                data=dff3).set(title=\"tsne\")"
      ]
    },
    {
      "cell_type": "markdown",
      "source": [
        "From TSNE at perplexity=200 in some region class0 cluster is forming, at some region class 1 cluster is forming and some region class2 cluster is forming with some overlapping.\n",
        "\n",
        "mostly classes are overlapping but in some region clustering of classes are forming."
      ],
      "metadata": {
        "id": "p5SxWHMYE2TJ"
      }
    },
    {
      "cell_type": "code",
      "execution_count": null,
      "metadata": {
        "colab": {
          "base_uri": "https://localhost:8080/",
          "height": 544
        },
        "id": "MD7h04tQPzSm",
        "outputId": "48cbab13-eb93-442f-ec24-17ed02b3cbfb"
      },
      "outputs": [
        {
          "output_type": "stream",
          "name": "stderr",
          "text": [
            "/usr/local/lib/python3.7/dist-packages/seaborn/axisgrid.py:337: UserWarning: The `size` parameter has been renamed to `height`; please update your code.\n",
            "  warnings.warn(msg, UserWarning)\n",
            "/usr/local/lib/python3.7/dist-packages/seaborn/distributions.py:2619: FutureWarning: `distplot` is a deprecated function and will be removed in a future version. Please adapt your code to use either `displot` (a figure-level function with similar flexibility) or `histplot` (an axes-level function for histograms).\n",
            "  warnings.warn(msg, FutureWarning)\n",
            "/usr/local/lib/python3.7/dist-packages/seaborn/distributions.py:2619: FutureWarning: `distplot` is a deprecated function and will be removed in a future version. Please adapt your code to use either `displot` (a figure-level function with similar flexibility) or `histplot` (an axes-level function for histograms).\n",
            "  warnings.warn(msg, FutureWarning)\n",
            "/usr/local/lib/python3.7/dist-packages/seaborn/distributions.py:2619: FutureWarning: `distplot` is a deprecated function and will be removed in a future version. Please adapt your code to use either `displot` (a figure-level function with similar flexibility) or `histplot` (an axes-level function for histograms).\n",
            "  warnings.warn(msg, FutureWarning)\n"
          ]
        },
        {
          "output_type": "display_data",
          "data": {
            "text/plain": [
              "<Figure size 436x360 with 1 Axes>"
            ],
            "image/png": "[encoded data removed]"
          },
          "metadata": {
            "needs_background": "light"
          }
        }
      ],
      "source": [
        "sns.FacetGrid(dff3, hue=\"fault_severity\", size=5) \\\n",
        "   .map(sns.distplot, \"event_type\") \\\n",
        "   .add_legend();\n",
        "plt.title('Histogram of event_type') \n",
        "plt.show();"
      ]
    },
    {
      "cell_type": "markdown",
      "metadata": {
        "id": "O7KWwu5GUGae"
      },
      "source": [
        "from this observation,density of points at lower event_type shows fault_severity(2) more and as the event_type increases btw(30 and 40) fault_severity(0) is more."
      ]
    },
    {
      "cell_type": "code",
      "execution_count": null,
      "metadata": {
        "colab": {
          "base_uri": "https://localhost:8080/",
          "height": 543
        },
        "id": "BkBBc5SMQSg7",
        "outputId": "7606fd37-1c79-4978-d502-22414e60119b"
      },
      "outputs": [
        {
          "output_type": "stream",
          "name": "stderr",
          "text": [
            "/usr/local/lib/python3.7/dist-packages/seaborn/axisgrid.py:337: UserWarning: The `size` parameter has been renamed to `height`; please update your code.\n",
            "  warnings.warn(msg, UserWarning)\n",
            "/usr/local/lib/python3.7/dist-packages/seaborn/distributions.py:2619: FutureWarning: `distplot` is a deprecated function and will be removed in a future version. Please adapt your code to use either `displot` (a figure-level function with similar flexibility) or `histplot` (an axes-level function for histograms).\n",
            "  warnings.warn(msg, FutureWarning)\n",
            "/usr/local/lib/python3.7/dist-packages/seaborn/distributions.py:2619: FutureWarning: `distplot` is a deprecated function and will be removed in a future version. Please adapt your code to use either `displot` (a figure-level function with similar flexibility) or `histplot` (an axes-level function for histograms).\n",
            "  warnings.warn(msg, FutureWarning)\n",
            "/usr/local/lib/python3.7/dist-packages/seaborn/distributions.py:2619: FutureWarning: `distplot` is a deprecated function and will be removed in a future version. Please adapt your code to use either `displot` (a figure-level function with similar flexibility) or `histplot` (an axes-level function for histograms).\n",
            "  warnings.warn(msg, FutureWarning)\n"
          ]
        },
        {
          "output_type": "display_data",
          "data": {
            "text/plain": [
              "<Figure size 436x360 with 1 Axes>"
            ],
            "image/png": "[encoded data removed]"
          },
          "metadata": {
            "needs_background": "light"
          }
        }
      ],
      "source": [
        "sns.FacetGrid(dff3, hue=\"fault_severity\", size=5) \\\n",
        "   .map(sns.distplot, \"log_feature\") \\\n",
        "   .add_legend();\n",
        "plt.title('Histogram of log_feature') \n",
        "plt.show();"
      ]
    },
    {
      "cell_type": "markdown",
      "metadata": {
        "id": "eR2hG__iWzx2"
      },
      "source": [
        "fault severity (0,1,2) are overlapping more but density of log feature points at(300)has (fault_severity 0) more."
      ]
    },
    {
      "cell_type": "code",
      "execution_count": null,
      "metadata": {
        "colab": {
          "base_uri": "https://localhost:8080/",
          "height": 544
        },
        "id": "JxkdoVKFQk09",
        "outputId": "91c86beb-79f4-414b-b02d-254cf02944be"
      },
      "outputs": [
        {
          "output_type": "stream",
          "name": "stderr",
          "text": [
            "/usr/local/lib/python3.7/dist-packages/seaborn/axisgrid.py:337: UserWarning: The `size` parameter has been renamed to `height`; please update your code.\n",
            "  warnings.warn(msg, UserWarning)\n",
            "/usr/local/lib/python3.7/dist-packages/seaborn/distributions.py:2619: FutureWarning: `distplot` is a deprecated function and will be removed in a future version. Please adapt your code to use either `displot` (a figure-level function with similar flexibility) or `histplot` (an axes-level function for histograms).\n",
            "  warnings.warn(msg, FutureWarning)\n",
            "/usr/local/lib/python3.7/dist-packages/seaborn/distributions.py:2619: FutureWarning: `distplot` is a deprecated function and will be removed in a future version. Please adapt your code to use either `displot` (a figure-level function with similar flexibility) or `histplot` (an axes-level function for histograms).\n",
            "  warnings.warn(msg, FutureWarning)\n",
            "/usr/local/lib/python3.7/dist-packages/seaborn/distributions.py:2619: FutureWarning: `distplot` is a deprecated function and will be removed in a future version. Please adapt your code to use either `displot` (a figure-level function with similar flexibility) or `histplot` (an axes-level function for histograms).\n",
            "  warnings.warn(msg, FutureWarning)\n"
          ]
        },
        {
          "output_type": "display_data",
          "data": {
            "text/plain": [
              "<Figure size 436x360 with 1 Axes>"
            ],
            "image/png": "[encoded data removed]"
          },
          "metadata": {
            "needs_background": "light"
          }
        }
      ],
      "source": [
        "sns.FacetGrid(dff3, hue=\"fault_severity\", size=5) \\\n",
        "   .map(sns.distplot,'volume') \\\n",
        "   .add_legend();\n",
        "plt.title('Histogram of volume') \n",
        "plt.show();"
      ]
    },
    {
      "cell_type": "markdown",
      "metadata": {
        "id": "tGUbYHwJYDL6"
      },
      "source": [
        "density of points at lesser volume has fault_severity (1) high."
      ]
    },
    {
      "cell_type": "markdown",
      "metadata": {
        "id": "culvq2a3aGgz"
      },
      "source": [
        "density of points at lesser resource_type has higher fault_severity(0).also fault_severity(0,1,2) are less overlapping so this feature is useful in predicting the output."
      ]
    },
    {
      "cell_type": "markdown",
      "metadata": {
        "id": "EjAl4ugqyhuT"
      },
      "source": [
        "density of points at lower severity type has fault severit(2) is more."
      ]
    },
    {
      "cell_type": "code",
      "execution_count": null,
      "metadata": {
        "colab": {
          "base_uri": "https://localhost:8080/",
          "height": 544
        },
        "id": "295UL2wPySRo",
        "outputId": "ff614cd0-ab4b-4bc8-9329-fd2db672103d"
      },
      "outputs": [
        {
          "output_type": "stream",
          "name": "stderr",
          "text": [
            "/usr/local/lib/python3.7/dist-packages/seaborn/axisgrid.py:337: UserWarning: The `size` parameter has been renamed to `height`; please update your code.\n",
            "  warnings.warn(msg, UserWarning)\n",
            "/usr/local/lib/python3.7/dist-packages/seaborn/distributions.py:2619: FutureWarning: `distplot` is a deprecated function and will be removed in a future version. Please adapt your code to use either `displot` (a figure-level function with similar flexibility) or `histplot` (an axes-level function for histograms).\n",
            "  warnings.warn(msg, FutureWarning)\n",
            "/usr/local/lib/python3.7/dist-packages/seaborn/distributions.py:2619: FutureWarning: `distplot` is a deprecated function and will be removed in a future version. Please adapt your code to use either `displot` (a figure-level function with similar flexibility) or `histplot` (an axes-level function for histograms).\n",
            "  warnings.warn(msg, FutureWarning)\n",
            "/usr/local/lib/python3.7/dist-packages/seaborn/distributions.py:2619: FutureWarning: `distplot` is a deprecated function and will be removed in a future version. Please adapt your code to use either `displot` (a figure-level function with similar flexibility) or `histplot` (an axes-level function for histograms).\n",
            "  warnings.warn(msg, FutureWarning)\n"
          ]
        },
        {
          "output_type": "display_data",
          "data": {
            "text/plain": [
              "<Figure size 436x360 with 1 Axes>"
            ],
            "image/png": "[encoded data removed]"
          },
          "metadata": {
            "needs_background": "light"
          }
        }
      ],
      "source": [
        "sns.FacetGrid(dff3, hue=\"fault_severity\", size=5) \\\n",
        "   .map(sns.distplot,'location') \\\n",
        "   .add_legend();\n",
        "plt.title('Histogram of location') \n",
        "plt.show();"
      ]
    },
    {
      "cell_type": "code",
      "execution_count": 77,
      "metadata": {
        "colab": {
          "base_uri": "https://localhost:8080/",
          "height": 296
        },
        "id": "PcHHely_Vzvy",
        "outputId": "9db1ddc1-b4f2-458b-c58a-01cee676d173"
      },
      "outputs": [
        {
          "output_type": "display_data",
          "data": {
            "text/plain": [
              "<Figure size 432x288 with 1 Axes>"
            ],
            "image/png": "[encoded data removed]"
          },
          "metadata": {
            "needs_background": "light"
          }
        }
      ],
      "source": [
        "#BOXPLOT are used to check the outliers \n",
        "import seaborn as sns\n",
        "import matplotlib.pyplot as plt \n",
        "import numpy as np                                                              #boxplot representation of feature log_feature\n",
        "ax = sns.boxplot(x=\"fault_severity\", y=\"log_feature\", data=dff3)                \n",
        "plt.title(\"boxplot of logfile features\")\n",
        "plt.show()"
      ]
    },
    {
      "cell_type": "code",
      "execution_count": 78,
      "metadata": {
        "id": "L3Vj5jKDqMGs"
      },
      "outputs": [],
      "source": [
        "                                                                                #https://www.geeksforgeeks.org/detect-and-remove-the-outliers-using-python/\n",
        "Q1 = np.percentile(dff3['log_feature'], 25,interpolation = 'midpoint')          #to detect and remove outliers\n",
        "Q3 = np.percentile(dff3['log_feature'], 75,interpolation = 'midpoint')\n",
        "IQR = Q3 - Q1\n",
        "upper = np.where(dff3['log_feature'] >= (Q3+1.5*IQR))\n",
        "# Lower bound\n",
        "lower = np.where(dff3['log_feature'] <= (Q1-1.5*IQR))                                    #dropping the points which above upper bound and which are below lower bound\n",
        "dff3.drop(upper[0],inplace=True)\n",
        "dff3.drop(lower[0],inplace=True)"
      ]
    },
    {
      "cell_type": "code",
      "source": [
        "ax = sns.boxplot(x=\"fault_severity\", y=\"id\", data=dff3)                \n",
        "plt.title(\"boxplot of id features\")\n",
        "plt.show()"
      ],
      "metadata": {
        "colab": {
          "base_uri": "https://localhost:8080/",
          "height": 296
        },
        "id": "LHa8tLc_xSIq",
        "outputId": "8dd0bd68-a3b2-4120-bd85-eb1a9e5023a2"
      },
      "execution_count": 79,
      "outputs": [
        {
          "output_type": "display_data",
          "data": {
            "text/plain": [
              "<Figure size 432x288 with 1 Axes>"
            ],
            "image/png": "[encoded data removed]"
          },
          "metadata": {
            "needs_background": "light"
          }
        }
      ]
    },
    {
      "cell_type": "code",
      "source": [
        "Q1 = np.percentile(dff3['id'], 25,interpolation = 'midpoint')                   #to detect and remove outliers\n",
        "Q3 = np.percentile(dff3['id'], 75,interpolation = 'midpoint')\n",
        "IQR = Q3 - Q1\n",
        "upper = np.where(dff3['id'] >= (Q3+1.5*IQR))\n",
        "# Lower bound\n",
        "lower = np.where(dff3['id'] <= (Q1-1.5*IQR))                                    #dropping the points which above upper bound and which are below lower bound\n",
        "dff3.drop(upper[0],inplace=True)\n",
        "dff3.drop(lower[0],inplace=True)"
      ],
      "metadata": {
        "id": "M7OcuThexSXd"
      },
      "execution_count": 85,
      "outputs": []
    },
    {
      "cell_type": "code",
      "execution_count": 86,
      "metadata": {
        "colab": {
          "base_uri": "https://localhost:8080/",
          "height": 296
        },
        "id": "fXU3NHa9WGed",
        "outputId": "824c7b7f-694a-44f4-a714-e3cdb79501ec"
      },
      "outputs": [
        {
          "output_type": "display_data",
          "data": {
            "text/plain": [
              "<Figure size 432x288 with 1 Axes>"
            ],
            "image/png": "[encoded data removed]"
          },
          "metadata": {
            "needs_background": "light"
          }
        }
      ],
      "source": [
        "ax = sns.boxplot(x=\"fault_severity\", y=\"event_type\", data=dff3)                 ##boxplot representation of feature event_type\n",
        "plt.title(\"boxplot of event_type features\")\n",
        "plt.show()"
      ]
    },
    {
      "cell_type": "code",
      "execution_count": 87,
      "metadata": {
        "id": "QfPDkhKhzIEr"
      },
      "outputs": [],
      "source": [
        "Q1 = np.percentile(dff3['event_type'], 25,interpolation = 'midpoint')\n",
        "Q3 = np.percentile(dff3['event_type'], 75, interpolation = 'midpoint')\n",
        "IQR = Q3 - Q1\n",
        "upper = np.where(dff3['event_type'] >= (Q3+1.5*IQR))\n",
        "# Lower bound\n",
        "lower = np.where(dff3['event_type'] <= (Q1-1.5*IQR))                            #dropping the points which above upper bound and which are below lower bound\n",
        "dff3.drop(upper[0],inplace=True)\n",
        "dff3.drop(lower[0],inplace=True)"
      ]
    },
    {
      "cell_type": "code",
      "execution_count": 83,
      "metadata": {
        "colab": {
          "base_uri": "https://localhost:8080/",
          "height": 296
        },
        "id": "krE05o4RWabY",
        "outputId": "99b18782-7807-4ed3-d520-723f9cfcc1b6"
      },
      "outputs": [
        {
          "output_type": "display_data",
          "data": {
            "text/plain": [
              "<Figure size 432x288 with 1 Axes>"
            ],
            "image/png": "[encoded data removed]"
          },
          "metadata": {
            "needs_background": "light"
          }
        }
      ],
      "source": [
        "ax = sns.boxplot(x=\"fault_severity\", y=\"volume\", data=dff3)                     #boxplot representation of feature location\n",
        "plt.title(\"boxplot of volume features\")\n",
        "plt.show()"
      ]
    },
    {
      "cell_type": "code",
      "source": [
        "Q1 = np.percentile(dff3['event_type'], 25,\n",
        "                   interpolation = 'midpoint')\n",
        " \n",
        "Q3 = np.percentile(dff3['event_type'], 75,\n",
        "                   interpolation = 'midpoint')\n",
        "IQR = Q3 - Q1\n",
        "\n",
        "upper = np.where(dff3['event_type'] >= (Q3+1.5*IQR))\n",
        "\n",
        "# Lower bound\n",
        "lower = np.where(dff3['event_type'] <= (Q1-1.5*IQR))                            #dropping the points which above upper bound and which are below lower bound\n",
        "dff3.drop(upper[0],inplace=True)\n",
        "dff3.drop(lower[0],inplace=True)"
      ],
      "metadata": {
        "id": "PvUlqTOrzTuP"
      },
      "execution_count": null,
      "outputs": []
    },
    {
      "cell_type": "code",
      "execution_count": null,
      "metadata": {
        "colab": {
          "base_uri": "https://localhost:8080/",
          "height": 296
        },
        "id": "257WahSrWeBz",
        "outputId": "2cb5fe2e-4e2a-4129-c19c-afab98b7fe38"
      },
      "outputs": [
        {
          "output_type": "display_data",
          "data": {
            "text/plain": [
              "<Figure size 432x288 with 1 Axes>"
            ],
            "image/png": "[encoded data removed]"
          },
          "metadata": {
            "needs_background": "light"
          }
        }
      ],
      "source": [
        "ax = sns.boxplot(x=\"fault_severity\", y=\"location\", data=dff3)                   #boxplot representation of feature location\n",
        "plt.title(\"boxplot of location features\")\n",
        "plt.show()"
      ]
    },
    {
      "cell_type": "code",
      "execution_count": null,
      "metadata": {
        "id": "qhh8PSFO1Kw1"
      },
      "outputs": [],
      "source": [
        "Q1 = np.percentile(dff3['location'], 25,\n",
        "                   interpolation = 'midpoint')\n",
        " \n",
        "Q3 = np.percentile(dff3['location'], 75,\n",
        "                   interpolation = 'midpoint')\n",
        "IQR = Q3 - Q1\n",
        "\n",
        "upper = np.where(dff3['location'] >= (Q3+1.5*IQR))\n",
        "# Lower bound\n",
        "lower = np.where(dff3['location'] <= (Q1-1.5*IQR))                              ##dropping the points which above upper bound and which are below lower bound\n",
        "dff3.drop(upper[0], inplace = True)\n",
        "dff3.drop(lower[0], inplace = True)"
      ]
    },
    {
      "cell_type": "code",
      "execution_count": 88,
      "metadata": {
        "colab": {
          "base_uri": "https://localhost:8080/",
          "height": 284
        },
        "id": "ENaJMaEtXMTn",
        "outputId": "bd7c6ae7-b648-42fd-c1e9-68135cb92671"
      },
      "outputs": [
        {
          "output_type": "display_data",
          "data": {
            "text/plain": [
              "<Figure size 432x288 with 1 Axes>"
            ],
            "image/png": "[encoded data removed]"
          },
          "metadata": {
            "needs_background": "light"
          }
        }
      ],
      "source": [
        "import numpy as np                                                              #distribution of fault_severity\n",
        "total = len(dff3)*1.\n",
        "ax=sns.countplot(x=\"fault_severity\", data=dff3)\n",
        "for p in ax.patches:\n",
        "        ax.annotate('{:.1f}%'.format(100*p.get_height()/total), (p.get_x()+0.1, p.get_height()+5))\n",
        "\n",
        "#put 11 ticks (therefore 10 steps), from 0 to the total number of rows in the dataframe\n",
        "ax.yaxis.set_ticks(np.linspace(0, total, 11))\n",
        "\n",
        "#adjust the ticklabel to the desired format, without changing the position of the ticks. \n",
        "ax.set_yticklabels(map('{:.1f}%'.format, 100*ax.yaxis.get_majorticklocs()/total))\n",
        "plt.show()"
      ]
    },
    {
      "cell_type": "markdown",
      "source": [
        "from the above graph it is a Multiclass classification with imbalanced data"
      ],
      "metadata": {
        "id": "OduU5PMTCroE"
      }
    },
    {
      "cell_type": "code",
      "execution_count": 89,
      "metadata": {
        "colab": {
          "base_uri": "https://localhost:8080/"
        },
        "id": "dzmUelehnEzI",
        "outputId": "aadffd98-141b-49de-cad2-ec17bbcc7380"
      },
      "outputs": [
        {
          "output_type": "stream",
          "name": "stdout",
          "text": [
            "          id  event_type  log_feature  volume  resource_type 1  \\\n",
            "61369   2123           2            1       1                0   \n",
            "2078   13382          28            1       1                0   \n",
            "2077   13382          28            1       1                0   \n",
            "2066   13382           2            1       1                0   \n",
            "2065   13382           2            1       1                0   \n",
            "...      ...         ...          ...     ...              ...   \n",
            "19609   7378          20          383       1                0   \n",
            "19607   7378          20          383       1                0   \n",
            "376     4630           1          384       2                0   \n",
            "370     4630          11          384       2                0   \n",
            "364     4630          15          384       2                0   \n",
            "\n",
            "       resource_type 10  resource_type 2  resource_type 3  resource_type 4  \\\n",
            "61369                 0                0                0                0   \n",
            "2078                  0                0                0                0   \n",
            "2077                  0                0                0                0   \n",
            "2066                  0                0                0                0   \n",
            "2065                  0                0                0                0   \n",
            "...                 ...              ...              ...              ...   \n",
            "19609                 0                0                0                0   \n",
            "19607                 0                0                1                0   \n",
            "376                   0                0                0                0   \n",
            "370                   0                0                0                0   \n",
            "364                   0                0                0                0   \n",
            "\n",
            "       resource_type 5  resource_type 6  resource_type 7  resource_type 8  \\\n",
            "61369                0                0                0                1   \n",
            "2078                 0                0                0                0   \n",
            "2077                 0                0                0                1   \n",
            "2066                 0                0                0                0   \n",
            "2065                 0                0                0                1   \n",
            "...                ...              ...              ...              ...   \n",
            "19609                0                0                0                1   \n",
            "19607                0                0                0                0   \n",
            "376                  0                0                0                1   \n",
            "370                  0                0                0                1   \n",
            "364                  0                0                0                1   \n",
            "\n",
            "       resource_type 9  severity_type 1  severity_type 2  severity_type 3  \\\n",
            "61369                0                1                0                0   \n",
            "2078                 1                1                0                0   \n",
            "2077                 0                1                0                0   \n",
            "2066                 1                1                0                0   \n",
            "2065                 0                1                0                0   \n",
            "...                ...              ...              ...              ...   \n",
            "19609                0                1                0                0   \n",
            "19607                0                1                0                0   \n",
            "376                  0                0                1                0   \n",
            "370                  0                0                1                0   \n",
            "364                  0                0                1                0   \n",
            "\n",
            "       severity_type 4  severity_type 5  location  \n",
            "61369                0                0       989  \n",
            "2078                 0                0      1020  \n",
            "2077                 0                0      1020  \n",
            "2066                 0                0      1020  \n",
            "2065                 0                0      1020  \n",
            "...                ...              ...       ...  \n",
            "19609                0                0        32  \n",
            "19607                0                0        32  \n",
            "376                  0                0      1008  \n",
            "370                  0                0      1008  \n",
            "364                  0                0      1008  \n",
            "\n",
            "[61839 rows x 20 columns]\n",
            "61369    1\n",
            "2078     2\n",
            "2077     2\n",
            "2066     2\n",
            "2065     2\n",
            "        ..\n",
            "19609    2\n",
            "19607    2\n",
            "376      0\n",
            "370      0\n",
            "364      0\n",
            "Name: fault_severity, Length: 61839, dtype: int64\n"
          ]
        }
      ],
      "source": [
        "y=dff3['fault_severity']\n",
        "X=dff3.drop(['fault_severity'],axis=1)\n",
        "print(X)\n",
        "print(y)"
      ]
    },
    {
      "cell_type": "code",
      "execution_count": 90,
      "metadata": {
        "colab": {
          "base_uri": "https://localhost:8080/"
        },
        "id": "s_dfOff7uPT6",
        "outputId": "6cbffa7c-4050-447c-e484-32d2acced047"
      },
      "outputs": [
        {
          "output_type": "stream",
          "name": "stdout",
          "text": [
            "(27759, 20)\n",
            "(27759,)\n",
            "(20407, 20)\n",
            "(20407,)\n",
            "(13673, 20)\n",
            "(13673,)\n"
          ]
        }
      ],
      "source": [
        "from sklearn.model_selection import train_test_split                            #splitting the data to train,cv and test data\n",
        "Xtrain,Xtest,ytrain,ytest=train_test_split(X,y,test_size=0.33,stratify=y)\n",
        "Xtrain,Xcv,ytrain,ycv=train_test_split(Xtrain,ytrain,test_size=0.33,stratify=ytrain)\n",
        "print(Xtrain.shape)\n",
        "print(ytrain.shape)\n",
        "print(Xtest.shape)\n",
        "print(ytest.shape)\n",
        "print(Xcv.shape)\n",
        "print(ycv.shape)\n"
      ]
    },
    {
      "cell_type": "code",
      "execution_count": 91,
      "metadata": {
        "colab": {
          "base_uri": "https://localhost:8080/"
        },
        "id": "Amjszt8W__zr",
        "outputId": "564c6001-04c2-43eb-db93-099ee8c618cf"
      },
      "outputs": [
        {
          "output_type": "stream",
          "name": "stdout",
          "text": [
            "[0 1 2]\n",
            "[0 1 2]\n",
            "[0 1 2]\n"
          ]
        }
      ],
      "source": [
        "print(np.unique(ycv))\n",
        "print(np.unique(ytest))\n",
        "print(np.unique(ytrain))"
      ]
    },
    {
      "cell_type": "code",
      "execution_count": 102,
      "metadata": {
        "colab": {
          "base_uri": "https://localhost:8080/"
        },
        "id": "_NaKMIFstc8I",
        "outputId": "8f580152-e86a-4fc7-a7ee-43673f47cdfd"
      },
      "outputs": [
        {
          "output_type": "stream",
          "name": "stdout",
          "text": [
            "Index(['id', 'event_type', 'log_feature', 'volume', 'resource_type 1',\n",
            "       'resource_type 10', 'resource_type 2', 'resource_type 3',\n",
            "       'resource_type 4', 'resource_type 5', 'resource_type 6',\n",
            "       'resource_type 7', 'resource_type 8', 'resource_type 9',\n",
            "       'severity_type 1', 'severity_type 2', 'severity_type 3',\n",
            "       'severity_type 4', 'severity_type 5', 'location'],\n",
            "      dtype='object')\n"
          ]
        }
      ],
      "source": [
        "#Normalizing the Train data\n",
        "def normalize(df):        \n",
        "    result1 = df.copy()\n",
        "    for feature_name in df.columns:\n",
        "            max_value = df[feature_name].max()\n",
        "            min_value = df[feature_name].min()\n",
        "            result1[feature_name] = (df[feature_name] - min_value) / (max_value - min_value)\n",
        "    return result1\n",
        "result = normalize(Xtrain)\n",
        "Xtrain1=result\n",
        "print(Xtrain1.columns)\n"
      ]
    },
    {
      "cell_type": "code",
      "source": [
        "import matplotlib.pyplot as plt\n",
        "from sklearn.decomposition import PCA\n",
        "pca = PCA()\n",
        "principalComponents = pca.fit_transform(Xtrain1)                                #Choosing the number of components. this can be obtain by looking into  cumulative explained variance ratio.\"feature selection\"\n",
        "Xtrain2=principalComponents\n",
        "cum_sum_exp=np.cumsum(pca.explained_variance_ratio_)\n",
        "plt.plot(range(0,len(cum_sum_exp)),cum_sum_exp)                                \n",
        "plt.xlabel('number of components')\n",
        "plt.ylabel('cumulative explained variance');\n"
      ],
      "metadata": {
        "id": "ISindb48WPh1",
        "colab": {
          "base_uri": "https://localhost:8080/",
          "height": 279
        },
        "outputId": "485039b1-0bbf-422c-825e-920d7d5e47e1"
      },
      "execution_count": 103,
      "outputs": [
        {
          "output_type": "display_data",
          "data": {
            "text/plain": [
              "<Figure size 432x288 with 1 Axes>"
            ],
            "image/png": "[encoded data removed]"
          },
          "metadata": {
            "needs_background": "light"
          }
        }
      ]
    },
    {
      "cell_type": "markdown",
      "source": [
        "\n",
        "*   first 3 components contain aprrox 60% of the variance\n",
        "*   first 7 components contain approx 90% of the variance \n",
        "\n",
        "*   first 11 components contain approx 95% of the variance and rest of the components contain only 5% of variance(contain less information)\n"
      ],
      "metadata": {
        "id": "kfDYAPQ7NY35"
      }
    },
    {
      "cell_type": "code",
      "source": [
        "print(pca.explained_variance_ratio_)"
      ],
      "metadata": {
        "colab": {
          "base_uri": "https://localhost:8080/"
        },
        "id": "I7LEoMcGwW2s",
        "outputId": "1f1bdc4f-5d4a-4f18-cb0c-a99c1b5cd752"
      },
      "execution_count": null,
      "outputs": [
        {
          "output_type": "stream",
          "name": "stdout",
          "text": [
            "[4.89082215e-01 1.87917234e-01 6.95439600e-02 5.92879854e-02\n",
            " 3.96529203e-02 3.25613950e-02 3.06529821e-02 2.43757781e-02\n",
            " 1.64788508e-02 1.51754087e-02 1.12005464e-02 8.60959495e-03\n",
            " 7.31263921e-03 5.26526001e-03 1.34688179e-03 7.41308390e-04\n",
            " 4.62948495e-04 3.32091301e-04 2.39226538e-33 2.17030524e-33]\n"
          ]
        }
      ]
    },
    {
      "cell_type": "code",
      "source": [
        "#Feature Extraction using PCA\n",
        "import pandas as pd\n",
        "pca1 = PCA(n_components=1)\n",
        "principalComponents = pca1.fit_transform(Xtrain1)\n",
        "p2=pca1.transform(Xtest)\n",
        "p3=pca1.transform(Xcv)\n",
        "dfp1=pd.DataFrame(data=principalComponents ,columns=['pca1'])\n",
        "dfp2=pd.DataFrame(data=p2 ,columns=['pca1'])\n",
        "dfp3=pd.DataFrame(data=p3 ,columns=['pca1'])\n",
        "dp1=pd.concat([Xtrain1,ytrain,dfp1],axis = 1,join='inner')\n",
        "dp2=pd.concat([Xtest,ytest,dfp2],axis = 1,join='inner')\n",
        "dp3=pd.concat([Xcv,ycv,dfp3],axis = 1,join='inner')\n",
        "\n",
        "\n",
        "Xtrainn=dp1.drop(['fault_severity','location'],axis=1)                          #using pca removed \"location\"\n",
        "ytrainn=dp1['fault_severity']\n",
        "Xtestt=dp2.drop(['fault_severity','location'],axis=1)\n",
        "ytestt=dp2['fault_severity']\n",
        "Xcvv=dp3.drop(['fault_severity','location'],axis=1)\n",
        "ycvv=dp3['fault_severity']\n",
        "print(Xtrainn)"
      ],
      "metadata": {
        "colab": {
          "base_uri": "https://localhost:8080/"
        },
        "id": "c2IFWjWa_J33",
        "outputId": "354cf297-d16f-4a1a-ccb5-353e656849c6"
      },
      "execution_count": 116,
      "outputs": [
        {
          "output_type": "stream",
          "name": "stdout",
          "text": [
            "             id  event_type  log_feature    volume  resource_type 1  \\\n",
            "17818  0.065394    0.622642     0.814621  0.000000              0.0   \n",
            "16812  0.290258    0.641509     0.603133  0.036530              0.0   \n",
            "24114  0.906464    0.358491     0.783290  0.000000              0.0   \n",
            "17520  0.525096    0.622642     0.112272  0.002283              0.0   \n",
            "19967  0.109817    0.641509     0.798956  0.000000              0.0   \n",
            "...         ...         ...          ...       ...              ...   \n",
            "22671  0.073104    0.622642     0.798956  0.000000              0.0   \n",
            "23720  0.773788    0.641509     0.603133  0.000000              0.0   \n",
            "26055  0.827376    0.622642     0.603133  0.057078              0.0   \n",
            "2347   0.289935    0.226415     0.898172  0.000000              0.0   \n",
            "25548  0.818589    0.622642     0.605744  0.001142              0.0   \n",
            "\n",
            "       resource_type 10  resource_type 2  resource_type 3  resource_type 4  \\\n",
            "17818               0.0              1.0              0.0              0.0   \n",
            "16812               0.0              1.0              0.0              0.0   \n",
            "24114               0.0              1.0              0.0              0.0   \n",
            "17520               0.0              1.0              0.0              0.0   \n",
            "19967               0.0              1.0              0.0              0.0   \n",
            "...                 ...              ...              ...              ...   \n",
            "22671               0.0              1.0              0.0              0.0   \n",
            "23720               0.0              1.0              0.0              0.0   \n",
            "26055               0.0              1.0              0.0              0.0   \n",
            "2347                0.0              0.0              0.0              0.0   \n",
            "25548               0.0              1.0              0.0              0.0   \n",
            "\n",
            "       resource_type 5  resource_type 6  resource_type 7  resource_type 8  \\\n",
            "17818              0.0              0.0              0.0              0.0   \n",
            "16812              0.0              0.0              0.0              0.0   \n",
            "24114              0.0              0.0              0.0              0.0   \n",
            "17520              0.0              0.0              0.0              0.0   \n",
            "19967              0.0              0.0              0.0              0.0   \n",
            "...                ...              ...              ...              ...   \n",
            "22671              0.0              0.0              0.0              0.0   \n",
            "23720              0.0              0.0              0.0              0.0   \n",
            "26055              0.0              0.0              0.0              0.0   \n",
            "2347               0.0              1.0              0.0              0.0   \n",
            "25548              0.0              0.0              0.0              0.0   \n",
            "\n",
            "       resource_type 9  severity_type 1  severity_type 2  severity_type 3  \\\n",
            "17818              0.0              0.0              1.0              0.0   \n",
            "16812              0.0              0.0              1.0              0.0   \n",
            "24114              0.0              1.0              0.0              0.0   \n",
            "17520              0.0              1.0              0.0              0.0   \n",
            "19967              0.0              0.0              1.0              0.0   \n",
            "...                ...              ...              ...              ...   \n",
            "22671              0.0              0.0              1.0              0.0   \n",
            "23720              0.0              0.0              1.0              0.0   \n",
            "26055              0.0              0.0              1.0              0.0   \n",
            "2347               0.0              1.0              0.0              0.0   \n",
            "25548              0.0              0.0              1.0              0.0   \n",
            "\n",
            "       severity_type 4  severity_type 5      pca1  \n",
            "17818              0.0              0.0  0.119579  \n",
            "16812              0.0              0.0  0.673631  \n",
            "24114              0.0              0.0 -1.068336  \n",
            "17520              0.0              0.0  0.816702  \n",
            "19967              0.0              0.0 -1.104785  \n",
            "...                ...              ...       ...  \n",
            "22671              0.0              0.0 -0.016557  \n",
            "23720              0.0              0.0 -0.019591  \n",
            "26055              0.0              0.0  1.091882  \n",
            "2347               0.0              0.0  1.022448  \n",
            "25548              0.0              0.0  1.093195  \n",
            "\n",
            "[12486 rows x 20 columns]\n"
          ]
        }
      ]
    },
    {
      "cell_type": "code",
      "source": [
        "dff1.to_csv('xtrain_data2')"
      ],
      "metadata": {
        "colab": {
          "base_uri": "https://localhost:8080/"
        },
        "id": "nOVmqrm1h4Dn",
        "outputId": "7aee4f13-6160-4318-f2d1-039377992e41"
      },
      "execution_count": null,
      "outputs": [
        {
          "output_type": "stream",
          "name": "stdout",
          "text": [
            "          id  event_type  log_feature  volume  resource_type 1  \\\n",
            "3426   11586          14          163       1                0   \n",
            "11393   2977          22          222       4                0   \n",
            "20534  17313          34          312       5                0   \n",
            "12864   6090          35          233       1                0   \n",
            "10      4848          11           80      16                0   \n",
            "...      ...         ...          ...     ...              ...   \n",
            "4631   10958          13           68       1                0   \n",
            "27084  11149          34          228       3                0   \n",
            "2353    5379          11          179       2                0   \n",
            "9334   17160          34          235       2                0   \n",
            "10647   7700          35          235       4                0   \n",
            "\n",
            "       resource_type 10  resource_type 2  resource_type 3  resource_type 4  \\\n",
            "3426                  0                0                0                0   \n",
            "11393                 1                0                0                0   \n",
            "20534                 0                1                0                0   \n",
            "12864                 0                1                0                0   \n",
            "10                    0                0                0                0   \n",
            "...                 ...              ...              ...              ...   \n",
            "4631                  0                0                0                0   \n",
            "27084                 0                1                0                0   \n",
            "2353                  0                0                0                0   \n",
            "9334                  0                1                0                0   \n",
            "10647                 0                1                0                0   \n",
            "\n",
            "       resource_type 5  ...  resource_type 7  resource_type 8  \\\n",
            "3426                 0  ...                1                0   \n",
            "11393                0  ...                0                0   \n",
            "20534                0  ...                0                0   \n",
            "12864                0  ...                0                0   \n",
            "10                   0  ...                0                1   \n",
            "...                ...  ...              ...              ...   \n",
            "4631                 0  ...                0                0   \n",
            "27084                0  ...                0                0   \n",
            "2353                 0  ...                0                0   \n",
            "9334                 0  ...                0                0   \n",
            "10647                0  ...                0                0   \n",
            "\n",
            "       resource_type 9  severity_type 1  severity_type 2  severity_type 3  \\\n",
            "3426                 0                0                0                0   \n",
            "11393                0                1                0                0   \n",
            "20534                0                0                1                0   \n",
            "12864                0                0                1                0   \n",
            "10                   0                1                0                0   \n",
            "...                ...              ...              ...              ...   \n",
            "4631                 0                1                0                0   \n",
            "27084                0                0                1                0   \n",
            "2353                 0                1                0                0   \n",
            "9334                 0                0                1                0   \n",
            "10647                0                0                1                0   \n",
            "\n",
            "       severity_type 4  severity_type 5  location      pca1  \n",
            "3426                 1                0      1050  0.143364  \n",
            "11393                0                0        13  0.918879  \n",
            "20534                0                0       344  0.042646  \n",
            "12864                0                0       149  0.007435  \n",
            "10                   0                0         1  0.068352  \n",
            "...                ...              ...       ...       ...  \n",
            "4631                 0                0      1079  0.969626  \n",
            "27084                0                0       476 -1.130695  \n",
            "2353                 0                0      1026  0.120024  \n",
            "9334                 0                0       124 -1.134794  \n",
            "10647                0                0       126  0.089081  \n",
            "\n",
            "[12381 rows x 21 columns]\n",
            "Index(['id', 'event_type', 'log_feature', 'volume', 'resource_type 1',\n",
            "       'resource_type 10', 'resource_type 2', 'resource_type 3',\n",
            "       'resource_type 4', 'resource_type 5', 'resource_type 6',\n",
            "       'resource_type 7', 'resource_type 8', 'resource_type 9',\n",
            "       'severity_type 1', 'severity_type 2', 'severity_type 3',\n",
            "       'severity_type 4', 'severity_type 5', 'location'],\n",
            "      dtype='object')\n"
          ]
        }
      ]
    },
    {
      "cell_type": "code",
      "source": [
        "#logistic regression\n",
        "alpha = [10 ** x for x in range(-10,1)]\n",
        "print(alpha)\n",
        "cv_log_error_array=[]\n",
        "for i in alpha:\n",
        "    logisticR=LogisticRegression(penalty='l1',C=i,class_weight='balanced',solver='saga',n_jobs=-1)\n",
        "    logisticR.fit(Xtrainn,ytrainn)\n",
        "    sig_clf = CalibratedClassifierCV(logisticR, method=\"sigmoid\")\n",
        "    sig_clf.fit(Xtrainn, ytrainn)\n",
        "    predict_y = sig_clf.predict_proba(Xcvv)\n",
        "    cv_log_error_array.append(log_loss(ycvv, predict_y, labels=logisticR.classes_, eps=1e-15))\n",
        "    \n",
        "best_alpha = np.argmin(cv_log_error_array)\n",
        "    \n",
        "logisticR=LogisticRegression(penalty='l1',C=alpha[best_alpha],class_weight='balanced',solver='saga',n_jobs=-1)\n",
        "logisticR.fit(Xtrainn,ytrainn)\n",
        "sig_clf2 = CalibratedClassifierCV(logisticR, method=\"sigmoid\")\n",
        "sig_clf2.fit(Xtrainn, ytrainn)\n",
        "pred_y=sig_clf2.predict(Xtestt)\n",
        "\n",
        "predict_y = sig_clf2.predict_proba(Xtrainn)\n",
        "print ('For values of best alpha = ', alpha[best_alpha],'log loss for train data',log_loss(ytrainn, predict_y, labels=logisticR.classes_, eps=1e-15))\n",
        "predict_y = sig_clf2.predict_proba(Xcvv)\n",
        "print ('For values of best alpha = ', alpha[best_alpha],'log loss for cv data',log_loss(ycvv, predict_y, labels=logisticR.classes_, eps=1e-15))\n",
        "predict_y = sig_clf2.predict_proba(Xtestt)\n",
        "print ('For values of best alpha = ', alpha[best_alpha],'log loss for test data',log_loss(ytestt, predict_y, labels=logisticR.classes_, eps=1e-15))\n",
        "\n",
        "C = confusion_matrix(ytestt, sig_clf2.predict(Xtestt))\n",
        "print('confusion',C)\n",
        "print('*'*100)\n",
        "A =(((C.T)/(C.sum(axis=1))).T)\n",
        "print('recal',A)\n",
        "print('*'*100)\n",
        "B =(C/C.sum(axis=0))\n",
        "print('precision',B)"
      ],
      "metadata": {
        "colab": {
          "base_uri": "https://localhost:8080/"
        },
        "id": "Jyy2RVGlnzJS",
        "outputId": "5f14feab-29f4-4498-d85e-c51ce6575383"
      },
      "execution_count": 118,
      "outputs": [
        {
          "output_type": "stream",
          "name": "stdout",
          "text": [
            "[1e-10, 1e-09, 1e-08, 1e-07, 1e-06, 1e-05, 0.0001, 0.001, 0.01, 0.1, 1]\n",
            "For values of best alpha =  0.001 log loss for train data 0.7646529669931372\n",
            "For values of best alpha =  0.001 log loss for cv data 0.8630302855389683\n",
            "For values of best alpha =  0.001 log loss for test data 0.8266471776303964\n",
            "confusion [[4202    0    0]\n",
            " [1661    0    0]\n",
            " [ 852    0    0]]\n",
            "****************************************************************************************************\n",
            "recal [[1. 0. 0.]\n",
            " [1. 0. 0.]\n",
            " [1. 0. 0.]]\n",
            "****************************************************************************************************\n",
            "precision [[0.62576322        nan        nan]\n",
            " [0.24735666        nan        nan]\n",
            " [0.12688012        nan        nan]]\n"
          ]
        }
      ]
    },
    {
      "cell_type": "code",
      "execution_count": 119,
      "metadata": {
        "colab": {
          "base_uri": "https://localhost:8080/"
        },
        "id": "JpkYkLhyqZNv",
        "outputId": "265f0c26-c716-44f9-de5c-c75f92ad8cc1"
      },
      "outputs": [
        {
          "output_type": "stream",
          "name": "stdout",
          "text": [
            "+--------------------------------+-----------------------+---------------------+--------------------+\n",
            "|             Model              | best_value_of_alpha() |    train logloss    |    test logloss    |\n",
            "+--------------------------------+-----------------------+---------------------+--------------------+\n",
            "|          Random_model          |           0           |  1.3334218371646078 | 1.3454495697543558 |\n",
            "|              KNN               |           13          | 0.39710374302815205 | 0.9553196273337947 |\n",
            "| Logistic_Regression(using PCA) |         0.001         |  0.7646529669931372 | 0.8266471776303964 |\n",
            "|         Random_Forest          |     d=50,s=10,e=10    |  0.2933148736070975 | 0.9580244208360646 |\n",
            "+--------------------------------+-----------------------+---------------------+--------------------+\n"
          ]
        }
      ],
      "source": [
        "from prettytable import PrettyTable\n",
        "myTable = PrettyTable([\"Model\", \"best_value_of_alpha()\", \"train logloss\",\"test logloss\"])\n",
        "myTable.add_row([ \"Random_model\", \"0\", \"1.3334218371646078\",\"1.3454495697543558\"])\n",
        "myTable.add_row([ \"KNN\", \"13\", \"0.39710374302815205\",\"0.9553196273337947\"])\n",
        "myTable.add_row([ \"Logistic_Regression(using PCA)\", \"0.001\",\"0.7646529669931372\",\"0.8266471776303964\"])\n",
        "myTable.add_row([\"Random_Forest\", \"d=50,s=10,e=10\", \"0.2933148736070975\",'0.9580244208360646'])\n",
        "\n",
        "print(myTable)"
      ]
    },
    {
      "cell_type": "markdown",
      "source": [
        "##Making a predictive system"
      ],
      "metadata": {
        "id": "3Xrr45yOBVep"
      }
    },
    {
      "cell_type": "code",
      "source": [
        "input_data=[11401,34,358,1,0,0,1,0,0,0,0,0,0,0,1,0,0,0,0,-1.0964379603238992]\n",
        "#changing the input data to numpy array\n",
        "input_data_as_numpy_array=np.asarray(input_data)\n",
        "input_data_reshaped= input_data_as_numpy_array.reshape(1,-1)\n",
        "prediction=logisticR.predict(input_data_reshaped)\n",
        "print(prediction)\n",
        "if prediction[0]==0:\n",
        "  print('no fault in the telstra network')\n",
        "if prediction[0]==1:\n",
        "  print('few faults in the telstra network')\n",
        "if prediction[0]==2:\n",
        "  print('many faults in the telstra network')\n",
        "\n",
        "\n",
        "\n"
      ],
      "metadata": {
        "colab": {
          "base_uri": "https://localhost:8080/"
        },
        "outputId": "f0ea69e2-5a3c-4731-987d-9faefbcfd1d4",
        "id": "G6QpXfI-BT5E"
      },
      "execution_count": 120,
      "outputs": [
        {
          "output_type": "stream",
          "name": "stdout",
          "text": [
            "[1]\n",
            "few faults in the telstra network\n"
          ]
        }
      ]
    },
    {
      "cell_type": "markdown",
      "source": [
        "##Saving the trained model "
      ],
      "metadata": {
        "id": "mPYL3KLPw8dd"
      }
    },
    {
      "cell_type": "code",
      "source": [
        "import pickle\n",
        "filename='trained_model_lg.sav'\n",
        "pickle.dump(logisticR,open(filename,'wb'))"
      ],
      "metadata": {
        "id": "qYHNBwEAhcaL"
      },
      "execution_count": 121,
      "outputs": []
    },
    {
      "cell_type": "code",
      "source": [
        "#loadig the saved model\n",
        "loaded_model=pickle.load(open('trained_model_lg.sav','rb'))"
      ],
      "metadata": {
        "id": "3MFRqbDKxt9B"
      },
      "execution_count": 122,
      "outputs": []
    },
    {
      "cell_type": "code",
      "source": [
        "input_data=[11401,34,358,1,0,0,1,0,0,0,0,0,0,0,1,0,0,0,0,-1.0964379603238992]\n",
        "#changing the input data to numpy array\n",
        "input_data_as_numpy_array=np.asarray(input_data)\n",
        "input_data_reshaped= input_data_as_numpy_array.reshape(1,-1)\n",
        "prediction=loaded_model.predict(input_data_reshaped)\n",
        "print(prediction)\n",
        "if prediction[0]==0:\n",
        "  print('no fault in the telstra network')\n",
        "if prediction[0]==1:\n",
        "  print('few faults in the telstra network')\n",
        "if prediction[0]==2:\n",
        "  print('many faults in the telstra network')\n",
        "\n",
        "\n",
        "\n"
      ],
      "metadata": {
        "colab": {
          "base_uri": "https://localhost:8080/"
        },
        "id": "_5pNlpQayJJi",
        "outputId": "3f591228-9c4b-4310-ceca-f163360d41e5"
      },
      "execution_count": 123,
      "outputs": [
        {
          "output_type": "stream",
          "name": "stdout",
          "text": [
            "[1]\n",
            "few faults in the telstra network\n"
          ]
        }
      ]
    }
  ],
  "metadata": {
    "colab": {
      "collapsed_sections": [],
      "provenance": []
    },
    "kernelspec": {
      "display_name": "Python 3",
      "name": "python3"
    },
    "language_info": {
      "name": "python"
    }
  },
  "nbformat": 4,
  "nbformat_minor": 0
}