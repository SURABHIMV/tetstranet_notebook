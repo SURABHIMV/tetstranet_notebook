{
  "cells": [
    {
      "cell_type": "code",
      "execution_count": 1,
      "metadata": {
        "colab": {
          "base_uri": "https://localhost:8080/"
        },
        "id": "Ei2Z6Z2Kqp5N",
        "outputId": "20b306ce-5b63-46fa-fd82-6b1390d688be"
      },
      "outputs": [
        {
          "output_type": "stream",
          "name": "stdout",
          "text": [
            "Looking in indexes: https://pypi.org/simple, https://us-python.pkg.dev/colab-wheels/public/simple/\n",
            "Requirement already satisfied: kaggle in /usr/local/lib/python3.7/dist-packages (1.5.12)\n",
            "Requirement already satisfied: urllib3 in /usr/local/lib/python3.7/dist-packages (from kaggle) (1.24.3)\n",
            "Requirement already satisfied: requests in /usr/local/lib/python3.7/dist-packages (from kaggle) (2.23.0)\n",
            "Requirement already satisfied: six>=1.10 in /usr/local/lib/python3.7/dist-packages (from kaggle) (1.15.0)\n",
            "Requirement already satisfied: certifi in /usr/local/lib/python3.7/dist-packages (from kaggle) (2022.6.15)\n",
            "Requirement already satisfied: python-dateutil in /usr/local/lib/python3.7/dist-packages (from kaggle) (2.8.2)\n",
            "Requirement already satisfied: python-slugify in /usr/local/lib/python3.7/dist-packages (from kaggle) (6.1.2)\n",
            "Requirement already satisfied: tqdm in /usr/local/lib/python3.7/dist-packages (from kaggle) (4.64.1)\n",
            "Requirement already satisfied: text-unidecode>=1.3 in /usr/local/lib/python3.7/dist-packages (from python-slugify->kaggle) (1.3)\n",
            "Requirement already satisfied: chardet<4,>=3.0.2 in /usr/local/lib/python3.7/dist-packages (from requests->kaggle) (3.0.4)\n",
            "Requirement already satisfied: idna<3,>=2.5 in /usr/local/lib/python3.7/dist-packages (from requests->kaggle) (2.10)\n"
          ]
        }
      ],
      "source": [
        "!pip install kaggle\n",
        "\"\"\"\n",
        "To use the Kaggle API, sign up for a Kaggle account at https://www.kaggle.com. \n",
        "Then go to the 'Account' tab of your user profile (https://www.kaggle.com/<username>/account) and select 'Create API Token'. \n",
        "This will trigger the download of kaggle.json, a file containing your API credentials.\n",
        "Upload that file to google colab/google cloud platform \n",
        "\"\"\"\n",
        "api_token = {\"username\":\"surabhimv\",\"key\":\"6486570e714dc5adf89e540c7913012d\"}"
      ]
    },
    {
      "cell_type": "code",
      "execution_count": 2,
      "metadata": {
        "colab": {
          "base_uri": "https://localhost:8080/"
        },
        "id": "zoxn9F-xstzs",
        "outputId": "d66e5286-b55d-4a2b-9850-9a471abc6bb2"
      },
      "outputs": [
        {
          "output_type": "stream",
          "name": "stdout",
          "text": [
            "Warning: Your Kaggle API key is readable by other users on this system! To fix this, you can run 'chmod 600 /root/.kaggle/kaggle.json'\n",
            "Downloading telstra-recruiting-network.zip to /content\n",
            "  0% 0.00/557k [00:00<?, ?B/s]\n",
            "100% 557k/557k [00:00<00:00, 96.8MB/s]\n"
          ]
        }
      ],
      "source": [
        "\n",
        "!mkdir ~/.kaggle\n",
        "!cp kaggle.json ~/.kaggle/\n",
        "!kaggle competitions download -c 'telstra-recruiting-network'\n",
        "\n"
      ]
    },
    {
      "cell_type": "code",
      "execution_count": 3,
      "metadata": {
        "colab": {
          "base_uri": "https://localhost:8080/"
        },
        "id": "DlspeDkQ_k4v",
        "outputId": "3cc6565d-4e99-47d8-ca4e-ae2ff74ad046"
      },
      "outputs": [
        {
          "output_type": "stream",
          "name": "stdout",
          "text": [
            "Archive:  telstra-recruiting-network.zip\n",
            "  inflating: event_type.csv.zip      \n",
            "  inflating: log_feature.csv.zip     \n",
            "  inflating: resource_type.csv.zip   \n",
            "  inflating: sample_submission.csv.zip  \n",
            "  inflating: severity_type.csv.zip   \n",
            "  inflating: test.csv.zip            \n",
            "  inflating: train.csv.zip           \n"
          ]
        }
      ],
      "source": [
        "!unzip telstra-recruiting-network.zip"
      ]
    },
    {
      "cell_type": "code",
      "execution_count": 5,
      "metadata": {
        "colab": {
          "base_uri": "https://localhost:8080/"
        },
        "id": "RzeTqldc_KMI",
        "outputId": "64b01a48-fdbe-481a-9ff1-ef8498ef4730"
      },
      "outputs": [
        {
          "output_type": "stream",
          "name": "stdout",
          "text": [
            "Archive:  event_type.csv.zip\n",
            "replace event_type.csv? [y]es, [n]o, [A]ll, [N]one, [r]ename: "
          ]
        }
      ],
      "source": [
        "!unzip event_type.csv.zip"
      ]
    },
    {
      "cell_type": "code",
      "execution_count": 7,
      "metadata": {
        "colab": {
          "base_uri": "https://localhost:8080/"
        },
        "id": "jcapEJWcB2sa",
        "outputId": "913b51a0-db94-4ca1-9953-cda7d7a521c5"
      },
      "outputs": [
        {
          "output_type": "stream",
          "name": "stdout",
          "text": [
            "Archive:  log_feature.csv.zip\n",
            "replace log_feature.csv? [y]es, [n]o, [A]ll, [N]one, [r]ename: "
          ]
        }
      ],
      "source": [
        "!unzip log_feature.csv.zip"
      ]
    },
    {
      "cell_type": "code",
      "execution_count": 9,
      "metadata": {
        "colab": {
          "base_uri": "https://localhost:8080/"
        },
        "id": "9CPD6Yg9B23c",
        "outputId": "99d3e743-f057-44c9-f2ad-70e400444c30"
      },
      "outputs": [
        {
          "output_type": "stream",
          "name": "stdout",
          "text": [
            "Archive:  resource_type.csv.zip\n",
            "replace resource_type.csv? [y]es, [n]o, [A]ll, [N]one, [r]ename: "
          ]
        }
      ],
      "source": [
        "!unzip resource_type.csv.zip"
      ]
    },
    {
      "cell_type": "code",
      "execution_count": 11,
      "metadata": {
        "colab": {
          "base_uri": "https://localhost:8080/"
        },
        "id": "1WrrAmdvB3A5",
        "outputId": "fc8763a3-c424-4894-db37-2ad2f78b3a85"
      },
      "outputs": [
        {
          "output_type": "stream",
          "name": "stdout",
          "text": [
            "Archive:  severity_type.csv.zip\n",
            "replace severity_type.csv? [y]es, [n]o, [A]ll, [N]one, [r]ename: "
          ]
        }
      ],
      "source": [
        "!unzip severity_type.csv.zip"
      ]
    },
    {
      "cell_type": "code",
      "execution_count": 13,
      "metadata": {
        "colab": {
          "base_uri": "https://localhost:8080/"
        },
        "id": "wCGjzLF5B3K3",
        "outputId": "ad619fe9-ed03-4c40-9b37-9235f32c61e3"
      },
      "outputs": [
        {
          "output_type": "stream",
          "name": "stdout",
          "text": [
            "Archive:  train.csv.zip\n",
            "replace train.csv? [y]es, [n]o, [A]ll, [N]one, [r]ename: "
          ]
        }
      ],
      "source": [
        "!unzip train.csv.zip"
      ]
    },
    {
      "cell_type": "code",
      "execution_count": 15,
      "metadata": {
        "colab": {
          "base_uri": "https://localhost:8080/"
        },
        "id": "pCXd2HNnD0DW",
        "outputId": "76b0e4a0-82a0-4e66-d189-fb48834445b3"
      },
      "outputs": [
        {
          "output_type": "stream",
          "name": "stdout",
          "text": [
            "Archive:  test.csv.zip\n",
            "replace test.csv? [y]es, [n]o, [A]ll, [N]one, [r]ename: "
          ]
        }
      ],
      "source": [
        "!unzip test.csv.zip"
      ]
    },
    {
      "cell_type": "code",
      "execution_count": 16,
      "metadata": {
        "colab": {
          "base_uri": "https://localhost:8080/"
        },
        "id": "nif-sPdqBfNK",
        "outputId": "eaad6192-8bec-47bf-96c6-ce4058537464"
      },
      "outputs": [
        {
          "output_type": "stream",
          "name": "stdout",
          "text": [
            "         id     event_type\n",
            "0      6597  event_type 11\n",
            "1      8011  event_type 15\n",
            "2      2597  event_type 15\n",
            "3      5022  event_type 15\n",
            "4      5022  event_type 11\n",
            "...     ...            ...\n",
            "31165  3761  event_type 11\n",
            "31166  8720  event_type 11\n",
            "31167  6488  event_type 11\n",
            "31168   878  event_type 11\n",
            "31169  4464  event_type 11\n",
            "\n",
            "[31170 rows x 2 columns]\n"
          ]
        }
      ],
      "source": [
        "import pandas as pd\n",
        "df1=pd.read_csv('event_type.csv')\n",
        "print(df1)"
      ]
    },
    {
      "cell_type": "code",
      "execution_count": 17,
      "metadata": {
        "colab": {
          "base_uri": "https://localhost:8080/"
        },
        "id": "u3MhOQ05B06c",
        "outputId": "14dfd9d9-f1c3-42cf-9db5-923e8a3daca2"
      },
      "outputs": [
        {
          "output_type": "stream",
          "name": "stdout",
          "text": [
            "         id  log_feature  volume\n",
            "0      6597   feature 68       6\n",
            "1      8011   feature 68       7\n",
            "2      2597   feature 68       1\n",
            "3      5022  feature 172       2\n",
            "4      5022   feature 56       1\n",
            "...     ...          ...     ...\n",
            "58666  8720  feature 209       1\n",
            "58667  6488   feature 54       3\n",
            "58668   878   feature 62       1\n",
            "58669  4464  feature 209       1\n",
            "58670  4464   feature 87       2\n",
            "\n",
            "[58671 rows x 3 columns]\n"
          ]
        }
      ],
      "source": [
        "df2=pd.read_csv('log_feature.csv')\n",
        "print(df2)"
      ]
    },
    {
      "cell_type": "code",
      "execution_count": 18,
      "metadata": {
        "colab": {
          "base_uri": "https://localhost:8080/"
        },
        "id": "X4IXkiXgB1Rx",
        "outputId": "960f7313-0f7c-4b15-d9ab-6feb54890c5c"
      },
      "outputs": [
        {
          "output_type": "stream",
          "name": "stdout",
          "text": [
            "         id    resource_type\n",
            "0      6597  resource_type 8\n",
            "1      8011  resource_type 8\n",
            "2      2597  resource_type 8\n",
            "3      5022  resource_type 8\n",
            "4      6852  resource_type 8\n",
            "...     ...              ...\n",
            "21071  3761  resource_type 8\n",
            "21072  8720  resource_type 8\n",
            "21073  6488  resource_type 8\n",
            "21074   878  resource_type 8\n",
            "21075  4464  resource_type 8\n",
            "\n",
            "[21076 rows x 2 columns]\n"
          ]
        }
      ],
      "source": [
        "df3=pd.read_csv('resource_type.csv')\n",
        "print(df3)"
      ]
    },
    {
      "cell_type": "code",
      "execution_count": 19,
      "metadata": {
        "colab": {
          "base_uri": "https://localhost:8080/"
        },
        "id": "jVZRbVfMLebo",
        "outputId": "723a9410-1461-4377-b519-8c6e00122740"
      },
      "outputs": [
        {
          "output_type": "execute_result",
          "data": {
            "text/plain": [
              "array(['resource_type 8', 'resource_type 2', 'resource_type 1',\n",
              "       'resource_type 9', 'resource_type 6', 'resource_type 7',\n",
              "       'resource_type 10', 'resource_type 4', 'resource_type 3',\n",
              "       'resource_type 5'], dtype=object)"
            ]
          },
          "metadata": {},
          "execution_count": 19
        }
      ],
      "source": [
        "df3['resource_type'].unique()"
      ]
    },
    {
      "cell_type": "code",
      "execution_count": 20,
      "metadata": {
        "colab": {
          "base_uri": "https://localhost:8080/"
        },
        "id": "pMUkL7JcNQnT",
        "outputId": "ca5871c7-eb57-4ffa-e55f-929feb88e888"
      },
      "outputs": [
        {
          "output_type": "stream",
          "name": "stdout",
          "text": [
            "       resource_type 1  resource_type 10  resource_type 2  resource_type 3  \\\n",
            "0                    0                 0                0                0   \n",
            "1                    0                 0                0                0   \n",
            "2                    0                 0                0                0   \n",
            "3                    0                 0                0                0   \n",
            "4                    0                 0                0                0   \n",
            "...                ...               ...              ...              ...   \n",
            "21071                0                 0                0                0   \n",
            "21072                0                 0                0                0   \n",
            "21073                0                 0                0                0   \n",
            "21074                0                 0                0                0   \n",
            "21075                0                 0                0                0   \n",
            "\n",
            "       resource_type 4  resource_type 5  resource_type 6  resource_type 7  \\\n",
            "0                    0                0                0                0   \n",
            "1                    0                0                0                0   \n",
            "2                    0                0                0                0   \n",
            "3                    0                0                0                0   \n",
            "4                    0                0                0                0   \n",
            "...                ...              ...              ...              ...   \n",
            "21071                0                0                0                0   \n",
            "21072                0                0                0                0   \n",
            "21073                0                0                0                0   \n",
            "21074                0                0                0                0   \n",
            "21075                0                0                0                0   \n",
            "\n",
            "       resource_type 8  resource_type 9  \n",
            "0                    1                0  \n",
            "1                    1                0  \n",
            "2                    1                0  \n",
            "3                    1                0  \n",
            "4                    1                0  \n",
            "...                ...              ...  \n",
            "21071                1                0  \n",
            "21072                1                0  \n",
            "21073                1                0  \n",
            "21074                1                0  \n",
            "21075                1                0  \n",
            "\n",
            "[21076 rows x 10 columns]\n"
          ]
        }
      ],
      "source": [
        "dummies = pd.get_dummies(df3.resource_type)  \n",
        "print(dummies)"
      ]
    },
    {
      "cell_type": "code",
      "execution_count": 21,
      "metadata": {
        "colab": {
          "base_uri": "https://localhost:8080/"
        },
        "id": "GgW_Zdr0OQ2r",
        "outputId": "ddd1bb65-c227-480c-e822-25e7c2b231f6"
      },
      "outputs": [
        {
          "output_type": "stream",
          "name": "stdout",
          "text": [
            "         id    resource_type  resource_type 1  resource_type 10  \\\n",
            "0      6597  resource_type 8                0                 0   \n",
            "1      8011  resource_type 8                0                 0   \n",
            "2      2597  resource_type 8                0                 0   \n",
            "3      5022  resource_type 8                0                 0   \n",
            "4      6852  resource_type 8                0                 0   \n",
            "...     ...              ...              ...               ...   \n",
            "21071  3761  resource_type 8                0                 0   \n",
            "21072  8720  resource_type 8                0                 0   \n",
            "21073  6488  resource_type 8                0                 0   \n",
            "21074   878  resource_type 8                0                 0   \n",
            "21075  4464  resource_type 8                0                 0   \n",
            "\n",
            "       resource_type 2  resource_type 3  resource_type 4  resource_type 5  \\\n",
            "0                    0                0                0                0   \n",
            "1                    0                0                0                0   \n",
            "2                    0                0                0                0   \n",
            "3                    0                0                0                0   \n",
            "4                    0                0                0                0   \n",
            "...                ...              ...              ...              ...   \n",
            "21071                0                0                0                0   \n",
            "21072                0                0                0                0   \n",
            "21073                0                0                0                0   \n",
            "21074                0                0                0                0   \n",
            "21075                0                0                0                0   \n",
            "\n",
            "       resource_type 6  resource_type 7  resource_type 8  resource_type 9  \n",
            "0                    0                0                1                0  \n",
            "1                    0                0                1                0  \n",
            "2                    0                0                1                0  \n",
            "3                    0                0                1                0  \n",
            "4                    0                0                1                0  \n",
            "...                ...              ...              ...              ...  \n",
            "21071                0                0                1                0  \n",
            "21072                0                0                1                0  \n",
            "21073                0                0                1                0  \n",
            "21074                0                0                1                0  \n",
            "21075                0                0                1                0  \n",
            "\n",
            "[21076 rows x 12 columns]\n"
          ]
        }
      ],
      "source": [
        "df3 = pd.concat([df3,dummies],axis=1) \n",
        "print(df3)"
      ]
    },
    {
      "cell_type": "code",
      "execution_count": 22,
      "metadata": {
        "colab": {
          "base_uri": "https://localhost:8080/"
        },
        "id": "nyFiuHjpB1gJ",
        "outputId": "fded62fb-7904-4b2e-f97c-a861051c4195"
      },
      "outputs": [
        {
          "output_type": "stream",
          "name": "stdout",
          "text": [
            "         id    severity_type\n",
            "0      6597  severity_type 2\n",
            "1      8011  severity_type 2\n",
            "2      2597  severity_type 2\n",
            "3      5022  severity_type 1\n",
            "4      6852  severity_type 1\n",
            "...     ...              ...\n",
            "18547  3761  severity_type 1\n",
            "18548  8720  severity_type 1\n",
            "18549  6488  severity_type 2\n",
            "18550   878  severity_type 2\n",
            "18551  4464  severity_type 1\n",
            "\n",
            "[18552 rows x 2 columns]\n"
          ]
        }
      ],
      "source": [
        "df4=pd.read_csv('severity_type.csv')\n",
        "print(df4)"
      ]
    },
    {
      "cell_type": "code",
      "execution_count": 23,
      "metadata": {
        "colab": {
          "base_uri": "https://localhost:8080/"
        },
        "id": "MXs2l56kMwN6",
        "outputId": "d2282e4f-20ac-404c-c8eb-be721327a6dc"
      },
      "outputs": [
        {
          "output_type": "execute_result",
          "data": {
            "text/plain": [
              "array(['severity_type 2', 'severity_type 1', 'severity_type 4',\n",
              "       'severity_type 5', 'severity_type 3'], dtype=object)"
            ]
          },
          "metadata": {},
          "execution_count": 23
        }
      ],
      "source": [
        "df4['severity_type'].unique()\n"
      ]
    },
    {
      "cell_type": "code",
      "execution_count": 24,
      "metadata": {
        "colab": {
          "base_uri": "https://localhost:8080/"
        },
        "id": "huSnXMSqOuG3",
        "outputId": "0f32d22b-dfdc-4b73-cd39-519bc876e690"
      },
      "outputs": [
        {
          "output_type": "stream",
          "name": "stdout",
          "text": [
            "       severity_type 1  severity_type 2  severity_type 3  severity_type 4  \\\n",
            "0                    0                1                0                0   \n",
            "1                    0                1                0                0   \n",
            "2                    0                1                0                0   \n",
            "3                    1                0                0                0   \n",
            "4                    1                0                0                0   \n",
            "...                ...              ...              ...              ...   \n",
            "18547                1                0                0                0   \n",
            "18548                1                0                0                0   \n",
            "18549                0                1                0                0   \n",
            "18550                0                1                0                0   \n",
            "18551                1                0                0                0   \n",
            "\n",
            "       severity_type 5  \n",
            "0                    0  \n",
            "1                    0  \n",
            "2                    0  \n",
            "3                    0  \n",
            "4                    0  \n",
            "...                ...  \n",
            "18547                0  \n",
            "18548                0  \n",
            "18549                0  \n",
            "18550                0  \n",
            "18551                0  \n",
            "\n",
            "[18552 rows x 5 columns]\n"
          ]
        }
      ],
      "source": [
        "dummies1 = pd.get_dummies(df4.severity_type)  \n",
        "print(dummies1)"
      ]
    },
    {
      "cell_type": "code",
      "execution_count": 25,
      "metadata": {
        "colab": {
          "base_uri": "https://localhost:8080/"
        },
        "id": "WQcfrQ7gO3BK",
        "outputId": "21308213-89c7-4f22-e80a-f7ab9b069c51"
      },
      "outputs": [
        {
          "output_type": "stream",
          "name": "stdout",
          "text": [
            "         id    severity_type  severity_type 1  severity_type 2  \\\n",
            "0      6597  severity_type 2                0                1   \n",
            "1      8011  severity_type 2                0                1   \n",
            "2      2597  severity_type 2                0                1   \n",
            "3      5022  severity_type 1                1                0   \n",
            "4      6852  severity_type 1                1                0   \n",
            "...     ...              ...              ...              ...   \n",
            "18547  3761  severity_type 1                1                0   \n",
            "18548  8720  severity_type 1                1                0   \n",
            "18549  6488  severity_type 2                0                1   \n",
            "18550   878  severity_type 2                0                1   \n",
            "18551  4464  severity_type 1                1                0   \n",
            "\n",
            "       severity_type 3  severity_type 4  severity_type 5  \n",
            "0                    0                0                0  \n",
            "1                    0                0                0  \n",
            "2                    0                0                0  \n",
            "3                    0                0                0  \n",
            "4                    0                0                0  \n",
            "...                ...              ...              ...  \n",
            "18547                0                0                0  \n",
            "18548                0                0                0  \n",
            "18549                0                0                0  \n",
            "18550                0                0                0  \n",
            "18551                0                0                0  \n",
            "\n",
            "[18552 rows x 7 columns]\n"
          ]
        }
      ],
      "source": [
        "df4= pd.concat([df4,dummies1],axis=1) \n",
        "print(df4)"
      ]
    },
    {
      "cell_type": "code",
      "execution_count": 26,
      "metadata": {
        "colab": {
          "base_uri": "https://localhost:8080/"
        },
        "id": "zOE_1NKrDfYK",
        "outputId": "62ed93fa-3e2d-44ab-b41e-fdf4086bd5d2"
      },
      "outputs": [
        {
          "output_type": "stream",
          "name": "stdout",
          "text": [
            "         id       location  fault_severity\n",
            "0     14121   location 118               1\n",
            "1      9320    location 91               0\n",
            "2     14394   location 152               1\n",
            "3      8218   location 931               1\n",
            "4     14804   location 120               0\n",
            "...     ...            ...             ...\n",
            "7376    870   location 167               0\n",
            "7377  18068   location 106               0\n",
            "7378  14111  location 1086               2\n",
            "7379  15189     location 7               0\n",
            "7380  17067   location 885               0\n",
            "\n",
            "[7381 rows x 3 columns]\n"
          ]
        }
      ],
      "source": [
        "df5=pd.read_csv('train.csv')\n",
        "print(df5)"
      ]
    },
    {
      "cell_type": "code",
      "execution_count": 27,
      "metadata": {
        "colab": {
          "base_uri": "https://localhost:8080/"
        },
        "id": "1CUhIAvWEKBX",
        "outputId": "5b827ac5-02f8-467c-f19e-7d9dee004615"
      },
      "outputs": [
        {
          "output_type": "stream",
          "name": "stdout",
          "text": [
            "          id       location\n",
            "0      11066   location 481\n",
            "1      18000   location 962\n",
            "2      16964   location 491\n",
            "3       4795   location 532\n",
            "4       3392   location 600\n",
            "...      ...            ...\n",
            "11166  14806  location 1073\n",
            "11167   1825    location 11\n",
            "11168   2374   location 917\n",
            "11169   7277   location 208\n",
            "11170   9886   location 438\n",
            "\n",
            "[11171 rows x 2 columns]\n"
          ]
        }
      ],
      "source": [
        "df=pd.read_csv('test.csv')\n",
        "print(df)"
      ]
    },
    {
      "cell_type": "code",
      "execution_count": null,
      "metadata": {
        "colab": {
          "base_uri": "https://localhost:8080/"
        },
        "id": "h8bxQ-i9ekoA",
        "outputId": "d88f5487-3b8c-4c29-9bad-b61909684604"
      },
      "outputs": [
        {
          "name": "stdout",
          "output_type": "stream",
          "text": [
            "['severity_type 2' 'severity_type 2' 'severity_type 2' ...\n",
            " 'severity_type 2' 'severity_type 2' 'severity_type 1']\n",
            "         id  severity_type\n",
            "0      6597              2\n",
            "1      8011              2\n",
            "2      2597              2\n",
            "3      5022              1\n",
            "4      6852              1\n",
            "...     ...            ...\n",
            "18547  3761              1\n",
            "18548  8720              1\n",
            "18549  6488              2\n",
            "18550   878              2\n",
            "18551  4464              1\n",
            "\n",
            "[18552 rows x 2 columns]\n"
          ]
        }
      ],
      "source": [
        "\n",
        "\"\"\"d=df4['severity_type'].values\n",
        "s=[]\n",
        "print(d)\n",
        "for i in d:\n",
        "  q=re.findall(r'\\d+',i)\n",
        "  q1=''.join(q)\n",
        "  s.append(int(q1))\n",
        "\n",
        "df4['severity_type']=s\n",
        "print(df4)\"\"\"\n",
        "\n"
      ]
    },
    {
      "cell_type": "code",
      "execution_count": null,
      "metadata": {
        "colab": {
          "base_uri": "https://localhost:8080/"
        },
        "id": "Paq_melTnnzd",
        "outputId": "79481d3a-50a3-4c04-90fa-abd908bbf298"
      },
      "outputs": [
        {
          "name": "stdout",
          "output_type": "stream",
          "text": [
            "         id  resource_type\n",
            "0      6597              8\n",
            "1      8011              8\n",
            "2      2597              8\n",
            "3      5022              8\n",
            "4      6852              8\n",
            "...     ...            ...\n",
            "21071  3761              8\n",
            "21072  8720              8\n",
            "21073  6488              8\n",
            "21074   878              8\n",
            "21075  4464              8\n",
            "\n",
            "[21076 rows x 2 columns]\n"
          ]
        }
      ],
      "source": [
        "\"\"\"\n",
        "d1=df3['resource_type'].values\n",
        "s1=[]\n",
        "\n",
        "for i in d1:\n",
        "  q=re.findall(r'\\d+',i)\n",
        "  q1=''.join(q)\n",
        "  s1.append(int(q1))\n",
        "\n",
        "df3['resource_type']=s1\n",
        "print(df3)\"\"\""
      ]
    },
    {
      "cell_type": "code",
      "execution_count": 28,
      "metadata": {
        "colab": {
          "base_uri": "https://localhost:8080/"
        },
        "id": "mZSfnTQTo21R",
        "outputId": "af14fba9-1df7-471d-dfaf-cd7cb0ebb9b3"
      },
      "outputs": [
        {
          "output_type": "stream",
          "name": "stdout",
          "text": [
            "         id  log_feature  volume\n",
            "0      6597           68       6\n",
            "1      8011           68       7\n",
            "2      2597           68       1\n",
            "3      5022          172       2\n",
            "4      5022           56       1\n",
            "...     ...          ...     ...\n",
            "58666  8720          209       1\n",
            "58667  6488           54       3\n",
            "58668   878           62       1\n",
            "58669  4464          209       1\n",
            "58670  4464           87       2\n",
            "\n",
            "[58671 rows x 3 columns]\n"
          ]
        }
      ],
      "source": [
        "import re\n",
        "d2=df2['log_feature'].values\n",
        "s2=[]\n",
        "\n",
        "for i in d2:\n",
        "  q=re.findall(r'\\d+',i)\n",
        "  q1=''.join(q)\n",
        "  s2.append(int(q1))\n",
        "\n",
        "df2['log_feature']=s2\n",
        "print(df2)"
      ]
    },
    {
      "cell_type": "code",
      "execution_count": 29,
      "metadata": {
        "colab": {
          "base_uri": "https://localhost:8080/"
        },
        "id": "WId9cGf7pSIV",
        "outputId": "cbbcf80d-07b0-4961-cfb6-7a7cf6b44ba5"
      },
      "outputs": [
        {
          "output_type": "stream",
          "name": "stdout",
          "text": [
            "         id  event_type\n",
            "0      6597          11\n",
            "1      8011          15\n",
            "2      2597          15\n",
            "3      5022          15\n",
            "4      5022          11\n",
            "...     ...         ...\n",
            "31165  3761          11\n",
            "31166  8720          11\n",
            "31167  6488          11\n",
            "31168   878          11\n",
            "31169  4464          11\n",
            "\n",
            "[31170 rows x 2 columns]\n"
          ]
        }
      ],
      "source": [
        "import re\n",
        "d1=df1['event_type'].values\n",
        "s3=[]\n",
        "\n",
        "for i in d1:\n",
        "  q=re.findall(r'\\d+',i)\n",
        "  q1=''.join(q)\n",
        "  s3.append(int(q1))\n",
        "\n",
        "df1['event_type']=s3\n",
        "print(df1)"
      ]
    },
    {
      "cell_type": "code",
      "execution_count": 30,
      "metadata": {
        "colab": {
          "base_uri": "https://localhost:8080/"
        },
        "id": "7xLAdy7Prja9",
        "outputId": "86bad899-a1e0-40c0-d423-b36e1189e7e9"
      },
      "outputs": [
        {
          "output_type": "stream",
          "name": "stdout",
          "text": [
            "         id  location  fault_severity\n",
            "0     14121       118               1\n",
            "1      9320        91               0\n",
            "2     14394       152               1\n",
            "3      8218       931               1\n",
            "4     14804       120               0\n",
            "...     ...       ...             ...\n",
            "7376    870       167               0\n",
            "7377  18068       106               0\n",
            "7378  14111      1086               2\n",
            "7379  15189         7               0\n",
            "7380  17067       885               0\n",
            "\n",
            "[7381 rows x 3 columns]\n"
          ]
        }
      ],
      "source": [
        "\n",
        "d5=df5['location'].values\n",
        "s5=[]\n",
        "\n",
        "for i in d5:\n",
        "  q=re.findall(r'\\d+',i)\n",
        "  q1=''.join(q)\n",
        "  s5.append(int(q1))\n",
        "\n",
        "df5['location']=s5\n",
        "print(df5)"
      ]
    },
    {
      "cell_type": "code",
      "execution_count": 31,
      "metadata": {
        "colab": {
          "base_uri": "https://localhost:8080/"
        },
        "id": "s973_RF5p3fD",
        "outputId": "61feb968-0a87-4494-8580-e242b0cb3765"
      },
      "outputs": [
        {
          "output_type": "stream",
          "name": "stdout",
          "text": [
            "          id  event_type  log_feature  volume    resource_type  \\\n",
            "61369   2123           2            1       1  resource_type 8   \n",
            "2078   13382          28            1       1  resource_type 9   \n",
            "2077   13382          28            1       1  resource_type 8   \n",
            "2066   13382           2            1       1  resource_type 9   \n",
            "2065   13382           2            1       1  resource_type 8   \n",
            "...      ...         ...          ...     ...              ...   \n",
            "19609   7378          20          383       1  resource_type 8   \n",
            "19607   7378          20          383       1  resource_type 3   \n",
            "376     4630           1          384       2  resource_type 8   \n",
            "370     4630          11          384       2  resource_type 8   \n",
            "364     4630          15          384       2  resource_type 8   \n",
            "\n",
            "       resource_type 1  resource_type 10  resource_type 2  resource_type 3  \\\n",
            "61369                0                 0                0                0   \n",
            "2078                 0                 0                0                0   \n",
            "2077                 0                 0                0                0   \n",
            "2066                 0                 0                0                0   \n",
            "2065                 0                 0                0                0   \n",
            "...                ...               ...              ...              ...   \n",
            "19609                0                 0                0                0   \n",
            "19607                0                 0                0                1   \n",
            "376                  0                 0                0                0   \n",
            "370                  0                 0                0                0   \n",
            "364                  0                 0                0                0   \n",
            "\n",
            "       resource_type 4  ...  resource_type 8  resource_type 9  \\\n",
            "61369                0  ...                1                0   \n",
            "2078                 0  ...                0                1   \n",
            "2077                 0  ...                1                0   \n",
            "2066                 0  ...                0                1   \n",
            "2065                 0  ...                1                0   \n",
            "...                ...  ...              ...              ...   \n",
            "19609                0  ...                1                0   \n",
            "19607                0  ...                0                0   \n",
            "376                  0  ...                1                0   \n",
            "370                  0  ...                1                0   \n",
            "364                  0  ...                1                0   \n",
            "\n",
            "         severity_type  severity_type 1  severity_type 2 severity_type 3  \\\n",
            "61369  severity_type 1                1                0               0   \n",
            "2078   severity_type 1                1                0               0   \n",
            "2077   severity_type 1                1                0               0   \n",
            "2066   severity_type 1                1                0               0   \n",
            "2065   severity_type 1                1                0               0   \n",
            "...                ...              ...              ...             ...   \n",
            "19609  severity_type 1                1                0               0   \n",
            "19607  severity_type 1                1                0               0   \n",
            "376    severity_type 2                0                1               0   \n",
            "370    severity_type 2                0                1               0   \n",
            "364    severity_type 2                0                1               0   \n",
            "\n",
            "       severity_type 4  severity_type 5  location  fault_severity  \n",
            "61369                0                0       989               1  \n",
            "2078                 0                0      1020               2  \n",
            "2077                 0                0      1020               2  \n",
            "2066                 0                0      1020               2  \n",
            "2065                 0                0      1020               2  \n",
            "...                ...              ...       ...             ...  \n",
            "19609                0                0        32               2  \n",
            "19607                0                0        32               2  \n",
            "376                  0                0      1008               0  \n",
            "370                  0                0      1008               0  \n",
            "364                  0                0      1008               0  \n",
            "\n",
            "[61839 rows x 23 columns]\n"
          ]
        }
      ],
      "source": [
        "dff= pd.merge(df1,df2,on='id')\n",
        "dff1=pd.merge(dff,df3,on='id')\n",
        "dff2=pd.merge(dff1,df4,on='id')\n",
        "dff3=pd.merge(dff2,df5,on='id')\n",
        "\n",
        "dff3=dff3.sort_values(['log_feature'],ascending = [True])\n",
        "print(dff3)"
      ]
    },
    {
      "cell_type": "code",
      "execution_count": 32,
      "metadata": {
        "colab": {
          "base_uri": "https://localhost:8080/"
        },
        "id": "dRxAi3M3QWUB",
        "outputId": "601f2b97-454b-4b20-b72f-334ebfa656fa"
      },
      "outputs": [
        {
          "output_type": "stream",
          "name": "stdout",
          "text": [
            "          id  event_type  log_feature  volume  resource_type 1  \\\n",
            "61369   2123           2            1       1                0   \n",
            "2078   13382          28            1       1                0   \n",
            "2077   13382          28            1       1                0   \n",
            "2066   13382           2            1       1                0   \n",
            "2065   13382           2            1       1                0   \n",
            "...      ...         ...          ...     ...              ...   \n",
            "19609   7378          20          383       1                0   \n",
            "19607   7378          20          383       1                0   \n",
            "376     4630           1          384       2                0   \n",
            "370     4630          11          384       2                0   \n",
            "364     4630          15          384       2                0   \n",
            "\n",
            "       resource_type 10  resource_type 2  resource_type 3  resource_type 4  \\\n",
            "61369                 0                0                0                0   \n",
            "2078                  0                0                0                0   \n",
            "2077                  0                0                0                0   \n",
            "2066                  0                0                0                0   \n",
            "2065                  0                0                0                0   \n",
            "...                 ...              ...              ...              ...   \n",
            "19609                 0                0                0                0   \n",
            "19607                 0                0                1                0   \n",
            "376                   0                0                0                0   \n",
            "370                   0                0                0                0   \n",
            "364                   0                0                0                0   \n",
            "\n",
            "       resource_type 5  ...  resource_type 7  resource_type 8  \\\n",
            "61369                0  ...                0                1   \n",
            "2078                 0  ...                0                0   \n",
            "2077                 0  ...                0                1   \n",
            "2066                 0  ...                0                0   \n",
            "2065                 0  ...                0                1   \n",
            "...                ...  ...              ...              ...   \n",
            "19609                0  ...                0                1   \n",
            "19607                0  ...                0                0   \n",
            "376                  0  ...                0                1   \n",
            "370                  0  ...                0                1   \n",
            "364                  0  ...                0                1   \n",
            "\n",
            "       resource_type 9  severity_type 1  severity_type 2  severity_type 3  \\\n",
            "61369                0                1                0                0   \n",
            "2078                 1                1                0                0   \n",
            "2077                 0                1                0                0   \n",
            "2066                 1                1                0                0   \n",
            "2065                 0                1                0                0   \n",
            "...                ...              ...              ...              ...   \n",
            "19609                0                1                0                0   \n",
            "19607                0                1                0                0   \n",
            "376                  0                0                1                0   \n",
            "370                  0                0                1                0   \n",
            "364                  0                0                1                0   \n",
            "\n",
            "       severity_type 4  severity_type 5  location  fault_severity  \n",
            "61369                0                0       989               1  \n",
            "2078                 0                0      1020               2  \n",
            "2077                 0                0      1020               2  \n",
            "2066                 0                0      1020               2  \n",
            "2065                 0                0      1020               2  \n",
            "...                ...              ...       ...             ...  \n",
            "19609                0                0        32               2  \n",
            "19607                0                0        32               2  \n",
            "376                  0                0      1008               0  \n",
            "370                  0                0      1008               0  \n",
            "364                  0                0      1008               0  \n",
            "\n",
            "[61839 rows x 21 columns]\n"
          ]
        }
      ],
      "source": [
        "dff3=dff3.drop(['severity_type','resource_type'],axis=1)\n",
        "print(dff3)"
      ]
    },
    {
      "cell_type": "code",
      "execution_count": 33,
      "metadata": {
        "colab": {
          "base_uri": "https://localhost:8080/"
        },
        "id": "S7wZHFJ-_lF7",
        "outputId": "4310c79c-d52a-473d-c539-07b86c8fd24c"
      },
      "outputs": [
        {
          "output_type": "stream",
          "name": "stdout",
          "text": [
            "<class 'pandas.core.frame.DataFrame'>\n",
            "Int64Index: 61839 entries, 61369 to 364\n",
            "Data columns (total 21 columns):\n",
            " #   Column            Non-Null Count  Dtype\n",
            "---  ------            --------------  -----\n",
            " 0   id                61839 non-null  int64\n",
            " 1   event_type        61839 non-null  int64\n",
            " 2   log_feature       61839 non-null  int64\n",
            " 3   volume            61839 non-null  int64\n",
            " 4   resource_type 1   61839 non-null  uint8\n",
            " 5   resource_type 10  61839 non-null  uint8\n",
            " 6   resource_type 2   61839 non-null  uint8\n",
            " 7   resource_type 3   61839 non-null  uint8\n",
            " 8   resource_type 4   61839 non-null  uint8\n",
            " 9   resource_type 5   61839 non-null  uint8\n",
            " 10  resource_type 6   61839 non-null  uint8\n",
            " 11  resource_type 7   61839 non-null  uint8\n",
            " 12  resource_type 8   61839 non-null  uint8\n",
            " 13  resource_type 9   61839 non-null  uint8\n",
            " 14  severity_type 1   61839 non-null  uint8\n",
            " 15  severity_type 2   61839 non-null  uint8\n",
            " 16  severity_type 3   61839 non-null  uint8\n",
            " 17  severity_type 4   61839 non-null  uint8\n",
            " 18  severity_type 5   61839 non-null  uint8\n",
            " 19  location          61839 non-null  int64\n",
            " 20  fault_severity    61839 non-null  int64\n",
            "dtypes: int64(6), uint8(15)\n",
            "memory usage: 4.2 MB\n"
          ]
        }
      ],
      "source": [
        "#EDA\n",
        "dff3.info()"
      ]
    },
    {
      "cell_type": "code",
      "execution_count": 34,
      "metadata": {
        "colab": {
          "base_uri": "https://localhost:8080/",
          "height": 411
        },
        "id": "zhSc1R0_j7n4",
        "outputId": "d6e59344-bdec-42c0-9ee3-ae15aee3277b"
      },
      "outputs": [
        {
          "output_type": "execute_result",
          "data": {
            "text/plain": [
              "                 id    event_type   log_feature        volume  \\\n",
              "count  61839.000000  61839.000000  61839.000000  61839.000000   \n",
              "mean    9104.379469     24.887482    211.245411      8.390336   \n",
              "std     5387.274195     12.007950     94.919318     22.902491   \n",
              "min        1.000000      1.000000      1.000000      1.000000   \n",
              "25%     4353.000000     13.000000    134.000000      1.000000   \n",
              "50%     8981.000000     23.000000    228.000000      2.000000   \n",
              "75%    13664.000000     35.000000    306.000000      6.000000   \n",
              "max    18550.000000     54.000000    384.000000    877.000000   \n",
              "\n",
              "       resource_type 1  resource_type 10  resource_type 2  resource_type 3  \\\n",
              "count     61839.000000      61839.000000     61839.000000     61839.000000   \n",
              "mean          0.010463          0.007293         0.513365         0.011708   \n",
              "std           0.101751          0.085089         0.499825         0.107568   \n",
              "min           0.000000          0.000000         0.000000         0.000000   \n",
              "25%           0.000000          0.000000         0.000000         0.000000   \n",
              "50%           0.000000          0.000000         1.000000         0.000000   \n",
              "75%           0.000000          0.000000         1.000000         0.000000   \n",
              "max           1.000000          1.000000         1.000000         1.000000   \n",
              "\n",
              "       resource_type 4  resource_type 5  ...  resource_type 7  \\\n",
              "count     61839.000000     61839.000000  ...     61839.000000   \n",
              "mean          0.031129         0.001924  ...         0.046896   \n",
              "std           0.173668         0.043826  ...         0.211418   \n",
              "min           0.000000         0.000000  ...         0.000000   \n",
              "25%           0.000000         0.000000  ...         0.000000   \n",
              "50%           0.000000         0.000000  ...         0.000000   \n",
              "75%           0.000000         0.000000  ...         0.000000   \n",
              "max           1.000000         1.000000  ...         1.000000   \n",
              "\n",
              "       resource_type 8  resource_type 9  severity_type 1  severity_type 2  \\\n",
              "count     61839.000000     61839.000000     61839.000000     61839.000000   \n",
              "mean          0.323501         0.013115         0.591391         0.392309   \n",
              "std           0.467816         0.113767         0.491581         0.488269   \n",
              "min           0.000000         0.000000         0.000000         0.000000   \n",
              "25%           0.000000         0.000000         0.000000         0.000000   \n",
              "50%           0.000000         0.000000         1.000000         0.000000   \n",
              "75%           1.000000         0.000000         1.000000         1.000000   \n",
              "max           1.000000         1.000000         1.000000         1.000000   \n",
              "\n",
              "       severity_type 3  severity_type 4  severity_type 5      location  \\\n",
              "count     61839.000000     61839.000000     61839.000000  61839.000000   \n",
              "mean          0.000534         0.014877         0.000889    580.234836   \n",
              "std           0.023095         0.121063         0.029810    318.089156   \n",
              "min           0.000000         0.000000         0.000000      1.000000   \n",
              "25%           0.000000         0.000000         0.000000    304.000000   \n",
              "50%           0.000000         0.000000         0.000000    607.000000   \n",
              "75%           0.000000         0.000000         0.000000    834.000000   \n",
              "max           1.000000         1.000000         1.000000   1126.000000   \n",
              "\n",
              "       fault_severity  \n",
              "count    61839.000000  \n",
              "mean         0.549168  \n",
              "std          0.727701  \n",
              "min          0.000000  \n",
              "25%          0.000000  \n",
              "50%          0.000000  \n",
              "75%          1.000000  \n",
              "max          2.000000  \n",
              "\n",
              "[8 rows x 21 columns]"
            ],
            "text/html": [
              "\n",
              "  <div id=\"df-be4750cf-17f1-465d-9089-114940039e6b\">\n",
              "    <div class=\"colab-df-container\">\n",
              "      <div>\n",
              "<style scoped>\n",
              "    .dataframe tbody tr th:only-of-type {\n",
              "        vertical-align: middle;\n",
              "    }\n",
              "\n",
              "    .dataframe tbody tr th {\n",
              "        vertical-align: top;\n",
              "    }\n",
              "\n",
              "    .dataframe thead th {\n",
              "        text-align: right;\n",
              "    }\n",
              "</style>\n",
              "<table border=\"1\" class=\"dataframe\">\n",
              "  <thead>\n",
              "    <tr style=\"text-align: right;\">\n",
              "      <th></th>\n",
              "      <th>id</th>\n",
              "      <th>event_type</th>\n",
              "      <th>log_feature</th>\n",
              "      <th>volume</th>\n",
              "      <th>resource_type 1</th>\n",
              "      <th>resource_type 10</th>\n",
              "      <th>resource_type 2</th>\n",
              "      <th>resource_type 3</th>\n",
              "      <th>resource_type 4</th>\n",
              "      <th>resource_type 5</th>\n",
              "      <th>...</th>\n",
              "      <th>resource_type 7</th>\n",
              "      <th>resource_type 8</th>\n",
              "      <th>resource_type 9</th>\n",
              "      <th>severity_type 1</th>\n",
              "      <th>severity_type 2</th>\n",
              "      <th>severity_type 3</th>\n",
              "      <th>severity_type 4</th>\n",
              "      <th>severity_type 5</th>\n",
              "      <th>location</th>\n",
              "      <th>fault_severity</th>\n",
              "    </tr>\n",
              "  </thead>\n",
              "  <tbody>\n",
              "    <tr>\n",
              "      <th>count</th>\n",
              "      <td>61839.000000</td>\n",
              "      <td>61839.000000</td>\n",
              "      <td>61839.000000</td>\n",
              "      <td>61839.000000</td>\n",
              "      <td>61839.000000</td>\n",
              "      <td>61839.000000</td>\n",
              "      <td>61839.000000</td>\n",
              "      <td>61839.000000</td>\n",
              "      <td>61839.000000</td>\n",
              "      <td>61839.000000</td>\n",
              "      <td>...</td>\n",
              "      <td>61839.000000</td>\n",
              "      <td>61839.000000</td>\n",
              "      <td>61839.000000</td>\n",
              "      <td>61839.000000</td>\n",
              "      <td>61839.000000</td>\n",
              "      <td>61839.000000</td>\n",
              "      <td>61839.000000</td>\n",
              "      <td>61839.000000</td>\n",
              "      <td>61839.000000</td>\n",
              "      <td>61839.000000</td>\n",
              "    </tr>\n",
              "    <tr>\n",
              "      <th>mean</th>\n",
              "      <td>9104.379469</td>\n",
              "      <td>24.887482</td>\n",
              "      <td>211.245411</td>\n",
              "      <td>8.390336</td>\n",
              "      <td>0.010463</td>\n",
              "      <td>0.007293</td>\n",
              "      <td>0.513365</td>\n",
              "      <td>0.011708</td>\n",
              "      <td>0.031129</td>\n",
              "      <td>0.001924</td>\n",
              "      <td>...</td>\n",
              "      <td>0.046896</td>\n",
              "      <td>0.323501</td>\n",
              "      <td>0.013115</td>\n",
              "      <td>0.591391</td>\n",
              "      <td>0.392309</td>\n",
              "      <td>0.000534</td>\n",
              "      <td>0.014877</td>\n",
              "      <td>0.000889</td>\n",
              "      <td>580.234836</td>\n",
              "      <td>0.549168</td>\n",
              "    </tr>\n",
              "    <tr>\n",
              "      <th>std</th>\n",
              "      <td>5387.274195</td>\n",
              "      <td>12.007950</td>\n",
              "      <td>94.919318</td>\n",
              "      <td>22.902491</td>\n",
              "      <td>0.101751</td>\n",
              "      <td>0.085089</td>\n",
              "      <td>0.499825</td>\n",
              "      <td>0.107568</td>\n",
              "      <td>0.173668</td>\n",
              "      <td>0.043826</td>\n",
              "      <td>...</td>\n",
              "      <td>0.211418</td>\n",
              "      <td>0.467816</td>\n",
              "      <td>0.113767</td>\n",
              "      <td>0.491581</td>\n",
              "      <td>0.488269</td>\n",
              "      <td>0.023095</td>\n",
              "      <td>0.121063</td>\n",
              "      <td>0.029810</td>\n",
              "      <td>318.089156</td>\n",
              "      <td>0.727701</td>\n",
              "    </tr>\n",
              "    <tr>\n",
              "      <th>min</th>\n",
              "      <td>1.000000</td>\n",
              "      <td>1.000000</td>\n",
              "      <td>1.000000</td>\n",
              "      <td>1.000000</td>\n",
              "      <td>0.000000</td>\n",
              "      <td>0.000000</td>\n",
              "      <td>0.000000</td>\n",
              "      <td>0.000000</td>\n",
              "      <td>0.000000</td>\n",
              "      <td>0.000000</td>\n",
              "      <td>...</td>\n",
              "      <td>0.000000</td>\n",
              "      <td>0.000000</td>\n",
              "      <td>0.000000</td>\n",
              "      <td>0.000000</td>\n",
              "      <td>0.000000</td>\n",
              "      <td>0.000000</td>\n",
              "      <td>0.000000</td>\n",
              "      <td>0.000000</td>\n",
              "      <td>1.000000</td>\n",
              "      <td>0.000000</td>\n",
              "    </tr>\n",
              "    <tr>\n",
              "      <th>25%</th>\n",
              "      <td>4353.000000</td>\n",
              "      <td>13.000000</td>\n",
              "      <td>134.000000</td>\n",
              "      <td>1.000000</td>\n",
              "      <td>0.000000</td>\n",
              "      <td>0.000000</td>\n",
              "      <td>0.000000</td>\n",
              "      <td>0.000000</td>\n",
              "      <td>0.000000</td>\n",
              "      <td>0.000000</td>\n",
              "      <td>...</td>\n",
              "      <td>0.000000</td>\n",
              "      <td>0.000000</td>\n",
              "      <td>0.000000</td>\n",
              "      <td>0.000000</td>\n",
              "      <td>0.000000</td>\n",
              "      <td>0.000000</td>\n",
              "      <td>0.000000</td>\n",
              "      <td>0.000000</td>\n",
              "      <td>304.000000</td>\n",
              "      <td>0.000000</td>\n",
              "    </tr>\n",
              "    <tr>\n",
              "      <th>50%</th>\n",
              "      <td>8981.000000</td>\n",
              "      <td>23.000000</td>\n",
              "      <td>228.000000</td>\n",
              "      <td>2.000000</td>\n",
              "      <td>0.000000</td>\n",
              "      <td>0.000000</td>\n",
              "      <td>1.000000</td>\n",
              "      <td>0.000000</td>\n",
              "      <td>0.000000</td>\n",
              "      <td>0.000000</td>\n",
              "      <td>...</td>\n",
              "      <td>0.000000</td>\n",
              "      <td>0.000000</td>\n",
              "      <td>0.000000</td>\n",
              "      <td>1.000000</td>\n",
              "      <td>0.000000</td>\n",
              "      <td>0.000000</td>\n",
              "      <td>0.000000</td>\n",
              "      <td>0.000000</td>\n",
              "      <td>607.000000</td>\n",
              "      <td>0.000000</td>\n",
              "    </tr>\n",
              "    <tr>\n",
              "      <th>75%</th>\n",
              "      <td>13664.000000</td>\n",
              "      <td>35.000000</td>\n",
              "      <td>306.000000</td>\n",
              "      <td>6.000000</td>\n",
              "      <td>0.000000</td>\n",
              "      <td>0.000000</td>\n",
              "      <td>1.000000</td>\n",
              "      <td>0.000000</td>\n",
              "      <td>0.000000</td>\n",
              "      <td>0.000000</td>\n",
              "      <td>...</td>\n",
              "      <td>0.000000</td>\n",
              "      <td>1.000000</td>\n",
              "      <td>0.000000</td>\n",
              "      <td>1.000000</td>\n",
              "      <td>1.000000</td>\n",
              "      <td>0.000000</td>\n",
              "      <td>0.000000</td>\n",
              "      <td>0.000000</td>\n",
              "      <td>834.000000</td>\n",
              "      <td>1.000000</td>\n",
              "    </tr>\n",
              "    <tr>\n",
              "      <th>max</th>\n",
              "      <td>18550.000000</td>\n",
              "      <td>54.000000</td>\n",
              "      <td>384.000000</td>\n",
              "      <td>877.000000</td>\n",
              "      <td>1.000000</td>\n",
              "      <td>1.000000</td>\n",
              "      <td>1.000000</td>\n",
              "      <td>1.000000</td>\n",
              "      <td>1.000000</td>\n",
              "      <td>1.000000</td>\n",
              "      <td>...</td>\n",
              "      <td>1.000000</td>\n",
              "      <td>1.000000</td>\n",
              "      <td>1.000000</td>\n",
              "      <td>1.000000</td>\n",
              "      <td>1.000000</td>\n",
              "      <td>1.000000</td>\n",
              "      <td>1.000000</td>\n",
              "      <td>1.000000</td>\n",
              "      <td>1126.000000</td>\n",
              "      <td>2.000000</td>\n",
              "    </tr>\n",
              "  </tbody>\n",
              "</table>\n",
              "<p>8 rows × 21 columns</p>\n",
              "</div>\n",
              "      <button class=\"colab-df-convert\" onclick=\"convertToInteractive('df-be4750cf-17f1-465d-9089-114940039e6b')\"\n",
              "              title=\"Convert this dataframe to an interactive table.\"\n",
              "              style=\"display:none;\">\n",
              "        \n",
              "  <svg xmlns=\"http://www.w3.org/2000/svg\" height=\"24px\"viewBox=\"0 0 24 24\"\n",
              "       width=\"24px\">\n",
              "    <path d=\"M0 0h24v24H0V0z\" fill=\"none\"/>\n",
              "    <path d=\"M18.56 5.44l.94 2.06.94-2.06 2.06-.94-2.06-.94-.94-2.06-.94 2.06-2.06.94zm-11 1L8.5 8.5l.94-2.06 2.06-.94-2.06-.94L8.5 2.5l-.94 2.06-2.06.94zm10 10l.94 2.06.94-2.06 2.06-.94-2.06-.94-.94-2.06-.94 2.06-2.06.94z\"/><path d=\"M17.41 7.96l-1.37-1.37c-.4-.4-.92-.59-1.43-.59-.52 0-1.04.2-1.43.59L10.3 9.45l-7.72 7.72c-.78.78-.78 2.05 0 2.83L4 21.41c.39.39.9.59 1.41.59.51 0 1.02-.2 1.41-.59l7.78-7.78 2.81-2.81c.8-.78.8-2.07 0-2.86zM5.41 20L4 18.59l7.72-7.72 1.47 1.35L5.41 20z\"/>\n",
              "  </svg>\n",
              "      </button>\n",
              "      \n",
              "  <style>\n",
              "    .colab-df-container {\n",
              "      display:flex;\n",
              "      flex-wrap:wrap;\n",
              "      gap: 12px;\n",
              "    }\n",
              "\n",
              "    .colab-df-convert {\n",
              "      background-color: #E8F0FE;\n",
              "      border: none;\n",
              "      border-radius: 50%;\n",
              "      cursor: pointer;\n",
              "      display: none;\n",
              "      fill: #1967D2;\n",
              "      height: 32px;\n",
              "      padding: 0 0 0 0;\n",
              "      width: 32px;\n",
              "    }\n",
              "\n",
              "    .colab-df-convert:hover {\n",
              "      background-color: #E2EBFA;\n",
              "      box-shadow: 0px 1px 2px rgba(60, 64, 67, 0.3), 0px 1px 3px 1px rgba(60, 64, 67, 0.15);\n",
              "      fill: #174EA6;\n",
              "    }\n",
              "\n",
              "    [theme=dark] .colab-df-convert {\n",
              "      background-color: #3B4455;\n",
              "      fill: #D2E3FC;\n",
              "    }\n",
              "\n",
              "    [theme=dark] .colab-df-convert:hover {\n",
              "      background-color: #434B5C;\n",
              "      box-shadow: 0px 1px 3px 1px rgba(0, 0, 0, 0.15);\n",
              "      filter: drop-shadow(0px 1px 2px rgba(0, 0, 0, 0.3));\n",
              "      fill: #FFFFFF;\n",
              "    }\n",
              "  </style>\n",
              "\n",
              "      <script>\n",
              "        const buttonEl =\n",
              "          document.querySelector('#df-be4750cf-17f1-465d-9089-114940039e6b button.colab-df-convert');\n",
              "        buttonEl.style.display =\n",
              "          google.colab.kernel.accessAllowed ? 'block' : 'none';\n",
              "\n",
              "        async function convertToInteractive(key) {\n",
              "          const element = document.querySelector('#df-be4750cf-17f1-465d-9089-114940039e6b');\n",
              "          const dataTable =\n",
              "            await google.colab.kernel.invokeFunction('convertToInteractive',\n",
              "                                                     [key], {});\n",
              "          if (!dataTable) return;\n",
              "\n",
              "          const docLinkHtml = 'Like what you see? Visit the ' +\n",
              "            '<a target=\"_blank\" href=https://colab.research.google.com/notebooks/data_table.ipynb>data table notebook</a>'\n",
              "            + ' to learn more about interactive tables.';\n",
              "          element.innerHTML = '';\n",
              "          dataTable['output_type'] = 'display_data';\n",
              "          await google.colab.output.renderOutput(dataTable, element);\n",
              "          const docLink = document.createElement('div');\n",
              "          docLink.innerHTML = docLinkHtml;\n",
              "          element.appendChild(docLink);\n",
              "        }\n",
              "      </script>\n",
              "    </div>\n",
              "  </div>\n",
              "  "
            ]
          },
          "metadata": {},
          "execution_count": 34
        }
      ],
      "source": [
        "dff3.describe()"
      ]
    },
    {
      "cell_type": "code",
      "execution_count": 35,
      "metadata": {
        "colab": {
          "base_uri": "https://localhost:8080/"
        },
        "id": "9iFvwHC8UIrA",
        "outputId": "5334303b-1f89-41e9-8730-c412089bd834"
      },
      "outputs": [
        {
          "output_type": "execute_result",
          "data": {
            "text/plain": [
              "id     event_type  log_feature  volume  resource_type 1  resource_type 10  resource_type 2  resource_type 3  resource_type 4  resource_type 5  resource_type 6  resource_type 7  resource_type 8  resource_type 9  severity_type 1  severity_type 2  severity_type 3  severity_type 4  severity_type 5  location  fault_severity\n",
              "False  False       False        False   False            False             False            False            False            False            False            False            False            False            False            False            False            False            False            False     False             61839\n",
              "dtype: int64"
            ]
          },
          "metadata": {},
          "execution_count": 35
        }
      ],
      "source": [
        "dff3.isnull().value_counts()"
      ]
    },
    {
      "cell_type": "code",
      "execution_count": 36,
      "metadata": {
        "colab": {
          "base_uri": "https://localhost:8080/"
        },
        "id": "v2FSUe3yB_K-",
        "outputId": "6edb7d43-3995-4734-8d6f-8ba74920336d"
      },
      "outputs": [
        {
          "output_type": "execute_result",
          "data": {
            "text/plain": [
              "0    36597\n",
              "1    16524\n",
              "2     8718\n",
              "Name: fault_severity, dtype: int64"
            ]
          },
          "metadata": {},
          "execution_count": 36
        }
      ],
      "source": [
        "dff3['fault_severity'].value_counts()                                           #data is imbalanced"
      ]
    },
    {
      "cell_type": "code",
      "execution_count": 37,
      "metadata": {
        "colab": {
          "base_uri": "https://localhost:8080/"
        },
        "id": "-bBsf7Wta-ev",
        "outputId": "03145316-cd98-44a5-96eb-457637014381"
      },
      "outputs": [
        {
          "output_type": "execute_result",
          "data": {
            "text/plain": [
              "(61839, 21)"
            ]
          },
          "metadata": {},
          "execution_count": 37
        }
      ],
      "source": [
        "dff3.shape"
      ]
    },
    {
      "cell_type": "code",
      "execution_count": 38,
      "metadata": {
        "colab": {
          "base_uri": "https://localhost:8080/"
        },
        "id": "KbcVnxpmmJgS",
        "outputId": "5b21bf7b-3cc0-4110-fd0a-2b6836721480"
      },
      "outputs": [
        {
          "output_type": "execute_result",
          "data": {
            "text/plain": [
              "id                 -0.045528\n",
              "event_type         -0.262184\n",
              "log_feature        -0.208400\n",
              "volume             -0.027196\n",
              "resource_type 1     0.066544\n",
              "resource_type 10    0.005569\n",
              "resource_type 2    -0.335982\n",
              "resource_type 3     0.048632\n",
              "resource_type 4     0.081235\n",
              "resource_type 5     0.087544\n",
              "resource_type 6     0.098407\n",
              "resource_type 7     0.059011\n",
              "resource_type 8     0.221832\n",
              "resource_type 9     0.016139\n",
              "severity_type 1     0.365011\n",
              "severity_type 2    -0.354763\n",
              "severity_type 3    -0.017438\n",
              "severity_type 4    -0.045933\n",
              "severity_type 5    -0.008352\n",
              "location            0.270390\n",
              "fault_severity      1.000000\n",
              "Name: fault_severity, dtype: float64"
            ]
          },
          "metadata": {},
          "execution_count": 38
        }
      ],
      "source": [
        "dff3.corr()['fault_severity']"
      ]
    },
    {
      "cell_type": "code",
      "execution_count": 39,
      "metadata": {
        "colab": {
          "base_uri": "https://localhost:8080/"
        },
        "id": "JPiLy0spFy60",
        "outputId": "a0304b78-ff49-4b26-869e-5c6cd75f9f23"
      },
      "outputs": [
        {
          "output_type": "execute_result",
          "data": {
            "text/plain": [
              "array([1, 2, 0])"
            ]
          },
          "metadata": {},
          "execution_count": 39
        }
      ],
      "source": [
        "dff3['fault_severity'].unique()"
      ]
    },
    {
      "cell_type": "code",
      "execution_count": null,
      "metadata": {
        "colab": {
          "base_uri": "https://localhost:8080/",
          "height": 388
        },
        "id": "EQcoCzoh4N9_",
        "outputId": "c79b0cf9-b49b-4a6c-a601-ecf601efc401"
      },
      "outputs": [
        {
          "output_type": "stream",
          "name": "stderr",
          "text": [
            "/usr/local/lib/python3.7/dist-packages/sklearn/manifold/_t_sne.py:783: FutureWarning: The default initialization in TSNE will change from 'random' to 'pca' in 1.2.\n",
            "  FutureWarning,\n",
            "/usr/local/lib/python3.7/dist-packages/seaborn/_decorators.py:43: FutureWarning: Pass the following variables as keyword args: x, y. From version 0.12, the only valid positional argument will be `data`, and passing other arguments without an explicit keyword will result in an error or misinterpretation.\n",
            "  FutureWarning\n"
          ]
        },
        {
          "output_type": "execute_result",
          "data": {
            "text/plain": [
              "[Text(0.5, 1.0, 'tsne')]"
            ]
          },
          "metadata": {},
          "execution_count": 28
        },
        {
          "output_type": "display_data",
          "data": {
            "text/plain": [
              "<Figure size 432x288 with 1 Axes>"
            ],
            "image/png": "[encoded data removed]"
          },
          "metadata": {
            "needs_background": "light"
          }
        }
      ],
      "source": [
        "#TSNE                                                                           #https://www.datatechnotes.com/2020/11/tsne-visualization-example-in-python.html\n",
        "from sklearn.manifold import TSNE\n",
        "import seaborn as sns\n",
        "xtsne=TSNE(perplexity=200,learning_rate=1000,n_iter=6000)\n",
        "results=xtsne.fit_transform(dff3.drop(['fault_severity'], axis=1))\n",
        "vis_x = results[:, 0]\n",
        "vis_y = results[:, 1]\n",
        "data_y =dff3['fault_severity']\n",
        "\n",
        "sns.scatterplot(vis_x,vis_y, hue=data_y.tolist(),\n",
        "                palette=sns.color_palette(\"hls\", 3),\n",
        "                data=dff3).set(title=\"tsne\")"
      ]
    },
    {
      "cell_type": "code",
      "execution_count": null,
      "metadata": {
        "id": "U6KOtFoEE8uf"
      },
      "outputs": [],
      "source": [
        "#pair plot\n",
        "import matplotlib.pyplot as plt\n",
        "import seaborn as sns\n",
        "sns.pairplot(dff3, hue=\"fault_severity\",palette='Dark2')\n",
        "plt.show()"
      ]
    },
    {
      "cell_type": "markdown",
      "metadata": {
        "id": "IBu42qtFH2EK"
      },
      "source": [
        "from the above observation, resource type and severity type pairplot points are well separated than others."
      ]
    },
    {
      "cell_type": "code",
      "execution_count": null,
      "metadata": {
        "colab": {
          "base_uri": "https://localhost:8080/",
          "height": 385
        },
        "id": "MD7h04tQPzSm",
        "outputId": "3e0745ca-4e06-461f-b01d-fb67367e1a59"
      },
      "outputs": [
        {
          "data": {
            "image/png": "[encoded data removed]",
            "text/plain": [
              "<Figure size 436x360 with 1 Axes>"
            ]
          },
          "metadata": {},
          "output_type": "display_data"
        }
      ],
      "source": [
        "import seaborn as sns\n",
        "sns.FacetGrid(dff3, hue=\"fault_severity\", size=5) \\\n",
        "   .map(sns.distplot, \"event_type\") \\\n",
        "   .add_legend();\n",
        "plt.title('Histogram of event_type') \n",
        "plt.show();"
      ]
    },
    {
      "cell_type": "markdown",
      "metadata": {
        "id": "O7KWwu5GUGae"
      },
      "source": [
        "from this observation,density of points at lower event_type shows fault_severity(2) more and as the event_type increases btw(30 and 40) fault_severity(0) is more."
      ]
    },
    {
      "cell_type": "code",
      "execution_count": null,
      "metadata": {
        "colab": {
          "base_uri": "https://localhost:8080/",
          "height": 384
        },
        "id": "BkBBc5SMQSg7",
        "outputId": "8a43b3ea-4c57-4757-ab59-d5b60d4716cd"
      },
      "outputs": [
        {
          "data": {
            "image/png": "[encoded data removed]",
            "text/plain": [
              "<Figure size 436x360 with 1 Axes>"
            ]
          },
          "metadata": {},
          "output_type": "display_data"
        }
      ],
      "source": [
        "import seaborn as sns\n",
        "sns.FacetGrid(dff3, hue=\"fault_severity\", size=5) \\\n",
        "   .map(sns.distplot, \"log_feature\") \\\n",
        "   .add_legend();\n",
        "plt.title('Histogram of log_feature') \n",
        "plt.show();"
      ]
    },
    {
      "cell_type": "markdown",
      "metadata": {
        "id": "eR2hG__iWzx2"
      },
      "source": [
        "fault severity (0,1,2) are overlapping more but density of log feature points at(300)has (fault_severity 0) more."
      ]
    },
    {
      "cell_type": "code",
      "execution_count": null,
      "metadata": {
        "colab": {
          "base_uri": "https://localhost:8080/",
          "height": 385
        },
        "id": "JxkdoVKFQk09",
        "outputId": "fccd71cc-f0ea-47a0-d0da-602036816447"
      },
      "outputs": [
        {
          "data": {
            "image/png": "[encoded data removed]",
            "text/plain": [
              "<Figure size 436x360 with 1 Axes>"
            ]
          },
          "metadata": {},
          "output_type": "display_data"
        }
      ],
      "source": [
        "import seaborn as sns\n",
        "sns.FacetGrid(dff3, hue=\"fault_severity\", size=5) \\\n",
        "   .map(sns.distplot,'volume') \\\n",
        "   .add_legend();\n",
        "plt.title('Histogram of volume') \n",
        "plt.show();"
      ]
    },
    {
      "cell_type": "markdown",
      "metadata": {
        "id": "tGUbYHwJYDL6"
      },
      "source": [
        "density of points at lesser volume has fault_severity (1) high."
      ]
    },
    {
      "cell_type": "markdown",
      "metadata": {
        "id": "culvq2a3aGgz"
      },
      "source": [
        "density of points at lesser resource_type has higher fault_severity(0).also fault_severity(0,1,2) are less overlapping so this feature is useful in predicting the output."
      ]
    },
    {
      "cell_type": "markdown",
      "metadata": {
        "id": "EjAl4ugqyhuT"
      },
      "source": [
        "density of points at lower severity type has fault severit(2) is more."
      ]
    },
    {
      "cell_type": "code",
      "execution_count": null,
      "metadata": {
        "colab": {
          "base_uri": "https://localhost:8080/",
          "height": 385
        },
        "id": "295UL2wPySRo",
        "outputId": "0a6642c6-97ab-4ecc-cda3-dfaf94d9151c"
      },
      "outputs": [
        {
          "data": {
            "image/png": "[encoded data removed]",
            "text/plain": [
              "<Figure size 436x360 with 1 Axes>"
            ]
          },
          "metadata": {},
          "output_type": "display_data"
        }
      ],
      "source": [
        "sns.FacetGrid(dff3, hue=\"fault_severity\", size=5) \\\n",
        "   .map(sns.distplot,'location') \\\n",
        "   .add_legend();\n",
        "plt.title('Histogram of location') \n",
        "plt.show();"
      ]
    },
    {
      "cell_type": "code",
      "execution_count": null,
      "metadata": {
        "colab": {
          "base_uri": "https://localhost:8080/",
          "height": 296
        },
        "id": "PcHHely_Vzvy",
        "outputId": "c3eda9aa-d8d9-43ee-fe72-db5600a86dfb"
      },
      "outputs": [
        {
          "data": {
            "image/png": "[encoded data removed]",
            "text/plain": [
              "<Figure size 432x288 with 1 Axes>"
            ]
          },
          "metadata": {},
          "output_type": "display_data"
        }
      ],
      "source": [
        "import seaborn as sns\n",
        "import matplotlib.pyplot as plt                                                 #boxplot representation of feature log_feature\n",
        "ax = sns.boxplot(x=\"fault_severity\", y=\"log_feature\", data=dff3)                \n",
        "plt.title(\"boxplot of logfile features\")\n",
        "plt.show()"
      ]
    },
    {
      "cell_type": "code",
      "execution_count": null,
      "metadata": {
        "id": "L3Vj5jKDqMGs"
      },
      "outputs": [],
      "source": [
        "import numpy as np                                                              #https://www.geeksforgeeks.org/detect-and-remove-the-outliers-using-python/\n",
        "Q1 = np.percentile(dff3['log_feature'], 25,                                     #to detect and remove outliers\n",
        "                   interpolation = 'midpoint')                   \n",
        " \n",
        "Q3 = np.percentile(dff3['log_feature'], 75,\n",
        "                   interpolation = 'midpoint')\n",
        "IQR = Q3 - Q1\n",
        "\n",
        "upper = np.where(dff3['log_feature'] >= (Q3+1.5*IQR))\n",
        "\n",
        "# Lower bound\n",
        "lower = np.where(dff3['log_feature'] <= (Q1-1.5*IQR))\n",
        "dff3.drop(upper[0],inplace=True)\n",
        "dff3.drop(lower[0],inplace=True)"
      ]
    },
    {
      "cell_type": "code",
      "execution_count": null,
      "metadata": {
        "colab": {
          "base_uri": "https://localhost:8080/",
          "height": 296
        },
        "id": "fvWczSoIV8nH",
        "outputId": "c8fb92c4-221e-4733-cabe-a5a83af539ef"
      },
      "outputs": [
        {
          "data": {
            "image/png": "[encoded data removed]",
            "text/plain": [
              "<Figure size 432x288 with 1 Axes>"
            ]
          },
          "metadata": {},
          "output_type": "display_data"
        }
      ],
      "source": [
        "ax = sns.boxplot(x=\"fault_severity\", y=\"id\", data=dff3)                         ##boxplot representation of feature id\n",
        "plt.title(\"boxplot of logfile features\")\n",
        "plt.show()"
      ]
    },
    {
      "cell_type": "code",
      "execution_count": null,
      "metadata": {
        "colab": {
          "base_uri": "https://localhost:8080/",
          "height": 296
        },
        "id": "fXU3NHa9WGed",
        "outputId": "567c733e-3167-4c13-c661-70ddc5d64746"
      },
      "outputs": [
        {
          "data": {
            "image/png": "[encoded data removed]",
            "text/plain": [
              "<Figure size 432x288 with 1 Axes>"
            ]
          },
          "metadata": {},
          "output_type": "display_data"
        }
      ],
      "source": [
        "ax = sns.boxplot(x=\"fault_severity\", y=\"event_type\", data=dff3)                 ##boxplot representation of feature event_type\n",
        "plt.title(\"boxplot of logfile features\")\n",
        "plt.show()"
      ]
    },
    {
      "cell_type": "code",
      "execution_count": null,
      "metadata": {
        "id": "QfPDkhKhzIEr"
      },
      "outputs": [],
      "source": [
        "                 \n",
        "Q1 = np.percentile(dff3['event_type'], 25,\n",
        "                   interpolation = 'midpoint')\n",
        " \n",
        "Q3 = np.percentile(dff3['event_type'], 75,\n",
        "                   interpolation = 'midpoint')\n",
        "IQR = Q3 - Q1\n",
        "\n",
        "upper = np.where(dff3['event_type'] >= (Q3+1.5*IQR))\n",
        "\n",
        "# Lower bound\n",
        "lower = np.where(dff3['event_type'] <= (Q1-1.5*IQR))\n",
        "dff3.drop(upper[0],inplace=True)\n",
        "dff3.drop(lower[0],inplace=True)"
      ]
    },
    {
      "cell_type": "code",
      "execution_count": null,
      "metadata": {
        "colab": {
          "base_uri": "https://localhost:8080/",
          "height": 296
        },
        "id": "krE05o4RWabY",
        "outputId": "c521a6b8-9d91-42be-d78e-8ec781965e39"
      },
      "outputs": [
        {
          "data": {
            "image/png": "[encoded data removed]",
            "text/plain": [
              "<Figure size 432x288 with 1 Axes>"
            ]
          },
          "metadata": {},
          "output_type": "display_data"
        }
      ],
      "source": [
        "ax = sns.boxplot(x=\"fault_severity\", y=\"volume\", data=dff3)                   #boxplot representation of feature location\n",
        "plt.title(\"boxplot of logfile features\")\n",
        "plt.show()"
      ]
    },
    {
      "cell_type": "code",
      "execution_count": null,
      "metadata": {
        "colab": {
          "base_uri": "https://localhost:8080/",
          "height": 296
        },
        "id": "257WahSrWeBz",
        "outputId": "9c3c25c9-7822-4305-d5e5-bb6c42fad715"
      },
      "outputs": [
        {
          "data": {
            "image/png": "[encoded data removed]",
            "text/plain": [
              "<Figure size 432x288 with 1 Axes>"
            ]
          },
          "metadata": {},
          "output_type": "display_data"
        }
      ],
      "source": [
        "ax = sns.boxplot(x=\"fault_severity\", y=\"location\", data=dff3)                   #boxplot representation of feature location\n",
        "plt.title(\"boxplot of logfile features\")\n",
        "plt.show()"
      ]
    },
    {
      "cell_type": "code",
      "execution_count": null,
      "metadata": {
        "id": "qhh8PSFO1Kw1"
      },
      "outputs": [],
      "source": [
        "Q1 = np.percentile(dff3['location'], 25,\n",
        "                   interpolation = 'midpoint')\n",
        " \n",
        "Q3 = np.percentile(dff3['location'], 75,\n",
        "                   interpolation = 'midpoint')\n",
        "IQR = Q3 - Q1\n",
        "\n",
        "upper = np.where(dff3['location'] >= (Q3+1.5*IQR))\n",
        "# Lower bound\n",
        "lower = np.where(dff3['location'] <= (Q1-1.5*IQR))\n",
        "dff3.drop(upper[0], inplace = True)\n",
        "dff3.drop(lower[0], inplace = True)"
      ]
    },
    {
      "cell_type": "code",
      "execution_count": null,
      "metadata": {
        "colab": {
          "base_uri": "https://localhost:8080/",
          "height": 284
        },
        "id": "ENaJMaEtXMTn",
        "outputId": "d406f4a0-ee8c-4ca0-c633-e3a9c84193b1"
      },
      "outputs": [
        {
          "data": {
            "image/png": "[encoded data removed]",
            "text/plain": [
              "<Figure size 432x288 with 1 Axes>"
            ]
          },
          "metadata": {},
          "output_type": "display_data"
        }
      ],
      "source": [
        "import numpy as np                                                              #distribution of fault_severity\n",
        "total = len(dff3)*1.\n",
        "ax=sns.countplot(x=\"fault_severity\", data=dff3)\n",
        "for p in ax.patches:\n",
        "        ax.annotate('{:.1f}%'.format(100*p.get_height()/total), (p.get_x()+0.1, p.get_height()+5))\n",
        "\n",
        "#put 11 ticks (therefore 10 steps), from 0 to the total number of rows in the dataframe\n",
        "ax.yaxis.set_ticks(np.linspace(0, total, 11))\n",
        "\n",
        "#adjust the ticklabel to the desired format, without changing the position of the ticks. \n",
        "ax.set_yticklabels(map('{:.1f}%'.format, 100*ax.yaxis.get_majorticklocs()/total))\n",
        "plt.show()"
      ]
    },
    {
      "cell_type": "code",
      "execution_count": 40,
      "metadata": {
        "colab": {
          "base_uri": "https://localhost:8080/"
        },
        "id": "dzmUelehnEzI",
        "outputId": "d82d4ac4-49a9-4906-8f07-1d6fbd3a77b5"
      },
      "outputs": [
        {
          "output_type": "stream",
          "name": "stdout",
          "text": [
            "          id  event_type  log_feature  volume  resource_type 1  \\\n",
            "61369   2123           2            1       1                0   \n",
            "2078   13382          28            1       1                0   \n",
            "2077   13382          28            1       1                0   \n",
            "2066   13382           2            1       1                0   \n",
            "2065   13382           2            1       1                0   \n",
            "...      ...         ...          ...     ...              ...   \n",
            "19609   7378          20          383       1                0   \n",
            "19607   7378          20          383       1                0   \n",
            "376     4630           1          384       2                0   \n",
            "370     4630          11          384       2                0   \n",
            "364     4630          15          384       2                0   \n",
            "\n",
            "       resource_type 10  resource_type 2  resource_type 3  resource_type 4  \\\n",
            "61369                 0                0                0                0   \n",
            "2078                  0                0                0                0   \n",
            "2077                  0                0                0                0   \n",
            "2066                  0                0                0                0   \n",
            "2065                  0                0                0                0   \n",
            "...                 ...              ...              ...              ...   \n",
            "19609                 0                0                0                0   \n",
            "19607                 0                0                1                0   \n",
            "376                   0                0                0                0   \n",
            "370                   0                0                0                0   \n",
            "364                   0                0                0                0   \n",
            "\n",
            "       resource_type 5  resource_type 6  resource_type 7  resource_type 8  \\\n",
            "61369                0                0                0                1   \n",
            "2078                 0                0                0                0   \n",
            "2077                 0                0                0                1   \n",
            "2066                 0                0                0                0   \n",
            "2065                 0                0                0                1   \n",
            "...                ...              ...              ...              ...   \n",
            "19609                0                0                0                1   \n",
            "19607                0                0                0                0   \n",
            "376                  0                0                0                1   \n",
            "370                  0                0                0                1   \n",
            "364                  0                0                0                1   \n",
            "\n",
            "       resource_type 9  severity_type 1  severity_type 2  severity_type 3  \\\n",
            "61369                0                1                0                0   \n",
            "2078                 1                1                0                0   \n",
            "2077                 0                1                0                0   \n",
            "2066                 1                1                0                0   \n",
            "2065                 0                1                0                0   \n",
            "...                ...              ...              ...              ...   \n",
            "19609                0                1                0                0   \n",
            "19607                0                1                0                0   \n",
            "376                  0                0                1                0   \n",
            "370                  0                0                1                0   \n",
            "364                  0                0                1                0   \n",
            "\n",
            "       severity_type 4  severity_type 5  location  \n",
            "61369                0                0       989  \n",
            "2078                 0                0      1020  \n",
            "2077                 0                0      1020  \n",
            "2066                 0                0      1020  \n",
            "2065                 0                0      1020  \n",
            "...                ...              ...       ...  \n",
            "19609                0                0        32  \n",
            "19607                0                0        32  \n",
            "376                  0                0      1008  \n",
            "370                  0                0      1008  \n",
            "364                  0                0      1008  \n",
            "\n",
            "[61839 rows x 20 columns]\n",
            "61369    1\n",
            "2078     2\n",
            "2077     2\n",
            "2066     2\n",
            "2065     2\n",
            "        ..\n",
            "19609    2\n",
            "19607    2\n",
            "376      0\n",
            "370      0\n",
            "364      0\n",
            "Name: fault_severity, Length: 61839, dtype: int64\n"
          ]
        }
      ],
      "source": [
        "y=dff3['fault_severity']\n",
        "X=dff3.drop(['fault_severity'],axis=1)\n",
        "print(X)\n",
        "print(y)"
      ]
    },
    {
      "cell_type": "code",
      "execution_count": 41,
      "metadata": {
        "id": "tHgYiMgRvg-M"
      },
      "outputs": [],
      "source": [
        "\n",
        "aa=dff3.to_csv('new_dataset.csv')"
      ]
    },
    {
      "cell_type": "code",
      "execution_count": 42,
      "metadata": {
        "colab": {
          "base_uri": "https://localhost:8080/"
        },
        "id": "s_dfOff7uPT6",
        "outputId": "62cc45ea-2629-4044-b9f4-5ac80c7c5c2e"
      },
      "outputs": [
        {
          "output_type": "stream",
          "name": "stdout",
          "text": [
            "(27759, 20)\n",
            "(27759,)\n",
            "(20407, 20)\n",
            "(20407,)\n",
            "(13673, 20)\n",
            "(13673,)\n"
          ]
        }
      ],
      "source": [
        "from sklearn.model_selection import train_test_split\n",
        "Xtrain,Xtest,ytrain,ytest=train_test_split(X,y,test_size=0.33,stratify=y)\n",
        "Xtrain,Xcv,ytrain,ycv=train_test_split(Xtrain,ytrain,test_size=0.33,stratify=ytrain)\n",
        "print(Xtrain.shape)\n",
        "print(ytrain.shape)\n",
        "print(Xtest.shape)\n",
        "print(ytest.shape)\n",
        "print(Xcv.shape)\n",
        "print(ycv.shape)\n"
      ]
    },
    {
      "cell_type": "code",
      "execution_count": 43,
      "metadata": {
        "colab": {
          "base_uri": "https://localhost:8080/"
        },
        "id": "Amjszt8W__zr",
        "outputId": "8d76bad9-b537-43b7-bfea-e5c18218710d"
      },
      "outputs": [
        {
          "output_type": "stream",
          "name": "stdout",
          "text": [
            "[0 1 2]\n",
            "[0 1 2]\n",
            "[0 1 2]\n"
          ]
        }
      ],
      "source": [
        "import numpy as np\n",
        "print(np.unique(ycv))\n",
        "print(np.unique(ytest))\n",
        "print(np.unique(ytrain))"
      ]
    },
    {
      "cell_type": "code",
      "execution_count": 44,
      "metadata": {
        "colab": {
          "base_uri": "https://localhost:8080/"
        },
        "id": "_NaKMIFstc8I",
        "outputId": "f34b0903-0dba-4652-9a71-6d9e88c0460e"
      },
      "outputs": [
        {
          "output_type": "stream",
          "name": "stdout",
          "text": [
            "Index(['id', 'event_type', 'log_feature', 'volume', 'resource_type 1',\n",
            "       'resource_type 10', 'resource_type 2', 'resource_type 3',\n",
            "       'resource_type 4', 'resource_type 5', 'resource_type 6',\n",
            "       'resource_type 7', 'resource_type 8', 'resource_type 9',\n",
            "       'severity_type 1', 'severity_type 2', 'severity_type 3',\n",
            "       'severity_type 4', 'severity_type 5', 'location'],\n",
            "      dtype='object')\n"
          ]
        }
      ],
      "source": [
        "def normalize(df):\n",
        "    result1 = df.copy()\n",
        "    for feature_name in df.columns:\n",
        "         # if (str(feature_name) != str('id') and str(feature_name)!=str('fault_severity')):\n",
        "            max_value = df[feature_name].max()\n",
        "            min_value = df[feature_name].min()\n",
        "            result1[feature_name] = (df[feature_name] - min_value) / (max_value - min_value)\n",
        "    return result1\n",
        "result = normalize(Xtrain)\n",
        "Xtrain1=result\n",
        "print(Xtrain1.columns)"
      ]
    },
    {
      "cell_type": "code",
      "source": [
        "import matplotlib.pyplot as plt\n",
        "pca = PCA()\n",
        "principalComponents = pca.fit_transform(Xtrain1)\n",
        "Xtrain2=principalComponents\n",
        "cum_sum_exp=np.cumsum(pca.explained_variance_ratio_)\n",
        "plt.plot(range(0,len(cum_sum_exp)),cum_sum_exp)                                 #ts#Choosing the number of components. this can be obtain by looking into  cumulative explained variance ratio\n",
        "plt.xlabel('number of components')\n",
        "plt.ylabel('cumulative explained variance');\n"
      ],
      "metadata": {
        "id": "ISindb48WPh1",
        "colab": {
          "base_uri": "https://localhost:8080/",
          "height": 279
        },
        "outputId": "111e9a86-d3dd-4590-9e36-1afbc172deb1"
      },
      "execution_count": 80,
      "outputs": [
        {
          "output_type": "display_data",
          "data": {
            "text/plain": [
              "<Figure size 432x288 with 1 Axes>"
            ],
            "image/png": "[encoded data removed]"
          },
          "metadata": {
            "needs_background": "light"
          }
        }
      ]
    },
    {
      "cell_type": "markdown",
      "source": [
        "\n",
        "*   first 3 components contain aprrox 60% of the variance\n",
        "*   first 7 components contain approx 90% of the variance \n",
        "\n",
        "*   first 11 components contain approx 95% of the variance and rest of the components contain only 5% of variance(contain less information)\n"
      ],
      "metadata": {
        "id": "kfDYAPQ7NY35"
      }
    },
    {
      "cell_type": "code",
      "source": [
        "print(pca.explained_variance_ratio_)"
      ],
      "metadata": {
        "colab": {
          "base_uri": "https://localhost:8080/"
        },
        "id": "I7LEoMcGwW2s",
        "outputId": "a4cc47e0-e264-4ebb-e8bd-99179039f4db"
      },
      "execution_count": 169,
      "outputs": [
        {
          "output_type": "stream",
          "name": "stdout",
          "text": [
            "[0.49050009 0.18679373 0.06823731 0.05908138 0.03937158 0.03233337\n",
            " 0.03024587 0.02402726 0.01702695 0.01591674 0.01157802 0.00853473\n",
            " 0.00723051 0.00537317]\n"
          ]
        }
      ]
    },
    {
      "cell_type": "code",
      "source": [
        "y=dff3['fault_severity']\n",
        "X=dff3.drop(['fault_severity','location'],axis=1)\n",
        "print(X)\n",
        "print(y)"
      ],
      "metadata": {
        "id": "YuEUk_gyaTa3",
        "colab": {
          "base_uri": "https://localhost:8080/"
        },
        "outputId": "47a39584-685f-4c28-e8e0-53283169063e"
      },
      "execution_count": 164,
      "outputs": [
        {
          "output_type": "stream",
          "name": "stdout",
          "text": [
            "          id  event_type  log_feature  volume  resource_type 1  \\\n",
            "61369   2123           2            1       1                0   \n",
            "2078   13382          28            1       1                0   \n",
            "2077   13382          28            1       1                0   \n",
            "2066   13382           2            1       1                0   \n",
            "2065   13382           2            1       1                0   \n",
            "...      ...         ...          ...     ...              ...   \n",
            "19609   7378          20          383       1                0   \n",
            "19607   7378          20          383       1                0   \n",
            "376     4630           1          384       2                0   \n",
            "370     4630          11          384       2                0   \n",
            "364     4630          15          384       2                0   \n",
            "\n",
            "       resource_type 10  resource_type 2  resource_type 3  resource_type 4  \\\n",
            "61369                 0                0                0                0   \n",
            "2078                  0                0                0                0   \n",
            "2077                  0                0                0                0   \n",
            "2066                  0                0                0                0   \n",
            "2065                  0                0                0                0   \n",
            "...                 ...              ...              ...              ...   \n",
            "19609                 0                0                0                0   \n",
            "19607                 0                0                1                0   \n",
            "376                   0                0                0                0   \n",
            "370                   0                0                0                0   \n",
            "364                   0                0                0                0   \n",
            "\n",
            "       resource_type 5  resource_type 6  resource_type 7  resource_type 8  \\\n",
            "61369                0                0                0                1   \n",
            "2078                 0                0                0                0   \n",
            "2077                 0                0                0                1   \n",
            "2066                 0                0                0                0   \n",
            "2065                 0                0                0                1   \n",
            "...                ...              ...              ...              ...   \n",
            "19609                0                0                0                1   \n",
            "19607                0                0                0                0   \n",
            "376                  0                0                0                1   \n",
            "370                  0                0                0                1   \n",
            "364                  0                0                0                1   \n",
            "\n",
            "       resource_type 9  severity_type 1  severity_type 2  severity_type 3  \\\n",
            "61369                0                1                0                0   \n",
            "2078                 1                1                0                0   \n",
            "2077                 0                1                0                0   \n",
            "2066                 1                1                0                0   \n",
            "2065                 0                1                0                0   \n",
            "...                ...              ...              ...              ...   \n",
            "19609                0                1                0                0   \n",
            "19607                0                1                0                0   \n",
            "376                  0                0                1                0   \n",
            "370                  0                0                1                0   \n",
            "364                  0                0                1                0   \n",
            "\n",
            "       severity_type 4  severity_type 5  \n",
            "61369                0                0  \n",
            "2078                 0                0  \n",
            "2077                 0                0  \n",
            "2066                 0                0  \n",
            "2065                 0                0  \n",
            "...                ...              ...  \n",
            "19609                0                0  \n",
            "19607                0                0  \n",
            "376                  0                0  \n",
            "370                  0                0  \n",
            "364                  0                0  \n",
            "\n",
            "[61839 rows x 19 columns]\n",
            "61369    1\n",
            "2078     2\n",
            "2077     2\n",
            "2066     2\n",
            "2065     2\n",
            "        ..\n",
            "19609    2\n",
            "19607    2\n",
            "376      0\n",
            "370      0\n",
            "364      0\n",
            "Name: fault_severity, Length: 61839, dtype: int64\n"
          ]
        }
      ]
    },
    {
      "cell_type": "code",
      "source": [
        "Xtrain,Xtest,ytrain,ytest=train_test_split(X,y,test_size=0.33,stratify=y)\n",
        "Xtrain,Xcv,ytrain,ycv=train_test_split(Xtrain,ytrain,test_size=0.33,stratify=ytrain)"
      ],
      "metadata": {
        "id": "p6ccYOiDhG0f"
      },
      "execution_count": 165,
      "outputs": []
    },
    {
      "cell_type": "code",
      "source": [
        "def normalize(df):\n",
        "    result1 = df.copy()\n",
        "    for feature_name in df.columns:\n",
        "         # if (str(feature_name) != str('id') and str(feature_name)!=str('fault_severity')):\n",
        "            max_value = df[feature_name].max()\n",
        "            min_value = df[feature_name].min()\n",
        "            result1[feature_name] = (df[feature_name] - min_value) / (max_value - min_value)\n",
        "    return result1\n",
        "result = normalize(Xtrain)\n",
        "Xtrain1=result\n",
        "print(Xtrain1.columns)"
      ],
      "metadata": {
        "colab": {
          "base_uri": "https://localhost:8080/"
        },
        "id": "PG_nzgn8f7z3",
        "outputId": "49fd41d1-ae59-4914-d132-a3ded7b25ef1"
      },
      "execution_count": 166,
      "outputs": [
        {
          "output_type": "stream",
          "name": "stdout",
          "text": [
            "Index(['id', 'event_type', 'log_feature', 'volume', 'resource_type 1',\n",
            "       'resource_type 10', 'resource_type 2', 'resource_type 3',\n",
            "       'resource_type 4', 'resource_type 5', 'resource_type 6',\n",
            "       'resource_type 7', 'resource_type 8', 'resource_type 9',\n",
            "       'severity_type 1', 'severity_type 2', 'severity_type 3',\n",
            "       'severity_type 4', 'severity_type 5'],\n",
            "      dtype='object')\n"
          ]
        }
      ]
    },
    {
      "cell_type": "code",
      "execution_count": null,
      "metadata": {
        "colab": {
          "base_uri": "https://localhost:8080/"
        },
        "id": "4zjA6D3aFGVq",
        "outputId": "e246d626-492f-4ee2-f86e-6390a9ee3843"
      },
      "outputs": [
        {
          "output_type": "execute_result",
          "data": {
            "text/plain": [
              "id                  0.0\n",
              "event_type          0.0\n",
              "log_feature         0.0\n",
              "volume              0.0\n",
              "resource_type 1     0.0\n",
              "resource_type 10    0.0\n",
              "resource_type 2     0.0\n",
              "resource_type 3     0.0\n",
              "resource_type 4     0.0\n",
              "resource_type 5     0.0\n",
              "resource_type 6     0.0\n",
              "resource_type 7     0.0\n",
              "resource_type 8     0.0\n",
              "resource_type 9     0.0\n",
              "severity_type 1     0.0\n",
              "severity_type 2     0.0\n",
              "severity_type 3     0.0\n",
              "severity_type 4     0.0\n",
              "severity_type 5     0.0\n",
              "location            0.0\n",
              "dtype: float64"
            ]
          },
          "metadata": {},
          "execution_count": 211
        }
      ],
      "source": [
        "\"\"\"Xtrain1.isnull().mean()\"\"\""
      ]
    },
    {
      "cell_type": "code",
      "execution_count": null,
      "metadata": {
        "colab": {
          "base_uri": "https://localhost:8080/"
        },
        "id": "tiYb1iA0FLOP",
        "outputId": "1ac4ec1a-dcda-41d3-b9ba-65bbdf75e9e3"
      },
      "outputs": [
        {
          "output_type": "execute_result",
          "data": {
            "text/plain": [
              "principal component 1    0.0\n",
              "principal component 2    0.0\n",
              "id                       0.0\n",
              "event_type               0.0\n",
              "log_feature              0.0\n",
              "volume                   0.0\n",
              "resource_type 1          0.0\n",
              "resource_type 10         0.0\n",
              "resource_type 2          0.0\n",
              "resource_type 3          0.0\n",
              "resource_type 4          0.0\n",
              "resource_type 5          0.0\n",
              "resource_type 6          0.0\n",
              "resource_type 7          0.0\n",
              "resource_type 8          0.0\n",
              "resource_type 9          0.0\n",
              "severity_type 1          0.0\n",
              "severity_type 2          0.0\n",
              "severity_type 3          0.0\n",
              "severity_type 4          0.0\n",
              "severity_type 5          0.0\n",
              "location                 0.0\n",
              "fault_severity           0.0\n",
              "dtype: float64"
            ]
          },
          "metadata": {},
          "execution_count": 68
        }
      ],
      "source": [
        "\"\"\"Xtest.isnull().mean()\"\"\""
      ]
    },
    {
      "cell_type": "code",
      "execution_count": null,
      "metadata": {
        "colab": {
          "base_uri": "https://localhost:8080/"
        },
        "id": "t8TL6wFXFV58",
        "outputId": "d0b84ede-7980-492c-a79e-6fefe46ec8fb"
      },
      "outputs": [
        {
          "output_type": "execute_result",
          "data": {
            "text/plain": [
              "principal component 1    0.0\n",
              "principal component 2    0.0\n",
              "id                       0.0\n",
              "event_type               0.0\n",
              "log_feature              0.0\n",
              "volume                   0.0\n",
              "resource_type 1          0.0\n",
              "resource_type 10         0.0\n",
              "resource_type 2          0.0\n",
              "resource_type 3          0.0\n",
              "resource_type 4          0.0\n",
              "resource_type 5          0.0\n",
              "resource_type 6          0.0\n",
              "resource_type 7          0.0\n",
              "resource_type 8          0.0\n",
              "resource_type 9          0.0\n",
              "severity_type 1          0.0\n",
              "severity_type 2          0.0\n",
              "severity_type 3          0.0\n",
              "severity_type 4          0.0\n",
              "severity_type 5          0.0\n",
              "location                 0.0\n",
              "fault_severity           0.0\n",
              "dtype: float64"
            ]
          },
          "metadata": {},
          "execution_count": 69
        }
      ],
      "source": [
        "\"\"\"Xcv.isnull().mean()\"\"\""
      ]
    },
    {
      "cell_type": "code",
      "execution_count": 167,
      "metadata": {
        "id": "7FgAQYTvCZsj"
      },
      "outputs": [],
      "source": [
        "import warnings\n",
        "warnings.filterwarnings(\"ignore\")\n",
        "from multiprocessing import Process# this is used for multithreading\n",
        "import multiprocessing\n",
        "from sklearn.model_selection import RandomizedSearchCV\n",
        "from sklearn.calibration import CalibratedClassifierCV\n",
        "from sklearn.neighbors import KNeighborsClassifier\n",
        "from sklearn.metrics import log_loss\n",
        "from sklearn.metrics import confusion_matrix\n",
        "from sklearn.model_selection import train_test_split\n",
        "from sklearn.linear_model import LogisticRegression\n",
        "from sklearn.ensemble import RandomForestClassifier"
      ]
    },
    {
      "cell_type": "code",
      "execution_count": null,
      "metadata": {
        "colab": {
          "base_uri": "https://localhost:8080/"
        },
        "id": "9r5bS1YUPOmt",
        "outputId": "319ad7de-7506-4856-ec92-ce0b4e656a6e"
      },
      "outputs": [
        {
          "name": "stdout",
          "output_type": "stream",
          "text": [
            "[0 1 2 ... 1 0 1]\n",
            "[[0]\n",
            " [1]\n",
            " [2]\n",
            " ...\n",
            " [1]\n",
            " [0]\n",
            " [1]]\n",
            "[1 0 0]\n",
            "Log loss on Cross Validation Data using Random Model 1.3334218371646078\n",
            "Log loss on Test Data using Random Model 1.3454495697543558\n",
            "confusion [[4059 4075 3943]\n",
            " [1785 1808 1860]\n",
            " [ 993  968  916]]\n",
            "****************************************************************************************************\n",
            "recal [[0.3360934  0.33741823 0.32648837]\n",
            " [0.32734275 0.33156061 0.34109664]\n",
            " [0.3451512  0.33646159 0.31838721]]\n",
            "****************************************************************************************************\n",
            "precision [[0.59368144 0.59480368 0.58684328]\n",
            " [0.26107942 0.26390308 0.27682691]\n",
            " [0.14523914 0.14129324 0.13632981]]\n"
          ]
        }
      ],
      "source": [
        "#random model\n",
        "yy=ytrain.values                                                                \n",
        "print(yy)\n",
        "\n",
        "y1=yy.reshape(-1, 1)\n",
        "\n",
        "print(y1)\n",
        "from sklearn.preprocessing import OneHotEncoder\n",
        "def ohe(x):\n",
        "  onehot_encoder = OneHotEncoder(sparse=False)\n",
        "  onehot_encoded = onehot_encoder.fit_transform(x)\n",
        "  hp=onehot_encoded.astype(int)\n",
        "  return  hp\n",
        "l1=ohe(y1)\n",
        "print(l1[0])\n",
        "# we need to generate 9 numbers and the sum of numbers should be 1\n",
        "# one solution is to genarate 9 numbers and divide each of the numbers by their sum\n",
        "# ref: https://stackoverflow.com/a/18662466/4084039\n",
        "\n",
        "test_data_len = Xtest.shape[0]\n",
        "cv_data_len = Xcv.shape[0]\n",
        "\n",
        "yt=ytest.values.reshape(-1,1)\n",
        "yc=ycv.values.reshape(-1,1)\n",
        "yte=ohe(yt)                                                                     #encoded y_test values\n",
        "yce=ohe(yc)                                                                     #encoded y_cv values\n",
        "\n",
        "# we create a output array that has exactly same size as the CV data\n",
        "cv_predicted_y = np.zeros((cv_data_len,3))\n",
        "for i in range(cv_data_len):\n",
        "    rand_probs = np.random.rand(1,3)\n",
        "    cv_predicted_y[i] = ((rand_probs/sum(sum(rand_probs)))[0])\n",
        "print(\"Log loss on Cross Validation Data using Random Model\",log_loss(yce,cv_predicted_y, eps=1e-15))\n",
        "\n",
        "\n",
        "# Test-Set error.\n",
        "#we create a output array that has exactly same as the test data\n",
        "test_predicted_y = np.zeros((test_data_len,3))\n",
        "for i in range(test_data_len):\n",
        "    rand_probs = np.random.rand(1,3)\n",
        "    test_predicted_y[i] = ((rand_probs/sum(sum(rand_probs)))[0])\n",
        "print(\"Log loss on Test Data using Random Model\",log_loss(yte,test_predicted_y, eps=1e-15))\n",
        "\n",
        "predicted_y =np.argmax(test_predicted_y, axis=1)                                #Returns the indices of the maximum values along an axis.\n",
        "\n",
        "C = confusion_matrix(ytest, predicted_y)\n",
        "\n",
        "print('confusion',C)\n",
        "print('*'*100)\n",
        "A =(((C.T)/(C.sum(axis=1))).T)\n",
        "print('recal',A)\n",
        "print('*'*100)\n",
        "B =(C/C.sum(axis=0))\n",
        "print('precision',B)"
      ]
    },
    {
      "cell_type": "code",
      "execution_count": null,
      "metadata": {
        "id": "MC4iFBBQCZ4Q"
      },
      "outputs": [],
      "source": [
        "#knn\n",
        "alpha = [x for x in range(1, 20, 4)]\n",
        "cv_log_error_array=[]\n",
        "for i in alpha:\n",
        "    k_cfl=KNeighborsClassifier(n_neighbors=i,weights='distance')\n",
        "    k_cfl.fit(Xtrain1,ytrain)\n",
        "    sig_clf = CalibratedClassifierCV(k_cfl, method=\"sigmoid\")\n",
        "    sig_clf.fit(Xtrain1, ytrain)\n",
        "    predict_y = sig_clf.predict_proba(Xcv)\n",
        "    cv_log_error_array.append(log_loss(ycv, predict_y, labels=k_cfl.classes_, eps=1e-15))\n",
        "    \n",
        "best_alpha = np.argmin(cv_log_error_array)\n",
        "    \n",
        "\n"
      ]
    },
    {
      "cell_type": "code",
      "execution_count": null,
      "metadata": {
        "colab": {
          "base_uri": "https://localhost:8080/"
        },
        "id": "SeRJTJjECaEq",
        "outputId": "e6ccc9ad-64b6-45a2-87f7-c5f917e57b64"
      },
      "outputs": [
        {
          "name": "stdout",
          "output_type": "stream",
          "text": [
            "For values of best alpha =  1 The train log loss is: 0.39710374302815205\n",
            "For values of best alpha =  1 The cross validation log loss is: 0.957273693631887\n",
            "For values of best alpha =  1 The test log loss is: 0.9553196273337947\n",
            "confusion [[8249 2526 1302]\n",
            " [2644 1955  854]\n",
            " [ 876 1253  748]]\n",
            "****************************************************************************************************\n",
            "recal [[0.68303387 0.2091579  0.10780823]\n",
            " [0.48487071 0.35851825 0.15661104]\n",
            " [0.30448384 0.43552311 0.25999305]]\n",
            "****************************************************************************************************\n",
            "precision [[0.70090917 0.44053017 0.44834711]\n",
            " [0.224658   0.34094873 0.29407713]\n",
            " [0.07443283 0.2185211  0.25757576]]\n"
          ]
        }
      ],
      "source": [
        "k_cfl=KNeighborsClassifier(n_neighbors=alpha[best_alpha])\n",
        "k_cfl.fit(Xtrain1,ytrain)\n",
        "sig_clf1 = CalibratedClassifierCV(k_cfl, method=\"sigmoid\")\n",
        "sig_clf1.fit(Xtrain1, ytrain)\n",
        "    \n",
        "predict_y = sig_clf1.predict_proba(Xtrain1)\n",
        "print ('For values of best alpha = ', alpha[best_alpha], \"The train log loss is:\",log_loss(ytrain, predict_y))\n",
        "predict_y = sig_clf1.predict_proba(Xcv)\n",
        "print('For values of best alpha = ', alpha[best_alpha], \"The cross validation log loss is:\",log_loss(ycv, predict_y))\n",
        "predict_y = sig_clf1.predict_proba(Xtest)\n",
        "print('For values of best alpha = ', alpha[best_alpha], \"The test log loss is:\",log_loss(ytest, predict_y))\n",
        "\n",
        "\n",
        "\n",
        "C = confusion_matrix(ytest, sig_clf1.predict(Xtest))\n",
        "print('confusion',C)\n",
        "print('*'*100)\n",
        "A =(((C.T)/(C.sum(axis=1))).T)\n",
        "print('recal',A)\n",
        "print('*'*100)\n",
        "B =(C/C.sum(axis=0))\n",
        "print('precision',B)"
      ]
    },
    {
      "cell_type": "code",
      "source": [
        "#logistic regression\n",
        "alpha = [10 ** x for x in range(-10,1)]\n",
        "print(alpha)\n",
        "cv_log_error_array=[]\n",
        "for i in alpha:\n",
        "    logisticR=LogisticRegression(penalty='l1',C=i,class_weight='balanced',solver='saga',n_jobs=-1)\n",
        "    logisticR.fit(Xtrain1,ytrain)\n",
        "    sig_clf = CalibratedClassifierCV(logisticR, method=\"sigmoid\")\n",
        "    sig_clf.fit(Xtrain1, ytrain)\n",
        "    predict_y = sig_clf.predict_proba(Xcv)\n",
        "    cv_log_error_array.append(log_loss(ycv, predict_y, labels=logisticR.classes_, eps=1e-15))\n",
        "    \n",
        "best_alpha = np.argmin(cv_log_error_array)\n",
        "    \n",
        "logisticR=LogisticRegression(penalty='l1',C=alpha[best_alpha],class_weight='balanced',solver='saga',n_jobs=-1)\n",
        "logisticR.fit(Xtrain1,ytrain)\n",
        "sig_clf2 = CalibratedClassifierCV(logisticR, method=\"sigmoid\")\n",
        "sig_clf2.fit(Xtrain1, ytrain)\n",
        "pred_y=sig_clf2.predict(Xtest)\n",
        "\n",
        "predict_y = sig_clf2.predict_proba(Xtrain1)\n",
        "print ('For values of best alpha = ', alpha[best_alpha],'log loss for train data',log_loss(ytrain, predict_y, labels=logisticR.classes_, eps=1e-15))\n",
        "predict_y = sig_clf2.predict_proba(Xcv)\n",
        "print ('For values of best alpha = ', alpha[best_alpha],'log loss for cv data',log_loss(ycv, predict_y, labels=logisticR.classes_, eps=1e-15))\n",
        "predict_y = sig_clf2.predict_proba(Xtest)\n",
        "print ('For values of best alpha = ', alpha[best_alpha],'log loss for test data',log_loss(ytest, predict_y, labels=logisticR.classes_, eps=1e-15))\n",
        "\n",
        "C = confusion_matrix(ytest, sig_clf2.predict(Xtest))\n",
        "print('confusion',C)\n",
        "print('*'*100)\n",
        "A =(((C.T)/(C.sum(axis=1))).T)\n",
        "print('recal',A)\n",
        "print('*'*100)\n",
        "B =(C/C.sum(axis=0))\n",
        "print('precision',B)"
      ],
      "metadata": {
        "colab": {
          "base_uri": "https://localhost:8080/"
        },
        "id": "Jyy2RVGlnzJS",
        "outputId": "0edb532e-c7d9-40ab-e859-e86bde8ea66e"
      },
      "execution_count": 168,
      "outputs": [
        {
          "output_type": "stream",
          "name": "stdout",
          "text": [
            "[1e-10, 1e-09, 1e-08, 1e-07, 1e-06, 1e-05, 0.0001, 0.001, 0.01, 0.1, 1]\n",
            "For values of best alpha =  0.001 log loss for train data 0.8596200640045256\n",
            "For values of best alpha =  0.001 log loss for cv data 0.8625811364164199\n",
            "For values of best alpha =  0.001 log loss for test data 0.8599642698006663\n",
            "confusion [[12077     0     0]\n",
            " [ 5453     0     0]\n",
            " [ 2877     0     0]]\n",
            "****************************************************************************************************\n",
            "recal [[1. 0. 0.]\n",
            " [1. 0. 0.]\n",
            " [1. 0. 0.]]\n",
            "****************************************************************************************************\n",
            "precision [[0.59180673        nan        nan]\n",
            " [0.26721223        nan        nan]\n",
            " [0.14098104        nan        nan]]\n"
          ]
        }
      ]
    },
    {
      "cell_type": "code",
      "execution_count": null,
      "metadata": {
        "colab": {
          "background_save": true
        },
        "id": "SWg0CNtJUOY8",
        "outputId": "a62505f1-af5c-4432-faa7-8fe942ed76b9"
      },
      "outputs": [
        {
          "ename": "KeyboardInterrupt",
          "evalue": "ignored",
          "output_type": "error",
          "traceback": [
            "\u001b[0;31m---------------------------------------------------------------------------\u001b[0m",
            "\u001b[0;31mKeyboardInterrupt\u001b[0m                         Traceback (most recent call last)",
            "\u001b[0;32m<ipython-input-180-cef7ce1182db>\u001b[0m in \u001b[0;36m<module>\u001b[0;34m\u001b[0m\n\u001b[1;32m      6\u001b[0m \u001b[0mr_cfl\u001b[0m\u001b[0;34m=\u001b[0m\u001b[0mRandomForestClassifier\u001b[0m\u001b[0;34m(\u001b[0m\u001b[0;34m)\u001b[0m\u001b[0;34m\u001b[0m\u001b[0;34m\u001b[0m\u001b[0m\n\u001b[1;32m      7\u001b[0m \u001b[0mclf\u001b[0m\u001b[0;34m=\u001b[0m\u001b[0mRandomizedSearchCV\u001b[0m\u001b[0;34m(\u001b[0m\u001b[0mr_cfl\u001b[0m\u001b[0;34m,\u001b[0m\u001b[0mparameters\u001b[0m\u001b[0;34m,\u001b[0m \u001b[0mcv\u001b[0m\u001b[0;34m=\u001b[0m\u001b[0;36m10\u001b[0m\u001b[0;34m,\u001b[0m \u001b[0mscoring\u001b[0m\u001b[0;34m=\u001b[0m\u001b[0;34m'roc_auc'\u001b[0m\u001b[0;34m,\u001b[0m\u001b[0mn_jobs\u001b[0m\u001b[0;34m=\u001b[0m\u001b[0;36m4\u001b[0m\u001b[0;34m)\u001b[0m\u001b[0;34m\u001b[0m\u001b[0;34m\u001b[0m\u001b[0m\n\u001b[0;32m----> 8\u001b[0;31m \u001b[0mclf\u001b[0m\u001b[0;34m.\u001b[0m\u001b[0mfit\u001b[0m\u001b[0;34m(\u001b[0m\u001b[0mXtrain1\u001b[0m\u001b[0;34m,\u001b[0m\u001b[0mytrain\u001b[0m\u001b[0;34m)\u001b[0m\u001b[0;34m\u001b[0m\u001b[0;34m\u001b[0m\u001b[0m\n\u001b[0m\u001b[1;32m      9\u001b[0m \u001b[0;34m\u001b[0m\u001b[0m\n",
            "\u001b[0;32m/usr/local/lib/python3.7/dist-packages/sklearn/model_selection/_search.py\u001b[0m in \u001b[0;36mfit\u001b[0;34m(self, X, y, groups, **fit_params)\u001b[0m\n\u001b[1;32m    889\u001b[0m                 \u001b[0;32mreturn\u001b[0m \u001b[0mresults\u001b[0m\u001b[0;34m\u001b[0m\u001b[0;34m\u001b[0m\u001b[0m\n\u001b[1;32m    890\u001b[0m \u001b[0;34m\u001b[0m\u001b[0m\n\u001b[0;32m--> 891\u001b[0;31m             \u001b[0mself\u001b[0m\u001b[0;34m.\u001b[0m\u001b[0m_run_search\u001b[0m\u001b[0;34m(\u001b[0m\u001b[0mevaluate_candidates\u001b[0m\u001b[0;34m)\u001b[0m\u001b[0;34m\u001b[0m\u001b[0;34m\u001b[0m\u001b[0m\n\u001b[0m\u001b[1;32m    892\u001b[0m \u001b[0;34m\u001b[0m\u001b[0m\n\u001b[1;32m    893\u001b[0m             \u001b[0;31m# multimetric is determined here because in the case of a callable\u001b[0m\u001b[0;34m\u001b[0m\u001b[0;34m\u001b[0m\u001b[0;34m\u001b[0m\u001b[0m\n",
            "\u001b[0;32m/usr/local/lib/python3.7/dist-packages/sklearn/model_selection/_search.py\u001b[0m in \u001b[0;36m_run_search\u001b[0;34m(self, evaluate_candidates)\u001b[0m\n\u001b[1;32m   1766\u001b[0m         evaluate_candidates(\n\u001b[1;32m   1767\u001b[0m             ParameterSampler(\n\u001b[0;32m-> 1768\u001b[0;31m                 \u001b[0mself\u001b[0m\u001b[0;34m.\u001b[0m\u001b[0mparam_distributions\u001b[0m\u001b[0;34m,\u001b[0m \u001b[0mself\u001b[0m\u001b[0;34m.\u001b[0m\u001b[0mn_iter\u001b[0m\u001b[0;34m,\u001b[0m \u001b[0mrandom_state\u001b[0m\u001b[0;34m=\u001b[0m\u001b[0mself\u001b[0m\u001b[0;34m.\u001b[0m\u001b[0mrandom_state\u001b[0m\u001b[0;34m\u001b[0m\u001b[0;34m\u001b[0m\u001b[0m\n\u001b[0m\u001b[1;32m   1769\u001b[0m             )\n\u001b[1;32m   1770\u001b[0m         )\n",
            "\u001b[0;32m/usr/local/lib/python3.7/dist-packages/sklearn/model_selection/_search.py\u001b[0m in \u001b[0;36mevaluate_candidates\u001b[0;34m(candidate_params, cv, more_results)\u001b[0m\n\u001b[1;32m    849\u001b[0m                     )\n\u001b[1;32m    850\u001b[0m                     for (cand_idx, parameters), (split_idx, (train, test)) in product(\n\u001b[0;32m--> 851\u001b[0;31m                         \u001b[0menumerate\u001b[0m\u001b[0;34m(\u001b[0m\u001b[0mcandidate_params\u001b[0m\u001b[0;34m)\u001b[0m\u001b[0;34m,\u001b[0m \u001b[0menumerate\u001b[0m\u001b[0;34m(\u001b[0m\u001b[0mcv\u001b[0m\u001b[0;34m.\u001b[0m\u001b[0msplit\u001b[0m\u001b[0;34m(\u001b[0m\u001b[0mX\u001b[0m\u001b[0;34m,\u001b[0m \u001b[0my\u001b[0m\u001b[0;34m,\u001b[0m \u001b[0mgroups\u001b[0m\u001b[0;34m)\u001b[0m\u001b[0;34m)\u001b[0m\u001b[0;34m\u001b[0m\u001b[0;34m\u001b[0m\u001b[0m\n\u001b[0m\u001b[1;32m    852\u001b[0m                     )\n\u001b[1;32m    853\u001b[0m                 )\n",
            "\u001b[0;32m/usr/local/lib/python3.7/dist-packages/joblib/parallel.py\u001b[0m in \u001b[0;36m__call__\u001b[0;34m(self, iterable)\u001b[0m\n\u001b[1;32m   1054\u001b[0m \u001b[0;34m\u001b[0m\u001b[0m\n\u001b[1;32m   1055\u001b[0m             \u001b[0;32mwith\u001b[0m \u001b[0mself\u001b[0m\u001b[0;34m.\u001b[0m\u001b[0m_backend\u001b[0m\u001b[0;34m.\u001b[0m\u001b[0mretrieval_context\u001b[0m\u001b[0;34m(\u001b[0m\u001b[0;34m)\u001b[0m\u001b[0;34m:\u001b[0m\u001b[0;34m\u001b[0m\u001b[0;34m\u001b[0m\u001b[0m\n\u001b[0;32m-> 1056\u001b[0;31m                 \u001b[0mself\u001b[0m\u001b[0;34m.\u001b[0m\u001b[0mretrieve\u001b[0m\u001b[0;34m(\u001b[0m\u001b[0;34m)\u001b[0m\u001b[0;34m\u001b[0m\u001b[0;34m\u001b[0m\u001b[0m\n\u001b[0m\u001b[1;32m   1057\u001b[0m             \u001b[0;31m# Make sure that we get a last message telling us we are done\u001b[0m\u001b[0;34m\u001b[0m\u001b[0;34m\u001b[0m\u001b[0;34m\u001b[0m\u001b[0m\n\u001b[1;32m   1058\u001b[0m             \u001b[0melapsed_time\u001b[0m \u001b[0;34m=\u001b[0m \u001b[0mtime\u001b[0m\u001b[0;34m.\u001b[0m\u001b[0mtime\u001b[0m\u001b[0;34m(\u001b[0m\u001b[0;34m)\u001b[0m \u001b[0;34m-\u001b[0m \u001b[0mself\u001b[0m\u001b[0;34m.\u001b[0m\u001b[0m_start_time\u001b[0m\u001b[0;34m\u001b[0m\u001b[0;34m\u001b[0m\u001b[0m\n",
            "\u001b[0;32m/usr/local/lib/python3.7/dist-packages/joblib/parallel.py\u001b[0m in \u001b[0;36mretrieve\u001b[0;34m(self)\u001b[0m\n\u001b[1;32m    933\u001b[0m             \u001b[0;32mtry\u001b[0m\u001b[0;34m:\u001b[0m\u001b[0;34m\u001b[0m\u001b[0;34m\u001b[0m\u001b[0m\n\u001b[1;32m    934\u001b[0m                 \u001b[0;32mif\u001b[0m \u001b[0mgetattr\u001b[0m\u001b[0;34m(\u001b[0m\u001b[0mself\u001b[0m\u001b[0;34m.\u001b[0m\u001b[0m_backend\u001b[0m\u001b[0;34m,\u001b[0m \u001b[0;34m'supports_timeout'\u001b[0m\u001b[0;34m,\u001b[0m \u001b[0;32mFalse\u001b[0m\u001b[0;34m)\u001b[0m\u001b[0;34m:\u001b[0m\u001b[0;34m\u001b[0m\u001b[0;34m\u001b[0m\u001b[0m\n\u001b[0;32m--> 935\u001b[0;31m                     \u001b[0mself\u001b[0m\u001b[0;34m.\u001b[0m\u001b[0m_output\u001b[0m\u001b[0;34m.\u001b[0m\u001b[0mextend\u001b[0m\u001b[0;34m(\u001b[0m\u001b[0mjob\u001b[0m\u001b[0;34m.\u001b[0m\u001b[0mget\u001b[0m\u001b[0;34m(\u001b[0m\u001b[0mtimeout\u001b[0m\u001b[0;34m=\u001b[0m\u001b[0mself\u001b[0m\u001b[0;34m.\u001b[0m\u001b[0mtimeout\u001b[0m\u001b[0;34m)\u001b[0m\u001b[0;34m)\u001b[0m\u001b[0;34m\u001b[0m\u001b[0;34m\u001b[0m\u001b[0m\n\u001b[0m\u001b[1;32m    936\u001b[0m                 \u001b[0;32melse\u001b[0m\u001b[0;34m:\u001b[0m\u001b[0;34m\u001b[0m\u001b[0;34m\u001b[0m\u001b[0m\n\u001b[1;32m    937\u001b[0m                     \u001b[0mself\u001b[0m\u001b[0;34m.\u001b[0m\u001b[0m_output\u001b[0m\u001b[0;34m.\u001b[0m\u001b[0mextend\u001b[0m\u001b[0;34m(\u001b[0m\u001b[0mjob\u001b[0m\u001b[0;34m.\u001b[0m\u001b[0mget\u001b[0m\u001b[0;34m(\u001b[0m\u001b[0;34m)\u001b[0m\u001b[0;34m)\u001b[0m\u001b[0;34m\u001b[0m\u001b[0;34m\u001b[0m\u001b[0m\n",
            "\u001b[0;32m/usr/local/lib/python3.7/dist-packages/joblib/_parallel_backends.py\u001b[0m in \u001b[0;36mwrap_future_result\u001b[0;34m(future, timeout)\u001b[0m\n\u001b[1;32m    540\u001b[0m         AsyncResults.get from multiprocessing.\"\"\"\n\u001b[1;32m    541\u001b[0m         \u001b[0;32mtry\u001b[0m\u001b[0;34m:\u001b[0m\u001b[0;34m\u001b[0m\u001b[0;34m\u001b[0m\u001b[0m\n\u001b[0;32m--> 542\u001b[0;31m             \u001b[0;32mreturn\u001b[0m \u001b[0mfuture\u001b[0m\u001b[0;34m.\u001b[0m\u001b[0mresult\u001b[0m\u001b[0;34m(\u001b[0m\u001b[0mtimeout\u001b[0m\u001b[0;34m=\u001b[0m\u001b[0mtimeout\u001b[0m\u001b[0;34m)\u001b[0m\u001b[0;34m\u001b[0m\u001b[0;34m\u001b[0m\u001b[0m\n\u001b[0m\u001b[1;32m    543\u001b[0m         \u001b[0;32mexcept\u001b[0m \u001b[0mCfTimeoutError\u001b[0m \u001b[0;32mas\u001b[0m \u001b[0me\u001b[0m\u001b[0;34m:\u001b[0m\u001b[0;34m\u001b[0m\u001b[0;34m\u001b[0m\u001b[0m\n\u001b[1;32m    544\u001b[0m             \u001b[0;32mraise\u001b[0m \u001b[0mTimeoutError\u001b[0m \u001b[0;32mfrom\u001b[0m \u001b[0me\u001b[0m\u001b[0;34m\u001b[0m\u001b[0;34m\u001b[0m\u001b[0m\n",
            "\u001b[0;32m/usr/lib/python3.7/concurrent/futures/_base.py\u001b[0m in \u001b[0;36mresult\u001b[0;34m(self, timeout)\u001b[0m\n\u001b[1;32m    428\u001b[0m                 \u001b[0;32mreturn\u001b[0m \u001b[0mself\u001b[0m\u001b[0;34m.\u001b[0m\u001b[0m__get_result\u001b[0m\u001b[0;34m(\u001b[0m\u001b[0;34m)\u001b[0m\u001b[0;34m\u001b[0m\u001b[0;34m\u001b[0m\u001b[0m\n\u001b[1;32m    429\u001b[0m \u001b[0;34m\u001b[0m\u001b[0m\n\u001b[0;32m--> 430\u001b[0;31m             \u001b[0mself\u001b[0m\u001b[0;34m.\u001b[0m\u001b[0m_condition\u001b[0m\u001b[0;34m.\u001b[0m\u001b[0mwait\u001b[0m\u001b[0;34m(\u001b[0m\u001b[0mtimeout\u001b[0m\u001b[0;34m)\u001b[0m\u001b[0;34m\u001b[0m\u001b[0;34m\u001b[0m\u001b[0m\n\u001b[0m\u001b[1;32m    431\u001b[0m \u001b[0;34m\u001b[0m\u001b[0m\n\u001b[1;32m    432\u001b[0m             \u001b[0;32mif\u001b[0m \u001b[0mself\u001b[0m\u001b[0;34m.\u001b[0m\u001b[0m_state\u001b[0m \u001b[0;32min\u001b[0m \u001b[0;34m[\u001b[0m\u001b[0mCANCELLED\u001b[0m\u001b[0;34m,\u001b[0m \u001b[0mCANCELLED_AND_NOTIFIED\u001b[0m\u001b[0;34m]\u001b[0m\u001b[0;34m:\u001b[0m\u001b[0;34m\u001b[0m\u001b[0;34m\u001b[0m\u001b[0m\n",
            "\u001b[0;32m/usr/lib/python3.7/threading.py\u001b[0m in \u001b[0;36mwait\u001b[0;34m(self, timeout)\u001b[0m\n\u001b[1;32m    294\u001b[0m         \u001b[0;32mtry\u001b[0m\u001b[0;34m:\u001b[0m    \u001b[0;31m# restore state no matter what (e.g., KeyboardInterrupt)\u001b[0m\u001b[0;34m\u001b[0m\u001b[0;34m\u001b[0m\u001b[0m\n\u001b[1;32m    295\u001b[0m             \u001b[0;32mif\u001b[0m \u001b[0mtimeout\u001b[0m \u001b[0;32mis\u001b[0m \u001b[0;32mNone\u001b[0m\u001b[0;34m:\u001b[0m\u001b[0;34m\u001b[0m\u001b[0;34m\u001b[0m\u001b[0m\n\u001b[0;32m--> 296\u001b[0;31m                 \u001b[0mwaiter\u001b[0m\u001b[0;34m.\u001b[0m\u001b[0macquire\u001b[0m\u001b[0;34m(\u001b[0m\u001b[0;34m)\u001b[0m\u001b[0;34m\u001b[0m\u001b[0;34m\u001b[0m\u001b[0m\n\u001b[0m\u001b[1;32m    297\u001b[0m                 \u001b[0mgotit\u001b[0m \u001b[0;34m=\u001b[0m \u001b[0;32mTrue\u001b[0m\u001b[0;34m\u001b[0m\u001b[0;34m\u001b[0m\u001b[0m\n\u001b[1;32m    298\u001b[0m             \u001b[0;32melse\u001b[0m\u001b[0;34m:\u001b[0m\u001b[0;34m\u001b[0m\u001b[0;34m\u001b[0m\u001b[0m\n",
            "\u001b[0;31mKeyboardInterrupt\u001b[0m: "
          ]
        }
      ],
      "source": [
        "#random forest\n",
        "from sklearn.model_selection import RandomizedSearchCV\n",
        "from sklearn.ensemble import RandomForestClassifier\n",
        "parameters = {'min_samples_split':[2,5,10],'max_depth':[1,5,10,20,50],'n_estimators':[10,100,500,1000,1200]}\n",
        "\n",
        "r_cfl=RandomForestClassifier()\n",
        "clf=RandomizedSearchCV(r_cfl,parameters, cv=10, scoring='roc_auc',n_jobs=4)\n",
        "clf.fit(Xtrain1,ytrain)\n",
        "\n"
      ]
    },
    {
      "cell_type": "code",
      "execution_count": null,
      "metadata": {
        "colab": {
          "base_uri": "https://localhost:8080/"
        },
        "id": "C7fXzIPmeHBp",
        "outputId": "7880ff30-8bc0-40fe-b4c5-2ba7cd13d639"
      },
      "outputs": [
        {
          "name": "stdout",
          "output_type": "stream",
          "text": [
            "RandomForestClassifier(max_depth=50, min_samples_split=10, n_estimators=10)\n"
          ]
        }
      ],
      "source": [
        "print(clf.best_estimator_)"
      ]
    },
    {
      "cell_type": "code",
      "execution_count": null,
      "metadata": {
        "colab": {
          "base_uri": "https://localhost:8080/"
        },
        "id": "V1iFZJP_aWG6",
        "outputId": "107a332a-a6d3-41c1-bc37-f1888e1245c7"
      },
      "outputs": [
        {
          "name": "stdout",
          "output_type": "stream",
          "text": [
            "The train log loss is: 0.2933148736070975\n",
            "The test log loss is: 0.9580244208360646\n",
            "confusion [[12004     0    73]\n",
            " [ 5416     0    37]\n",
            " [ 2795     0    82]]\n",
            "****************************************************************************************************\n",
            "recal [[0.99395545 0.         0.00604455]\n",
            " [0.99321474 0.         0.00678526]\n",
            " [0.97149809 0.         0.02850191]]\n",
            "****************************************************************************************************\n"
          ]
        }
      ],
      "source": [
        "r_cfl=RandomForestClassifier(n_estimators=10,random_state=42,n_jobs=-1,class_weight='balanced_subsample',max_depth=50, min_samples_split=10)\n",
        "r_cfl.fit(Xtrain1,ytrain)\n",
        "sig_clf3 = CalibratedClassifierCV(r_cfl, method=\"sigmoid\")\n",
        "sig_clf3.fit(Xtrain1, ytrain)\n",
        "\n",
        "predict_y = sig_clf3.predict_proba(Xtrain1)\n",
        "\n",
        "print(\"The train log loss is:\",log_loss(ytrain, predict_y))\n",
        "\n",
        "predict_y = sig_clf3.predict_proba(Xtest)\n",
        "print(\"The test log loss is:\",log_loss(ytest, predict_y))\n",
        "C = confusion_matrix(ytest, sig_clf3.predict(Xtest))\n",
        "print('confusion',C)\n",
        "print('*'*100)\n",
        "A =(((C.T)/(C.sum(axis=1))).T)\n",
        "print('recal',A)\n",
        "print('*'*100)\n",
        "B =(C/C.sum(axis=0))"
      ]
    },
    {
      "cell_type": "code",
      "execution_count": 170,
      "metadata": {
        "colab": {
          "base_uri": "https://localhost:8080/"
        },
        "id": "JpkYkLhyqZNv",
        "outputId": "9df2c9a4-1e24-4409-a603-9d556081739b"
      },
      "outputs": [
        {
          "output_type": "stream",
          "name": "stdout",
          "text": [
            "+--------------------------------+-----------------------+---------------------+---------------------+\n",
            "|             Model              | best_value_of_alpha() |    train logloss    |     test logloss    |\n",
            "+--------------------------------+-----------------------+---------------------+---------------------+\n",
            "|          Random_model          |           0           |  1.3334218371646078 |  1.3454495697543558 |\n",
            "|              KNN               |           13          | 0.39710374302815205 |  0.9553196273337947 |\n",
            "| Logistic_Regression(using PCA) |         0.001         |  0.8596200640045256 |  0.8599642698006663 |\n",
            "|         Random_Forest          |     d=50,s=10,e=10    |  0.2933148736070975 |  0.9580244208360646 |\n",
            "+--------------------------------+-----------------------+---------------------+---------------------+\n"
          ]
        }
      ],
      "source": [
        "from prettytable import PrettyTable\n",
        "myTable = PrettyTable([\"Model\", \"best_value_of_alpha()\", \"train logloss\",\"test logloss\"])\n",
        "myTable.add_row([ \"Random_model\", \"0\", \"1.3334218371646078\",\"1.3454495697543558\"])\n",
        "myTable.add_row([ \"KNN\", \"13\", \"0.39710374302815205\",\"0.9553196273337947\"])\n",
        "myTable.add_row([ \"Logistic_Regression(using PCA)\", \"0.001\", \" 0.8596200640045256\",\" 0.8599642698006663\"])\n",
        "myTable.add_row([\"Random_Forest\", \"d=50,s=10,e=10\", \"0.2933148736070975\",'0.9580244208360646'])\n",
        "\n",
        "print(myTable)"
      ]
    }
  ],
  "metadata": {
    "colab": {
      "collapsed_sections": [],
      "provenance": []
    },
    "kernelspec": {
      "display_name": "Python 3",
      "name": "python3"
    },
    "language_info": {
      "name": "python"
    }
  },
  "nbformat": 4,
  "nbformat_minor": 0
}