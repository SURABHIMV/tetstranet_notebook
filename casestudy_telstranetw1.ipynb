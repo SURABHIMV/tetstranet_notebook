{
  "nbformat": 4,
  "nbformat_minor": 0,
  "metadata": {
    "colab": {
      "name": "casestudy1_firstcut_approch.ipynb",
      "provenance": [],
      "collapsed_sections": []
    },
    "kernelspec": {
      "name": "python3",
      "display_name": "Python 3"
    },
    "language_info": {
      "name": "python"
    }
  },
  "cells": [
    {
      "cell_type": "code",
      "execution_count": 9,
      "metadata": {
        "colab": {
          "base_uri": "https://localhost:8080/"
        },
        "id": "Ei2Z6Z2Kqp5N",
        "outputId": "dd782985-612c-492a-b7bb-bb91ad400a7e"
      },
      "outputs": [
        {
          "output_type": "stream",
          "name": "stdout",
          "text": [
            "Looking in indexes: https://pypi.org/simple, https://us-python.pkg.dev/colab-wheels/public/simple/\n",
            "Requirement already satisfied: kaggle in /usr/local/lib/python3.7/dist-packages (1.5.12)\n",
            "Requirement already satisfied: certifi in /usr/local/lib/python3.7/dist-packages (from kaggle) (2022.6.15)\n",
            "Requirement already satisfied: python-dateutil in /usr/local/lib/python3.7/dist-packages (from kaggle) (2.8.2)\n",
            "Requirement already satisfied: python-slugify in /usr/local/lib/python3.7/dist-packages (from kaggle) (6.1.2)\n",
            "Requirement already satisfied: tqdm in /usr/local/lib/python3.7/dist-packages (from kaggle) (4.64.0)\n",
            "Requirement already satisfied: six>=1.10 in /usr/local/lib/python3.7/dist-packages (from kaggle) (1.15.0)\n",
            "Requirement already satisfied: requests in /usr/local/lib/python3.7/dist-packages (from kaggle) (2.23.0)\n",
            "Requirement already satisfied: urllib3 in /usr/local/lib/python3.7/dist-packages (from kaggle) (1.24.3)\n",
            "Requirement already satisfied: text-unidecode>=1.3 in /usr/local/lib/python3.7/dist-packages (from python-slugify->kaggle) (1.3)\n",
            "Requirement already satisfied: idna<3,>=2.5 in /usr/local/lib/python3.7/dist-packages (from requests->kaggle) (2.10)\n",
            "Requirement already satisfied: chardet<4,>=3.0.2 in /usr/local/lib/python3.7/dist-packages (from requests->kaggle) (3.0.4)\n"
          ]
        }
      ],
      "source": [
        "!pip install kaggle\n",
        "\"\"\"\n",
        "To use the Kaggle API, sign up for a Kaggle account at https://www.kaggle.com. \n",
        "Then go to the 'Account' tab of your user profile (https://www.kaggle.com/<username>/account) and select 'Create API Token'. \n",
        "This will trigger the download of kaggle.json, a file containing your API credentials.\n",
        "Upload that file to google colab/google cloud platform \n",
        "\"\"\"\n",
        "api_token = {\"username\":\"surabhimv\",\"key\":\"6486570e714dc5adf89e540c7913012d\"}"
      ]
    },
    {
      "cell_type": "code",
      "source": [
        "\n",
        "!mkdir ~/.kaggle\n",
        "!cp kaggle.json ~/.kaggle/\n",
        "!kaggle competitions download -c 'telstra-recruiting-network'\n",
        "\n"
      ],
      "metadata": {
        "colab": {
          "base_uri": "https://localhost:8080/"
        },
        "id": "zoxn9F-xstzs",
        "outputId": "c75131f0-a9a0-496b-89b7-f429df9733a5"
      },
      "execution_count": 10,
      "outputs": [
        {
          "output_type": "stream",
          "name": "stdout",
          "text": [
            "Warning: Your Kaggle API key is readable by other users on this system! To fix this, you can run 'chmod 600 /root/.kaggle/kaggle.json'\n",
            "Downloading telstra-recruiting-network.zip to /content\n",
            "  0% 0.00/557k [00:00<?, ?B/s]\n",
            "100% 557k/557k [00:00<00:00, 46.4MB/s]\n"
          ]
        }
      ]
    },
    {
      "cell_type": "code",
      "source": [
        "!unzip telstra-recruiting-network.zip"
      ],
      "metadata": {
        "colab": {
          "base_uri": "https://localhost:8080/"
        },
        "id": "DlspeDkQ_k4v",
        "outputId": "3374af68-9f66-468d-f2e7-90d129a70818"
      },
      "execution_count": 11,
      "outputs": [
        {
          "output_type": "stream",
          "name": "stdout",
          "text": [
            "Archive:  telstra-recruiting-network.zip\n",
            "  inflating: event_type.csv.zip      \n",
            "  inflating: log_feature.csv.zip     \n",
            "  inflating: resource_type.csv.zip   \n",
            "  inflating: sample_submission.csv.zip  \n",
            "  inflating: severity_type.csv.zip   \n",
            "  inflating: test.csv.zip            \n",
            "  inflating: train.csv.zip           \n"
          ]
        }
      ]
    },
    {
      "cell_type": "code",
      "source": [
        "!unzip event_type.csv.zip"
      ],
      "metadata": {
        "colab": {
          "base_uri": "https://localhost:8080/"
        },
        "id": "RzeTqldc_KMI",
        "outputId": "54fe52f6-400e-41ae-a494-0c9f990ddf0a"
      },
      "execution_count": 14,
      "outputs": [
        {
          "output_type": "stream",
          "name": "stdout",
          "text": [
            "Archive:  event_type.csv.zip\n",
            "replace event_type.csv? [y]es, [n]o, [A]ll, [N]one, [r]ename: "
          ]
        }
      ]
    },
    {
      "cell_type": "code",
      "source": [
        "!unzip log_feature.csv.zip"
      ],
      "metadata": {
        "colab": {
          "base_uri": "https://localhost:8080/"
        },
        "id": "jcapEJWcB2sa",
        "outputId": "920ce6ed-560c-4974-91a0-9d3c0f5e4408"
      },
      "execution_count": 15,
      "outputs": [
        {
          "output_type": "stream",
          "name": "stdout",
          "text": [
            "Archive:  log_feature.csv.zip\n",
            "replace log_feature.csv? [y]es, [n]o, [A]ll, [N]one, [r]ename: "
          ]
        }
      ]
    },
    {
      "cell_type": "code",
      "source": [
        "!unzip resource_type.csv.zip"
      ],
      "metadata": {
        "colab": {
          "base_uri": "https://localhost:8080/"
        },
        "id": "9CPD6Yg9B23c",
        "outputId": "31caaf3d-f4a6-4c2e-aab0-a9123df8eed6"
      },
      "execution_count": 17,
      "outputs": [
        {
          "output_type": "stream",
          "name": "stdout",
          "text": [
            "Archive:  resource_type.csv.zip\n",
            "replace resource_type.csv? [y]es, [n]o, [A]ll, [N]one, [r]ename: "
          ]
        }
      ]
    },
    {
      "cell_type": "code",
      "source": [
        "!unzip severity_type.csv.zip"
      ],
      "metadata": {
        "colab": {
          "base_uri": "https://localhost:8080/"
        },
        "id": "1WrrAmdvB3A5",
        "outputId": "1b118061-e907-4369-f827-4c3d497f1ff0"
      },
      "execution_count": 19,
      "outputs": [
        {
          "output_type": "stream",
          "name": "stdout",
          "text": [
            "Archive:  severity_type.csv.zip\n",
            "replace severity_type.csv? [y]es, [n]o, [A]ll, [N]one, [r]ename: "
          ]
        }
      ]
    },
    {
      "cell_type": "code",
      "source": [
        "!unzip train.csv.zip"
      ],
      "metadata": {
        "colab": {
          "base_uri": "https://localhost:8080/"
        },
        "id": "wCGjzLF5B3K3",
        "outputId": "6966e230-f157-44f4-9e39-aa832315dfc0"
      },
      "execution_count": 20,
      "outputs": [
        {
          "output_type": "stream",
          "name": "stdout",
          "text": [
            "Archive:  train.csv.zip\n",
            "  inflating: train.csv               \n"
          ]
        }
      ]
    },
    {
      "cell_type": "code",
      "source": [
        "!unzip test.csv.zip"
      ],
      "metadata": {
        "colab": {
          "base_uri": "https://localhost:8080/"
        },
        "id": "pCXd2HNnD0DW",
        "outputId": "afc2a64a-aa58-42c7-c282-e23d8cb19b09"
      },
      "execution_count": 22,
      "outputs": [
        {
          "output_type": "stream",
          "name": "stdout",
          "text": [
            "Archive:  test.csv.zip\n",
            "replace test.csv? [y]es, [n]o, [A]ll, [N]one, [r]ename: "
          ]
        }
      ]
    },
    {
      "cell_type": "code",
      "source": [
        "import pandas as pd\n",
        "df1=pd.read_csv('event_type.csv')\n",
        "print(df1)"
      ],
      "metadata": {
        "colab": {
          "base_uri": "https://localhost:8080/"
        },
        "id": "nif-sPdqBfNK",
        "outputId": "8566690b-8268-45a4-dbda-d2a05cce9dd2"
      },
      "execution_count": 57,
      "outputs": [
        {
          "output_type": "stream",
          "name": "stdout",
          "text": [
            "         id     event_type\n",
            "0      6597  event_type 11\n",
            "1      8011  event_type 15\n",
            "2      2597  event_type 15\n",
            "3      5022  event_type 15\n",
            "4      5022  event_type 11\n",
            "...     ...            ...\n",
            "31165  3761  event_type 11\n",
            "31166  8720  event_type 11\n",
            "31167  6488  event_type 11\n",
            "31168   878  event_type 11\n",
            "31169  4464  event_type 11\n",
            "\n",
            "[31170 rows x 2 columns]\n"
          ]
        }
      ]
    },
    {
      "cell_type": "code",
      "source": [
        "df2=pd.read_csv('log_feature.csv')\n",
        "print(df2)"
      ],
      "metadata": {
        "colab": {
          "base_uri": "https://localhost:8080/"
        },
        "id": "u3MhOQ05B06c",
        "outputId": "77b81aab-46d5-4a5a-8667-a688af50d827"
      },
      "execution_count": 58,
      "outputs": [
        {
          "output_type": "stream",
          "name": "stdout",
          "text": [
            "         id  log_feature  volume\n",
            "0      6597   feature 68       6\n",
            "1      8011   feature 68       7\n",
            "2      2597   feature 68       1\n",
            "3      5022  feature 172       2\n",
            "4      5022   feature 56       1\n",
            "...     ...          ...     ...\n",
            "58666  8720  feature 209       1\n",
            "58667  6488   feature 54       3\n",
            "58668   878   feature 62       1\n",
            "58669  4464  feature 209       1\n",
            "58670  4464   feature 87       2\n",
            "\n",
            "[58671 rows x 3 columns]\n"
          ]
        }
      ]
    },
    {
      "cell_type": "code",
      "source": [
        "df3=pd.read_csv('resource_type.csv')\n",
        "print(df3)"
      ],
      "metadata": {
        "colab": {
          "base_uri": "https://localhost:8080/"
        },
        "id": "X4IXkiXgB1Rx",
        "outputId": "d66b7583-16f4-42e4-909b-593b9d304d89"
      },
      "execution_count": 59,
      "outputs": [
        {
          "output_type": "stream",
          "name": "stdout",
          "text": [
            "         id    resource_type\n",
            "0      6597  resource_type 8\n",
            "1      8011  resource_type 8\n",
            "2      2597  resource_type 8\n",
            "3      5022  resource_type 8\n",
            "4      6852  resource_type 8\n",
            "...     ...              ...\n",
            "21071  3761  resource_type 8\n",
            "21072  8720  resource_type 8\n",
            "21073  6488  resource_type 8\n",
            "21074   878  resource_type 8\n",
            "21075  4464  resource_type 8\n",
            "\n",
            "[21076 rows x 2 columns]\n"
          ]
        }
      ]
    },
    {
      "cell_type": "code",
      "source": [
        "df4=pd.read_csv('severity_type.csv')\n",
        "print(df4)"
      ],
      "metadata": {
        "colab": {
          "base_uri": "https://localhost:8080/"
        },
        "id": "nyFiuHjpB1gJ",
        "outputId": "182e066c-ff98-4303-f7d6-70558b4a4ec4"
      },
      "execution_count": 60,
      "outputs": [
        {
          "output_type": "stream",
          "name": "stdout",
          "text": [
            "         id    severity_type\n",
            "0      6597  severity_type 2\n",
            "1      8011  severity_type 2\n",
            "2      2597  severity_type 2\n",
            "3      5022  severity_type 1\n",
            "4      6852  severity_type 1\n",
            "...     ...              ...\n",
            "18547  3761  severity_type 1\n",
            "18548  8720  severity_type 1\n",
            "18549  6488  severity_type 2\n",
            "18550   878  severity_type 2\n",
            "18551  4464  severity_type 1\n",
            "\n",
            "[18552 rows x 2 columns]\n"
          ]
        }
      ]
    },
    {
      "cell_type": "code",
      "source": [
        "df5=pd.read_csv('train.csv')\n",
        "print(df5)"
      ],
      "metadata": {
        "colab": {
          "base_uri": "https://localhost:8080/"
        },
        "id": "zOE_1NKrDfYK",
        "outputId": "b8de50a8-988b-4945-b357-5718ff84724c"
      },
      "execution_count": 61,
      "outputs": [
        {
          "output_type": "stream",
          "name": "stdout",
          "text": [
            "         id       location  fault_severity\n",
            "0     14121   location 118               1\n",
            "1      9320    location 91               0\n",
            "2     14394   location 152               1\n",
            "3      8218   location 931               1\n",
            "4     14804   location 120               0\n",
            "...     ...            ...             ...\n",
            "7376    870   location 167               0\n",
            "7377  18068   location 106               0\n",
            "7378  14111  location 1086               2\n",
            "7379  15189     location 7               0\n",
            "7380  17067   location 885               0\n",
            "\n",
            "[7381 rows x 3 columns]\n"
          ]
        }
      ]
    },
    {
      "cell_type": "code",
      "source": [
        "df=pd.read_csv('test.csv')\n",
        "print(df)"
      ],
      "metadata": {
        "colab": {
          "base_uri": "https://localhost:8080/"
        },
        "id": "1CUhIAvWEKBX",
        "outputId": "f03e6f4a-10a8-4add-e3eb-7cfb7cdaec35"
      },
      "execution_count": 62,
      "outputs": [
        {
          "output_type": "stream",
          "name": "stdout",
          "text": [
            "          id       location\n",
            "0      11066   location 481\n",
            "1      18000   location 962\n",
            "2      16964   location 491\n",
            "3       4795   location 532\n",
            "4       3392   location 600\n",
            "...      ...            ...\n",
            "11166  14806  location 1073\n",
            "11167   1825    location 11\n",
            "11168   2374   location 917\n",
            "11169   7277   location 208\n",
            "11170   9886   location 438\n",
            "\n",
            "[11171 rows x 2 columns]\n"
          ]
        }
      ]
    },
    {
      "cell_type": "code",
      "source": [
        "import re\n",
        "d=df4['severity_type'].values\n",
        "s=[]\n",
        "print(d)\n",
        "for i in d:\n",
        "  q=re.findall(r'\\d+',i)\n",
        "  q1=''.join(q)\n",
        "  s.append(int(q1))\n",
        "\n",
        "df4['severity_type']=s\n",
        "print(df4)\n",
        "\n"
      ],
      "metadata": {
        "colab": {
          "base_uri": "https://localhost:8080/"
        },
        "id": "h8bxQ-i9ekoA",
        "outputId": "62fa0dc2-e4d5-45e8-974c-1d887c484bce"
      },
      "execution_count": 63,
      "outputs": [
        {
          "output_type": "stream",
          "name": "stdout",
          "text": [
            "['severity_type 2' 'severity_type 2' 'severity_type 2' ...\n",
            " 'severity_type 2' 'severity_type 2' 'severity_type 1']\n",
            "         id  severity_type\n",
            "0      6597              2\n",
            "1      8011              2\n",
            "2      2597              2\n",
            "3      5022              1\n",
            "4      6852              1\n",
            "...     ...            ...\n",
            "18547  3761              1\n",
            "18548  8720              1\n",
            "18549  6488              2\n",
            "18550   878              2\n",
            "18551  4464              1\n",
            "\n",
            "[18552 rows x 2 columns]\n"
          ]
        }
      ]
    },
    {
      "cell_type": "code",
      "source": [
        "\n",
        "d1=df3['resource_type'].values\n",
        "s1=[]\n",
        "\n",
        "for i in d1:\n",
        "  q=re.findall(r'\\d+',i)\n",
        "  q1=''.join(q)\n",
        "  s1.append(int(q1))\n",
        "\n",
        "df3['resource_type']=s1\n",
        "print(df3)"
      ],
      "metadata": {
        "colab": {
          "base_uri": "https://localhost:8080/"
        },
        "id": "Paq_melTnnzd",
        "outputId": "5e75e83a-3de6-416c-d07f-3f19e11f70c7"
      },
      "execution_count": 31,
      "outputs": [
        {
          "output_type": "stream",
          "name": "stdout",
          "text": [
            "         id  resource_type\n",
            "0      6597              8\n",
            "1      8011              8\n",
            "2      2597              8\n",
            "3      5022              8\n",
            "4      6852              8\n",
            "...     ...            ...\n",
            "21071  3761              8\n",
            "21072  8720              8\n",
            "21073  6488              8\n",
            "21074   878              8\n",
            "21075  4464              8\n",
            "\n",
            "[21076 rows x 2 columns]\n"
          ]
        }
      ]
    },
    {
      "cell_type": "code",
      "source": [
        "\n",
        "d2=df2['log_feature'].values\n",
        "s2=[]\n",
        "\n",
        "for i in d2:\n",
        "  q=re.findall(r'\\d+',i)\n",
        "  q1=''.join(q)\n",
        "  s2.append(int(q1))\n",
        "\n",
        "df2['log_feature']=s2\n",
        "print(df2)"
      ],
      "metadata": {
        "colab": {
          "base_uri": "https://localhost:8080/"
        },
        "id": "mZSfnTQTo21R",
        "outputId": "bdfef0d1-9467-4166-98e2-9466763fccc1"
      },
      "execution_count": 32,
      "outputs": [
        {
          "output_type": "stream",
          "name": "stdout",
          "text": [
            "         id  log_feature  volume\n",
            "0      6597           68       6\n",
            "1      8011           68       7\n",
            "2      2597           68       1\n",
            "3      5022          172       2\n",
            "4      5022           56       1\n",
            "...     ...          ...     ...\n",
            "58666  8720          209       1\n",
            "58667  6488           54       3\n",
            "58668   878           62       1\n",
            "58669  4464          209       1\n",
            "58670  4464           87       2\n",
            "\n",
            "[58671 rows x 3 columns]\n"
          ]
        }
      ]
    },
    {
      "cell_type": "code",
      "source": [
        "import re\n",
        "d1=df1['event_type'].values\n",
        "s3=[]\n",
        "\n",
        "for i in d1:\n",
        "  q=re.findall(r'\\d+',i)\n",
        "  q1=''.join(q)\n",
        "  s3.append(int(q1))\n",
        "\n",
        "df1['event_type']=s3\n",
        "print(df1)"
      ],
      "metadata": {
        "colab": {
          "base_uri": "https://localhost:8080/"
        },
        "id": "WId9cGf7pSIV",
        "outputId": "ff27b65e-e21e-4d27-d426-602ee5e38cf9"
      },
      "execution_count": 33,
      "outputs": [
        {
          "output_type": "stream",
          "name": "stdout",
          "text": [
            "         id  event_type\n",
            "0      6597          11\n",
            "1      8011          15\n",
            "2      2597          15\n",
            "3      5022          15\n",
            "4      5022          11\n",
            "...     ...         ...\n",
            "31165  3761          11\n",
            "31166  8720          11\n",
            "31167  6488          11\n",
            "31168   878          11\n",
            "31169  4464          11\n",
            "\n",
            "[31170 rows x 2 columns]\n"
          ]
        }
      ]
    },
    {
      "cell_type": "code",
      "source": [
        "import re\n",
        "d5=df5['location'].values\n",
        "s5=[]\n",
        "\n",
        "for i in d5:\n",
        "  q=re.findall(r'\\d+',i)\n",
        "  q1=''.join(q)\n",
        "  s5.append(int(q1))\n",
        "\n",
        "df5['location']=s5\n",
        "print(df5)"
      ],
      "metadata": {
        "colab": {
          "base_uri": "https://localhost:8080/"
        },
        "id": "7xLAdy7Prja9",
        "outputId": "e9de5362-06c7-44b0-fa1c-130c960d1e7a"
      },
      "execution_count": 34,
      "outputs": [
        {
          "output_type": "stream",
          "name": "stdout",
          "text": [
            "         id  location  fault_severity\n",
            "0     14121       118               1\n",
            "1      9320        91               0\n",
            "2     14394       152               1\n",
            "3      8218       931               1\n",
            "4     14804       120               0\n",
            "...     ...       ...             ...\n",
            "7376    870       167               0\n",
            "7377  18068       106               0\n",
            "7378  14111      1086               2\n",
            "7379  15189         7               0\n",
            "7380  17067       885               0\n",
            "\n",
            "[7381 rows x 3 columns]\n"
          ]
        }
      ]
    },
    {
      "cell_type": "code",
      "source": [
        "dff= pd.merge(df1,df2,on='id')\n",
        "dff1=pd.merge(dff,df3,on='id')\n",
        "dff2=pd.merge(dff1,df4,on='id')\n",
        "dff3=pd.merge(dff2,df5,on='id')\n",
        "print(dff3)\n"
      ],
      "metadata": {
        "colab": {
          "base_uri": "https://localhost:8080/"
        },
        "id": "s973_RF5p3fD",
        "outputId": "5dd32472-2290-409a-a8ec-7be79edb6449"
      },
      "execution_count": 35,
      "outputs": [
        {
          "output_type": "stream",
          "name": "stdout",
          "text": [
            "         id  event_type  log_feature  volume  resource_type  severity_type  \\\n",
            "0      8011          15           68       7              8              2   \n",
            "1      2588          15           82       9              8              1   \n",
            "2      2588          15          201       5              8              1   \n",
            "3      2588          15           80      15              8              1   \n",
            "4      2588          15          203       5              8              1   \n",
            "...     ...         ...          ...     ...            ...            ...   \n",
            "61834  8114          11           54       1              8              2   \n",
            "61835  8114          11           87       3              8              2   \n",
            "61836   878          11           62       1              8              2   \n",
            "61837  4464          11          209       1              8              1   \n",
            "61838  4464          11           87       2              8              1   \n",
            "\n",
            "       location  fault_severity  \n",
            "0             1               0  \n",
            "1             1               0  \n",
            "2             1               0  \n",
            "3             1               0  \n",
            "4             1               0  \n",
            "...         ...             ...  \n",
            "61834       999               0  \n",
            "61835       999               0  \n",
            "61836       999               0  \n",
            "61837       999               0  \n",
            "61838       999               0  \n",
            "\n",
            "[61839 rows x 8 columns]\n"
          ]
        }
      ]
    },
    {
      "cell_type": "code",
      "source": [
        "#EDA\n",
        "dff3.info()"
      ],
      "metadata": {
        "colab": {
          "base_uri": "https://localhost:8080/"
        },
        "id": "S7wZHFJ-_lF7",
        "outputId": "974cbae4-ff52-49d5-fb76-868cadba5da9"
      },
      "execution_count": 36,
      "outputs": [
        {
          "output_type": "stream",
          "name": "stdout",
          "text": [
            "<class 'pandas.core.frame.DataFrame'>\n",
            "Int64Index: 61839 entries, 0 to 61838\n",
            "Data columns (total 8 columns):\n",
            " #   Column          Non-Null Count  Dtype\n",
            "---  ------          --------------  -----\n",
            " 0   id              61839 non-null  int64\n",
            " 1   event_type      61839 non-null  int64\n",
            " 2   log_feature     61839 non-null  int64\n",
            " 3   volume          61839 non-null  int64\n",
            " 4   resource_type   61839 non-null  int64\n",
            " 5   severity_type   61839 non-null  int64\n",
            " 6   location        61839 non-null  int64\n",
            " 7   fault_severity  61839 non-null  int64\n",
            "dtypes: int64(8)\n",
            "memory usage: 4.2 MB\n"
          ]
        }
      ]
    },
    {
      "cell_type": "code",
      "source": [
        "dff3.describe()"
      ],
      "metadata": {
        "colab": {
          "base_uri": "https://localhost:8080/",
          "height": 300
        },
        "id": "zhSc1R0_j7n4",
        "outputId": "c228389f-eec3-41ba-ad10-8932f7b9179f"
      },
      "execution_count": 37,
      "outputs": [
        {
          "output_type": "execute_result",
          "data": {
            "text/plain": [
              "                 id    event_type   log_feature        volume  resource_type  \\\n",
              "count  61839.000000  61839.000000  61839.000000  61839.000000   61839.000000   \n",
              "mean    9104.379469     24.887482    211.245411      8.390336       4.557334   \n",
              "std     5387.274195     12.007950     94.919318     22.902491       2.863860   \n",
              "min        1.000000      1.000000      1.000000      1.000000       1.000000   \n",
              "25%     4353.000000     13.000000    134.000000      1.000000       2.000000   \n",
              "50%     8981.000000     23.000000    228.000000      2.000000       2.000000   \n",
              "75%    13664.000000     35.000000    306.000000      6.000000       8.000000   \n",
              "max    18550.000000     54.000000    384.000000    877.000000      10.000000   \n",
              "\n",
              "       severity_type      location  fault_severity  \n",
              "count   61839.000000  61839.000000    61839.000000  \n",
              "mean        1.441566    580.234836        0.549168  \n",
              "std         0.589572    318.089156        0.727701  \n",
              "min         1.000000      1.000000        0.000000  \n",
              "25%         1.000000    304.000000        0.000000  \n",
              "50%         1.000000    607.000000        0.000000  \n",
              "75%         2.000000    834.000000        1.000000  \n",
              "max         5.000000   1126.000000        2.000000  "
            ],
            "text/html": [
              "\n",
              "  <div id=\"df-63fc267d-7992-4989-ae34-15e0b8422562\">\n",
              "    <div class=\"colab-df-container\">\n",
              "      <div>\n",
              "<style scoped>\n",
              "    .dataframe tbody tr th:only-of-type {\n",
              "        vertical-align: middle;\n",
              "    }\n",
              "\n",
              "    .dataframe tbody tr th {\n",
              "        vertical-align: top;\n",
              "    }\n",
              "\n",
              "    .dataframe thead th {\n",
              "        text-align: right;\n",
              "    }\n",
              "</style>\n",
              "<table border=\"1\" class=\"dataframe\">\n",
              "  <thead>\n",
              "    <tr style=\"text-align: right;\">\n",
              "      <th></th>\n",
              "      <th>id</th>\n",
              "      <th>event_type</th>\n",
              "      <th>log_feature</th>\n",
              "      <th>volume</th>\n",
              "      <th>resource_type</th>\n",
              "      <th>severity_type</th>\n",
              "      <th>location</th>\n",
              "      <th>fault_severity</th>\n",
              "    </tr>\n",
              "  </thead>\n",
              "  <tbody>\n",
              "    <tr>\n",
              "      <th>count</th>\n",
              "      <td>61839.000000</td>\n",
              "      <td>61839.000000</td>\n",
              "      <td>61839.000000</td>\n",
              "      <td>61839.000000</td>\n",
              "      <td>61839.000000</td>\n",
              "      <td>61839.000000</td>\n",
              "      <td>61839.000000</td>\n",
              "      <td>61839.000000</td>\n",
              "    </tr>\n",
              "    <tr>\n",
              "      <th>mean</th>\n",
              "      <td>9104.379469</td>\n",
              "      <td>24.887482</td>\n",
              "      <td>211.245411</td>\n",
              "      <td>8.390336</td>\n",
              "      <td>4.557334</td>\n",
              "      <td>1.441566</td>\n",
              "      <td>580.234836</td>\n",
              "      <td>0.549168</td>\n",
              "    </tr>\n",
              "    <tr>\n",
              "      <th>std</th>\n",
              "      <td>5387.274195</td>\n",
              "      <td>12.007950</td>\n",
              "      <td>94.919318</td>\n",
              "      <td>22.902491</td>\n",
              "      <td>2.863860</td>\n",
              "      <td>0.589572</td>\n",
              "      <td>318.089156</td>\n",
              "      <td>0.727701</td>\n",
              "    </tr>\n",
              "    <tr>\n",
              "      <th>min</th>\n",
              "      <td>1.000000</td>\n",
              "      <td>1.000000</td>\n",
              "      <td>1.000000</td>\n",
              "      <td>1.000000</td>\n",
              "      <td>1.000000</td>\n",
              "      <td>1.000000</td>\n",
              "      <td>1.000000</td>\n",
              "      <td>0.000000</td>\n",
              "    </tr>\n",
              "    <tr>\n",
              "      <th>25%</th>\n",
              "      <td>4353.000000</td>\n",
              "      <td>13.000000</td>\n",
              "      <td>134.000000</td>\n",
              "      <td>1.000000</td>\n",
              "      <td>2.000000</td>\n",
              "      <td>1.000000</td>\n",
              "      <td>304.000000</td>\n",
              "      <td>0.000000</td>\n",
              "    </tr>\n",
              "    <tr>\n",
              "      <th>50%</th>\n",
              "      <td>8981.000000</td>\n",
              "      <td>23.000000</td>\n",
              "      <td>228.000000</td>\n",
              "      <td>2.000000</td>\n",
              "      <td>2.000000</td>\n",
              "      <td>1.000000</td>\n",
              "      <td>607.000000</td>\n",
              "      <td>0.000000</td>\n",
              "    </tr>\n",
              "    <tr>\n",
              "      <th>75%</th>\n",
              "      <td>13664.000000</td>\n",
              "      <td>35.000000</td>\n",
              "      <td>306.000000</td>\n",
              "      <td>6.000000</td>\n",
              "      <td>8.000000</td>\n",
              "      <td>2.000000</td>\n",
              "      <td>834.000000</td>\n",
              "      <td>1.000000</td>\n",
              "    </tr>\n",
              "    <tr>\n",
              "      <th>max</th>\n",
              "      <td>18550.000000</td>\n",
              "      <td>54.000000</td>\n",
              "      <td>384.000000</td>\n",
              "      <td>877.000000</td>\n",
              "      <td>10.000000</td>\n",
              "      <td>5.000000</td>\n",
              "      <td>1126.000000</td>\n",
              "      <td>2.000000</td>\n",
              "    </tr>\n",
              "  </tbody>\n",
              "</table>\n",
              "</div>\n",
              "      <button class=\"colab-df-convert\" onclick=\"convertToInteractive('df-63fc267d-7992-4989-ae34-15e0b8422562')\"\n",
              "              title=\"Convert this dataframe to an interactive table.\"\n",
              "              style=\"display:none;\">\n",
              "        \n",
              "  <svg xmlns=\"http://www.w3.org/2000/svg\" height=\"24px\"viewBox=\"0 0 24 24\"\n",
              "       width=\"24px\">\n",
              "    <path d=\"M0 0h24v24H0V0z\" fill=\"none\"/>\n",
              "    <path d=\"M18.56 5.44l.94 2.06.94-2.06 2.06-.94-2.06-.94-.94-2.06-.94 2.06-2.06.94zm-11 1L8.5 8.5l.94-2.06 2.06-.94-2.06-.94L8.5 2.5l-.94 2.06-2.06.94zm10 10l.94 2.06.94-2.06 2.06-.94-2.06-.94-.94-2.06-.94 2.06-2.06.94z\"/><path d=\"M17.41 7.96l-1.37-1.37c-.4-.4-.92-.59-1.43-.59-.52 0-1.04.2-1.43.59L10.3 9.45l-7.72 7.72c-.78.78-.78 2.05 0 2.83L4 21.41c.39.39.9.59 1.41.59.51 0 1.02-.2 1.41-.59l7.78-7.78 2.81-2.81c.8-.78.8-2.07 0-2.86zM5.41 20L4 18.59l7.72-7.72 1.47 1.35L5.41 20z\"/>\n",
              "  </svg>\n",
              "      </button>\n",
              "      \n",
              "  <style>\n",
              "    .colab-df-container {\n",
              "      display:flex;\n",
              "      flex-wrap:wrap;\n",
              "      gap: 12px;\n",
              "    }\n",
              "\n",
              "    .colab-df-convert {\n",
              "      background-color: #E8F0FE;\n",
              "      border: none;\n",
              "      border-radius: 50%;\n",
              "      cursor: pointer;\n",
              "      display: none;\n",
              "      fill: #1967D2;\n",
              "      height: 32px;\n",
              "      padding: 0 0 0 0;\n",
              "      width: 32px;\n",
              "    }\n",
              "\n",
              "    .colab-df-convert:hover {\n",
              "      background-color: #E2EBFA;\n",
              "      box-shadow: 0px 1px 2px rgba(60, 64, 67, 0.3), 0px 1px 3px 1px rgba(60, 64, 67, 0.15);\n",
              "      fill: #174EA6;\n",
              "    }\n",
              "\n",
              "    [theme=dark] .colab-df-convert {\n",
              "      background-color: #3B4455;\n",
              "      fill: #D2E3FC;\n",
              "    }\n",
              "\n",
              "    [theme=dark] .colab-df-convert:hover {\n",
              "      background-color: #434B5C;\n",
              "      box-shadow: 0px 1px 3px 1px rgba(0, 0, 0, 0.15);\n",
              "      filter: drop-shadow(0px 1px 2px rgba(0, 0, 0, 0.3));\n",
              "      fill: #FFFFFF;\n",
              "    }\n",
              "  </style>\n",
              "\n",
              "      <script>\n",
              "        const buttonEl =\n",
              "          document.querySelector('#df-63fc267d-7992-4989-ae34-15e0b8422562 button.colab-df-convert');\n",
              "        buttonEl.style.display =\n",
              "          google.colab.kernel.accessAllowed ? 'block' : 'none';\n",
              "\n",
              "        async function convertToInteractive(key) {\n",
              "          const element = document.querySelector('#df-63fc267d-7992-4989-ae34-15e0b8422562');\n",
              "          const dataTable =\n",
              "            await google.colab.kernel.invokeFunction('convertToInteractive',\n",
              "                                                     [key], {});\n",
              "          if (!dataTable) return;\n",
              "\n",
              "          const docLinkHtml = 'Like what you see? Visit the ' +\n",
              "            '<a target=\"_blank\" href=https://colab.research.google.com/notebooks/data_table.ipynb>data table notebook</a>'\n",
              "            + ' to learn more about interactive tables.';\n",
              "          element.innerHTML = '';\n",
              "          dataTable['output_type'] = 'display_data';\n",
              "          await google.colab.output.renderOutput(dataTable, element);\n",
              "          const docLink = document.createElement('div');\n",
              "          docLink.innerHTML = docLinkHtml;\n",
              "          element.appendChild(docLink);\n",
              "        }\n",
              "      </script>\n",
              "    </div>\n",
              "  </div>\n",
              "  "
            ]
          },
          "metadata": {},
          "execution_count": 37
        }
      ]
    },
    {
      "cell_type": "code",
      "source": [
        "dff3.isnull().value_counts()"
      ],
      "metadata": {
        "colab": {
          "base_uri": "https://localhost:8080/"
        },
        "id": "9iFvwHC8UIrA",
        "outputId": "f2bd4f21-65f1-44f2-853b-c851e64bd32b"
      },
      "execution_count": 38,
      "outputs": [
        {
          "output_type": "execute_result",
          "data": {
            "text/plain": [
              "id     event_type  log_feature  volume  resource_type  severity_type  location  fault_severity\n",
              "False  False       False        False   False          False          False     False             61839\n",
              "dtype: int64"
            ]
          },
          "metadata": {},
          "execution_count": 38
        }
      ]
    },
    {
      "cell_type": "code",
      "source": [
        "dff3['fault_severity'].value_counts()                                           #data is imbalanced"
      ],
      "metadata": {
        "colab": {
          "base_uri": "https://localhost:8080/"
        },
        "id": "v2FSUe3yB_K-",
        "outputId": "f423f0d7-092a-4054-a551-89b60f857512"
      },
      "execution_count": 39,
      "outputs": [
        {
          "output_type": "execute_result",
          "data": {
            "text/plain": [
              "0    36597\n",
              "1    16524\n",
              "2     8718\n",
              "Name: fault_severity, dtype: int64"
            ]
          },
          "metadata": {},
          "execution_count": 39
        }
      ]
    },
    {
      "cell_type": "code",
      "source": [
        "dff3.shape"
      ],
      "metadata": {
        "colab": {
          "base_uri": "https://localhost:8080/"
        },
        "id": "-bBsf7Wta-ev",
        "outputId": "3e1b141c-990c-401b-d924-4ad1c9c39c49"
      },
      "execution_count": 40,
      "outputs": [
        {
          "output_type": "execute_result",
          "data": {
            "text/plain": [
              "(61839, 8)"
            ]
          },
          "metadata": {},
          "execution_count": 40
        }
      ]
    },
    {
      "cell_type": "code",
      "source": [
        "dff3.corr()['fault_severity']"
      ],
      "metadata": {
        "colab": {
          "base_uri": "https://localhost:8080/"
        },
        "id": "KbcVnxpmmJgS",
        "outputId": "57fef416-6652-4fd6-fd7b-01439b714cb4"
      },
      "execution_count": 42,
      "outputs": [
        {
          "output_type": "execute_result",
          "data": {
            "text/plain": [
              "id               -0.045528\n",
              "event_type       -0.262184\n",
              "log_feature      -0.208400\n",
              "volume           -0.027196\n",
              "resource_type     0.285475\n",
              "severity_type    -0.325157\n",
              "location          0.270390\n",
              "fault_severity    1.000000\n",
              "Name: fault_severity, dtype: float64"
            ]
          },
          "metadata": {},
          "execution_count": 42
        }
      ]
    },
    {
      "cell_type": "code",
      "source": [
        "import seaborn as sns\n",
        "sns.barplot(x='resource_type',y='fault_severity',data=dff3)"
      ],
      "metadata": {
        "colab": {
          "base_uri": "https://localhost:8080/",
          "height": 298
        },
        "id": "08DRALe0yHvo",
        "outputId": "8dd5e9f0-f597-4b41-b82e-7a8976af3eb0"
      },
      "execution_count": 82,
      "outputs": [
        {
          "output_type": "execute_result",
          "data": {
            "text/plain": [
              "<matplotlib.axes._subplots.AxesSubplot at 0x7fda4b350850>"
            ]
          },
          "metadata": {},
          "execution_count": 82
        },
        {
          "output_type": "display_data",
          "data": {
            "text/plain": [
              "<Figure size 432x288 with 1 Axes>"
            ],
            "image/png": "[encoded data removed]"
          },
          "metadata": {}
        }
      ]
    },
    {
      "cell_type": "code",
      "source": [
        "sns.barplot(x='severity_type',y='fault_severity',data=dff3)"
      ],
      "metadata": {
        "colab": {
          "base_uri": "https://localhost:8080/",
          "height": 298
        },
        "id": "ijAgjVlpEix2",
        "outputId": "520f2049-8ed6-4d8e-eb73-c43965e6981e"
      },
      "execution_count": 74,
      "outputs": [
        {
          "output_type": "execute_result",
          "data": {
            "text/plain": [
              "<matplotlib.axes._subplots.AxesSubplot at 0x7fda50369d50>"
            ]
          },
          "metadata": {},
          "execution_count": 74
        },
        {
          "output_type": "display_data",
          "data": {
            "text/plain": [
              "<Figure size 432x288 with 1 Axes>"
            ],
            "image/png": "[encoded data removed]"
          },
          "metadata": {}
        }
      ]
    },
    {
      "cell_type": "code",
      "source": [
        "sns.barplot(x='event_type',y='fault_severity',data=dff3)"
      ],
      "metadata": {
        "colab": {
          "base_uri": "https://localhost:8080/",
          "height": 298
        },
        "id": "zfys5L5MEi95",
        "outputId": "89fc0e2d-ef12-40ee-c343-09e3b5f19536"
      },
      "execution_count": 75,
      "outputs": [
        {
          "output_type": "execute_result",
          "data": {
            "text/plain": [
              "<matplotlib.axes._subplots.AxesSubplot at 0x7fda502e8350>"
            ]
          },
          "metadata": {},
          "execution_count": 75
        },
        {
          "output_type": "display_data",
          "data": {
            "text/plain": [
              "<Figure size 432x288 with 1 Axes>"
            ],
            "image/png": "[encoded data removed]"
          },
          "metadata": {}
        }
      ]
    },
    {
      "cell_type": "code",
      "source": [
        "sns.barplot(x='log_feature',y='fault_severity',data=dff3)"
      ],
      "metadata": {
        "colab": {
          "base_uri": "https://localhost:8080/",
          "height": 298
        },
        "id": "MAy5HDznJbsi",
        "outputId": "2b50745c-7e8f-45c6-9555-567766d4997f"
      },
      "execution_count": 76,
      "outputs": [
        {
          "output_type": "execute_result",
          "data": {
            "text/plain": [
              "<matplotlib.axes._subplots.AxesSubplot at 0x7fda50156250>"
            ]
          },
          "metadata": {},
          "execution_count": 76
        },
        {
          "output_type": "display_data",
          "data": {
            "text/plain": [
              "<Figure size 432x288 with 1 Axes>"
            ],
            "image/png": "[encoded data removed]"
          },
          "metadata": {}
        }
      ]
    },
    {
      "cell_type": "code",
      "source": [
        "sns.barplot(x='location',y='fault_severity',data=dff3)"
      ],
      "metadata": {
        "colab": {
          "base_uri": "https://localhost:8080/",
          "height": 297
        },
        "id": "_ivfNLQcEjKm",
        "outputId": "b900178c-3a20-43ae-9cd8-f97ae50ad352"
      },
      "execution_count": 77,
      "outputs": [
        {
          "output_type": "execute_result",
          "data": {
            "text/plain": [
              "<matplotlib.axes._subplots.AxesSubplot at 0x7fda4f373750>"
            ]
          },
          "metadata": {},
          "execution_count": 77
        },
        {
          "output_type": "display_data",
          "data": {
            "text/plain": [
              "<Figure size 432x288 with 1 Axes>"
            ],
            "image/png": "[encoded data removed]"
          },
          "metadata": {}
        }
      ]
    },
    {
      "cell_type": "code",
      "source": [
        "sns.barplot(x='volume',y='fault_severity',data=dff3)"
      ],
      "metadata": {
        "colab": {
          "base_uri": "https://localhost:8080/",
          "height": 297
        },
        "id": "RjOc-PAGEjTY",
        "outputId": "970b9e24-9da7-4960-e82a-ce99a0c313c3"
      },
      "execution_count": 78,
      "outputs": [
        {
          "output_type": "execute_result",
          "data": {
            "text/plain": [
              "<matplotlib.axes._subplots.AxesSubplot at 0x7fda4d5b06d0>"
            ]
          },
          "metadata": {},
          "execution_count": 78
        },
        {
          "output_type": "display_data",
          "data": {
            "text/plain": [
              "<Figure size 432x288 with 1 Axes>"
            ],
            "image/png": "[encoded data removed]"
          },
          "metadata": {}
        }
      ]
    },
    {
      "cell_type": "code",
      "source": [
        "import seaborn as sns\n",
        "import matplotlib.pyplot as plt                                                 #boxplot representation of feature log_feature\n",
        "ax = sns.boxplot(x=\"fault_severity\", y=\"log_feature\", data=dff3)                \n",
        "plt.title(\"boxplot of logfile features\")\n",
        "plt.show()"
      ],
      "metadata": {
        "colab": {
          "base_uri": "https://localhost:8080/",
          "height": 296
        },
        "id": "MwdKhYYF9bE9",
        "outputId": "c860e446-7cc7-4e50-8c3c-a973642ae5da"
      },
      "execution_count": 84,
      "outputs": [
        {
          "output_type": "display_data",
          "data": {
            "text/plain": [
              "<Figure size 432x288 with 1 Axes>"
            ],
            "image/png": "[encoded data removed]"
          },
          "metadata": {}
        }
      ]
    },
    {
      "cell_type": "code",
      "source": [
        "ax = sns.boxplot(x=\"fault_severity\", y=\"id\", data=dff3)                         ##boxplot representation of feature id\n",
        "plt.title(\"boxplot of logfile features\")\n",
        "plt.show()"
      ],
      "metadata": {
        "colab": {
          "base_uri": "https://localhost:8080/",
          "height": 296
        },
        "id": "u5aphWcKkkCs",
        "outputId": "55490dfc-7adf-44f2-f2e8-3837e2aa0d7d"
      },
      "execution_count": 85,
      "outputs": [
        {
          "output_type": "display_data",
          "data": {
            "text/plain": [
              "<Figure size 432x288 with 1 Axes>"
            ],
            "image/png": "[encoded data removed]"
          },
          "metadata": {}
        }
      ]
    },
    {
      "cell_type": "code",
      "source": [
        "\n",
        "ax = sns.boxplot(x=\"fault_severity\", y=\"event_type\", data=dff3)                 ##boxplot representation of feature event_type\n",
        "plt.title(\"boxplot of logfile features\")\n",
        "plt.show()"
      ],
      "metadata": {
        "colab": {
          "base_uri": "https://localhost:8080/",
          "height": 296
        },
        "id": "9kd89L_eFlbJ",
        "outputId": "55112d23-cd87-4885-ff1c-53b556833fb1"
      },
      "execution_count": 86,
      "outputs": [
        {
          "output_type": "display_data",
          "data": {
            "text/plain": [
              "<Figure size 432x288 with 1 Axes>"
            ],
            "image/png": "[encoded data removed]"
          },
          "metadata": {}
        }
      ]
    },
    {
      "cell_type": "code",
      "source": [
        "\n",
        "ax = sns.boxplot(x=\"fault_severity\", y=\"resource_type\", data=dff3)              ##boxplot representation of feature resource_type\n",
        "plt.title(\"boxplot of logfile features\")\n",
        "plt.show()"
      ],
      "metadata": {
        "colab": {
          "base_uri": "https://localhost:8080/",
          "height": 296
        },
        "id": "8qC6c5kJFlnU",
        "outputId": "5aeb1d02-638a-4ec8-f91e-7435d37e690a"
      },
      "execution_count": 87,
      "outputs": [
        {
          "output_type": "display_data",
          "data": {
            "text/plain": [
              "<Figure size 432x288 with 1 Axes>"
            ],
            "image/png": "[encoded data removed]"
          },
          "metadata": {}
        }
      ]
    },
    {
      "cell_type": "code",
      "source": [
        "ax = sns.boxplot(x=\"fault_severity\", y=\"severity_type\", data=dff3)              #boxplot representation of feature severity_type\n",
        "plt.title(\"boxplot of logfile features\")\n",
        "plt.show()"
      ],
      "metadata": {
        "colab": {
          "base_uri": "https://localhost:8080/",
          "height": 296
        },
        "id": "8cAT_xHqFl8G",
        "outputId": "3dc586f1-f4d8-4f59-fa89-39dfef782353"
      },
      "execution_count": 88,
      "outputs": [
        {
          "output_type": "display_data",
          "data": {
            "text/plain": [
              "<Figure size 432x288 with 1 Axes>"
            ],
            "image/png": "[encoded data removed]"
          },
          "metadata": {}
        }
      ]
    },
    {
      "cell_type": "code",
      "source": [
        "ax = sns.boxplot(x=\"fault_severity\", y=\"volume\", data=dff3)                   #boxplot representation of feature location\n",
        "plt.title(\"boxplot of logfile features\")\n",
        "plt.show()"
      ],
      "metadata": {
        "colab": {
          "base_uri": "https://localhost:8080/",
          "height": 296
        },
        "id": "ZwaQZDCUyYBq",
        "outputId": "91dff485-f023-447b-de0e-a315e30f713e"
      },
      "execution_count": 89,
      "outputs": [
        {
          "output_type": "display_data",
          "data": {
            "text/plain": [
              "<Figure size 432x288 with 1 Axes>"
            ],
            "image/png": "[encoded data removed]"
          },
          "metadata": {}
        }
      ]
    },
    {
      "cell_type": "code",
      "source": [
        "ax = sns.boxplot(x=\"fault_severity\", y=\"location\", data=dff3)                   #boxplot representation of feature location\n",
        "plt.title(\"boxplot of logfile features\")\n",
        "plt.show()"
      ],
      "metadata": {
        "colab": {
          "base_uri": "https://localhost:8080/",
          "height": 296
        },
        "id": "kYn0brfhGw9G",
        "outputId": "c589bdd6-c784-4b5e-d48d-13a4dcc0b39f"
      },
      "execution_count": 90,
      "outputs": [
        {
          "output_type": "display_data",
          "data": {
            "text/plain": [
              "<Figure size 432x288 with 1 Axes>"
            ],
            "image/png": "[encoded data removed]"
          },
          "metadata": {}
        }
      ]
    },
    {
      "cell_type": "code",
      "source": [
        "import numpy as np                                                              #distribution of fault_severity\n",
        "total = len(dff3)*1.\n",
        "ax=sns.countplot(x=\"fault_severity\", data=dff3)\n",
        "for p in ax.patches:\n",
        "        ax.annotate('{:.1f}%'.format(100*p.get_height()/total), (p.get_x()+0.1, p.get_height()+5))\n",
        "\n",
        "#put 11 ticks (therefore 10 steps), from 0 to the total number of rows in the dataframe\n",
        "ax.yaxis.set_ticks(np.linspace(0, total, 11))\n",
        "\n",
        "#adjust the ticklabel to the desired format, without changing the position of the ticks. \n",
        "ax.set_yticklabels(map('{:.1f}%'.format, 100*ax.yaxis.get_majorticklocs()/total))\n",
        "plt.show()"
      ],
      "metadata": {
        "colab": {
          "base_uri": "https://localhost:8080/",
          "height": 284
        },
        "id": "ENaJMaEtXMTn",
        "outputId": "c5b0b1bd-6c36-4a71-a3eb-ef267692e734"
      },
      "execution_count": 91,
      "outputs": [
        {
          "output_type": "display_data",
          "data": {
            "text/plain": [
              "<Figure size 432x288 with 1 Axes>"
            ],
            "image/png": "[encoded data removed]"
          },
          "metadata": {}
        }
      ]
    },
    {
      "cell_type": "code",
      "source": [
        "y=dff3['fault_severity']\n",
        "X=dff3.drop(['fault_severity'],axis=1)\n",
        "print(X)\n",
        "print(y)"
      ],
      "metadata": {
        "colab": {
          "base_uri": "https://localhost:8080/"
        },
        "id": "dzmUelehnEzI",
        "outputId": "542d7c5f-0213-434c-935d-b30d16bce2a0"
      },
      "execution_count": 92,
      "outputs": [
        {
          "output_type": "stream",
          "name": "stdout",
          "text": [
            "         id  event_type  log_feature  volume  resource_type  severity_type  \\\n",
            "0      8011          15           68       7              8              2   \n",
            "1      2588          15           82       9              8              1   \n",
            "2      2588          15          201       5              8              1   \n",
            "3      2588          15           80      15              8              1   \n",
            "4      2588          15          203       5              8              1   \n",
            "...     ...         ...          ...     ...            ...            ...   \n",
            "61834  8114          11           54       1              8              2   \n",
            "61835  8114          11           87       3              8              2   \n",
            "61836   878          11           62       1              8              2   \n",
            "61837  4464          11          209       1              8              1   \n",
            "61838  4464          11           87       2              8              1   \n",
            "\n",
            "       location  \n",
            "0             1  \n",
            "1             1  \n",
            "2             1  \n",
            "3             1  \n",
            "4             1  \n",
            "...         ...  \n",
            "61834       999  \n",
            "61835       999  \n",
            "61836       999  \n",
            "61837       999  \n",
            "61838       999  \n",
            "\n",
            "[61839 rows x 7 columns]\n",
            "0        0\n",
            "1        0\n",
            "2        0\n",
            "3        0\n",
            "4        0\n",
            "        ..\n",
            "61834    0\n",
            "61835    0\n",
            "61836    0\n",
            "61837    0\n",
            "61838    0\n",
            "Name: fault_severity, Length: 61839, dtype: int64\n"
          ]
        }
      ]
    },
    {
      "cell_type": "code",
      "source": [
        "aa=dff3.to_csv('new_dataset.csv')"
      ],
      "metadata": {
        "id": "tHgYiMgRvg-M"
      },
      "execution_count": null,
      "outputs": []
    },
    {
      "cell_type": "code",
      "source": [
        "from sklearn.model_selection import train_test_split\n",
        "Xtrain,Xtest,ytrain,ytest=train_test_split(X,y,test_size=0.33,stratify=y)\n",
        "Xtrain,Xcv,ytrain,ycv=train_test_split(Xtrain,ytrain,test_size=0.33,stratify=ytrain)\n",
        "print(Xtrain.shape)\n",
        "print(ytrain.shape)\n",
        "print(Xtest.shape)\n",
        "print(ytest.shape)\n",
        "print(Xcv.shape)\n",
        "print(ycv.shape)\n"
      ],
      "metadata": {
        "colab": {
          "base_uri": "https://localhost:8080/"
        },
        "id": "s_dfOff7uPT6",
        "outputId": "a5f586c4-ac55-41ba-832d-e6b2ce3e30aa"
      },
      "execution_count": 93,
      "outputs": [
        {
          "output_type": "stream",
          "name": "stdout",
          "text": [
            "(27759, 7)\n",
            "(27759,)\n",
            "(20407, 7)\n",
            "(20407,)\n",
            "(13673, 7)\n",
            "(13673,)\n"
          ]
        }
      ]
    },
    {
      "cell_type": "code",
      "source": [
        "import numpy as np\n",
        "print(np.unique(ycv))\n",
        "print(np.unique(ytest))\n",
        "print(np.unique(ytrain))"
      ],
      "metadata": {
        "colab": {
          "base_uri": "https://localhost:8080/"
        },
        "id": "Amjszt8W__zr",
        "outputId": "9526b624-a185-452f-c909-afd7bf5fb466"
      },
      "execution_count": null,
      "outputs": [
        {
          "output_type": "stream",
          "name": "stdout",
          "text": [
            "[0 1 2]\n",
            "[0 1 2]\n",
            "[0 1 2]\n"
          ]
        }
      ]
    },
    {
      "cell_type": "code",
      "source": [
        "def normalize(df):\n",
        "    result1 = df.copy()\n",
        "    for feature_name in df.columns:\n",
        "         # if (str(feature_name) != str('id') and str(feature_name)!=str('fault_severity')):\n",
        "            max_value = df[feature_name].max()\n",
        "            min_value = df[feature_name].min()\n",
        "            result1[feature_name] = (df[feature_name] - min_value) / (max_value - min_value)\n",
        "    return result1\n",
        "result = normalize(Xtrain)\n",
        "Xtrain1=result\n",
        "print(Xtrain1)"
      ],
      "metadata": {
        "colab": {
          "base_uri": "https://localhost:8080/"
        },
        "id": "_NaKMIFstc8I",
        "outputId": "ce9b4efa-aa36-4d0e-902f-421fe8c5eb14"
      },
      "execution_count": 95,
      "outputs": [
        {
          "output_type": "stream",
          "name": "stdout",
          "text": [
            "             id  event_type  log_feature    volume  resource_type  \\\n",
            "952    0.561108    0.358491     0.347258  0.000000       0.111111   \n",
            "79     0.439215    0.264151     0.206266  0.017123       0.777778   \n",
            "60923  0.350100    0.188679     0.138381  0.003425       0.777778   \n",
            "49014  0.093320    0.264151     0.569191  0.003425       0.111111   \n",
            "53330  0.128363    0.188679     0.898172  0.001142       0.777778   \n",
            "...         ...         ...          ...       ...            ...   \n",
            "29918  0.124535    0.358491     0.073107  0.000000       0.777778   \n",
            "50541  0.866677    0.264151     0.182768  0.000000       0.111111   \n",
            "61224  0.194835    0.226415     0.441253  0.002283       0.333333   \n",
            "4846   0.940320    0.264151     0.211488  0.021689       0.777778   \n",
            "26692  0.656801    0.641509     0.603133  0.000000       0.111111   \n",
            "\n",
            "       severity_type  location  \n",
            "952             0.00  0.901333  \n",
            "79              0.00  0.000000  \n",
            "60923           0.25  0.873778  \n",
            "49014           0.00  0.719111  \n",
            "53330           0.00  0.760000  \n",
            "...              ...       ...  \n",
            "29918           0.00  0.438222  \n",
            "50541           0.00  0.728889  \n",
            "61224           0.00  0.873778  \n",
            "4846            0.25  0.964444  \n",
            "26692           0.25  0.420444  \n",
            "\n",
            "[27759 rows x 7 columns]\n"
          ]
        }
      ]
    },
    {
      "cell_type": "code",
      "source": [
        ""
      ],
      "metadata": {
        "id": "KnhX4J0Ys4XI"
      },
      "execution_count": null,
      "outputs": []
    },
    {
      "cell_type": "code",
      "source": [
        "import warnings\n",
        "warnings.filterwarnings(\"ignore\")\n",
        "from multiprocessing import Process# this is used for multithreading\n",
        "import multiprocessing\n",
        "from sklearn.model_selection import RandomizedSearchCV\n",
        "from sklearn.calibration import CalibratedClassifierCV\n",
        "from sklearn.neighbors import KNeighborsClassifier\n",
        "from sklearn.metrics import log_loss\n",
        "from sklearn.metrics import confusion_matrix\n",
        "from sklearn.model_selection import train_test_split\n",
        "from sklearn.linear_model import LogisticRegression\n",
        "from sklearn.ensemble import RandomForestClassifier"
      ],
      "metadata": {
        "id": "7FgAQYTvCZsj"
      },
      "execution_count": null,
      "outputs": []
    },
    {
      "cell_type": "code",
      "source": [
        "#random model\n",
        "yy=ytrain.values                                                                \n",
        "print(yy)\n",
        "\n",
        "y1=yy.reshape(-1, 1)\n",
        "\n",
        "print(y1)\n",
        "from sklearn.preprocessing import OneHotEncoder\n",
        "def ohe(x):\n",
        "  onehot_encoder = OneHotEncoder(sparse=False)\n",
        "  onehot_encoded = onehot_encoder.fit_transform(x)\n",
        "  hp=onehot_encoded.astype(int)\n",
        "  return  hp\n",
        "l1=ohe(y1)\n",
        "print(l1[0])\n",
        "# we need to generate 9 numbers and the sum of numbers should be 1\n",
        "# one solution is to genarate 9 numbers and divide each of the numbers by their sum\n",
        "# ref: https://stackoverflow.com/a/18662466/4084039\n",
        "\n",
        "test_data_len = Xtest.shape[0]\n",
        "cv_data_len = Xcv.shape[0]\n",
        "\n",
        "yt=ytest.values.reshape(-1,1)\n",
        "yc=ycv.values.reshape(-1,1)\n",
        "yte=ohe(yt)                                                                     #encoded y_test values\n",
        "yce=ohe(yc)                                                                     #encoded y_cv values\n",
        "\n",
        "# we create a output array that has exactly same size as the CV data\n",
        "cv_predicted_y = np.zeros((cv_data_len,3))\n",
        "for i in range(cv_data_len):\n",
        "    rand_probs = np.random.rand(1,3)\n",
        "    cv_predicted_y[i] = ((rand_probs/sum(sum(rand_probs)))[0])\n",
        "print(\"Log loss on Cross Validation Data using Random Model\",log_loss(yce,cv_predicted_y, eps=1e-15))\n",
        "\n",
        "\n",
        "# Test-Set error.\n",
        "#we create a output array that has exactly same as the test data\n",
        "test_predicted_y = np.zeros((test_data_len,3))\n",
        "for i in range(test_data_len):\n",
        "    rand_probs = np.random.rand(1,3)\n",
        "    test_predicted_y[i] = ((rand_probs/sum(sum(rand_probs)))[0])\n",
        "print(\"Log loss on Test Data using Random Model\",log_loss(yte,test_predicted_y, eps=1e-15))\n",
        "\n",
        "predicted_y =np.argmax(test_predicted_y, axis=1)                                #Returns the indices of the maximum values along an axis.\n",
        "\n",
        "C = confusion_matrix(ytest, predicted_y)\n",
        "\n",
        "print('confusion',C)\n",
        "print('*'*100)\n",
        "A =(((C.T)/(C.sum(axis=1))).T)\n",
        "print('recal',A)\n",
        "print('*'*100)\n",
        "B =(C/C.sum(axis=0))\n",
        "print('precision',B)"
      ],
      "metadata": {
        "colab": {
          "base_uri": "https://localhost:8080/"
        },
        "id": "9r5bS1YUPOmt",
        "outputId": "abf1afe9-46de-4278-8587-b4d46bcebbb7"
      },
      "execution_count": null,
      "outputs": [
        {
          "output_type": "stream",
          "name": "stdout",
          "text": [
            "[0 1 1 ... 0 2 1]\n",
            "[[0]\n",
            " [1]\n",
            " [1]\n",
            " ...\n",
            " [0]\n",
            " [2]\n",
            " [1]]\n",
            "[1 0 0]\n",
            "Log loss on Cross Validation Data using Random Model 1.338931821808408\n",
            "Log loss on Test Data using Random Model 1.3416527129475746\n",
            "confusion [[4073 4020 3984]\n",
            " [1812 1820 1821]\n",
            " [1000  940  937]]\n",
            "****************************************************************************************************\n",
            "recal [[0.33725263 0.33286412 0.32988325]\n",
            " [0.33229415 0.33376123 0.33394462]\n",
            " [0.34758429 0.32672923 0.32568648]]\n",
            "****************************************************************************************************\n",
            "precision [[0.59157589 0.59292035 0.59092257]\n",
            " [0.26318083 0.26843658 0.27009789]\n",
            " [0.14524328 0.13864307 0.13897953]]\n"
          ]
        }
      ]
    },
    {
      "cell_type": "code",
      "source": [
        "#knn\n",
        "alpha = [x for x in range(1, 100, 4)]\n",
        "cv_log_error_array=[]\n",
        "for i in alpha:\n",
        "    k_cfl=KNeighborsClassifier(n_neighbors=i,weights='distance')\n",
        "    k_cfl.fit(Xtrain1,ytrain)\n",
        "    sig_clf = CalibratedClassifierCV(k_cfl, method=\"sigmoid\")\n",
        "    sig_clf.fit(Xtrain1, ytrain)\n",
        "    predict_y = sig_clf.predict_proba(Xcv)\n",
        "    cv_log_error_array.append(log_loss(ycv, predict_y, labels=k_cfl.classes_, eps=1e-15))\n",
        "    \n",
        "best_alpha = np.argmin(cv_log_error_array)\n",
        "    \n",
        "\n"
      ],
      "metadata": {
        "id": "MC4iFBBQCZ4Q"
      },
      "execution_count": null,
      "outputs": []
    },
    {
      "cell_type": "code",
      "source": [
        "k_cfl=KNeighborsClassifier(n_neighbors=alpha[best_alpha],weights='distance')\n",
        "k_cfl.fit(Xtrain1,ytrain)\n",
        "sig_clf1 = CalibratedClassifierCV(k_cfl, method=\"sigmoid\")\n",
        "sig_clf1.fit(Xtrain1, ytrain)\n",
        "    \n",
        "predict_y = sig_clf1.predict_proba(Xtrain1)\n",
        "print ('For values of best alpha = ', alpha[best_alpha], \"The train log loss is:\",log_loss(ytrain, predict_y))\n",
        "predict_y = sig_clf1.predict_proba(Xcv)\n",
        "print('For values of best alpha = ', alpha[best_alpha], \"The cross validation log loss is:\",log_loss(ycv, predict_y))\n",
        "predict_y = sig_clf1.predict_proba(Xtest)\n",
        "print('For values of best alpha = ', alpha[best_alpha], \"The test log loss is:\",log_loss(ytest, predict_y))\n",
        "\n",
        "\n",
        "\n",
        "C = confusion_matrix(ytest, sig_clf1.predict(Xtest))\n",
        "print('confusion',C)\n",
        "print('*'*100)\n",
        "A =(((C.T)/(C.sum(axis=1))).T)\n",
        "print('recal',A)\n",
        "print('*'*100)\n",
        "B =(C/C.sum(axis=0))\n",
        "print('precision',B)"
      ],
      "metadata": {
        "colab": {
          "base_uri": "https://localhost:8080/"
        },
        "id": "SeRJTJjECaEq",
        "outputId": "d08096ec-0c64-4927-a31c-e89d63970538"
      },
      "execution_count": null,
      "outputs": [
        {
          "output_type": "stream",
          "name": "stdout",
          "text": [
            "For values of best alpha =  17 The train log loss is: 0.16736203146291828\n",
            "For values of best alpha =  17 The cross validation log loss is: 0.9690734537199082\n",
            "For values of best alpha =  17 The test log loss is: 0.9602964342815254\n",
            "confusion [[11437   551    89]\n",
            " [ 5084   302    67]\n",
            " [ 2527   318    32]]\n",
            "****************************************************************************************************\n",
            "recal [[0.94700671 0.04562391 0.00736938]\n",
            " [0.93233083 0.05538236 0.01228681]\n",
            " [0.8783455  0.1105318  0.0111227 ]]\n",
            "****************************************************************************************************\n",
            "precision [[0.60043049 0.470538   0.47340426]\n",
            " [0.26690466 0.25789923 0.35638298]\n",
            " [0.13266485 0.27156277 0.17021277]]\n"
          ]
        }
      ]
    },
    {
      "cell_type": "code",
      "source": [
        "\n",
        "#logistic regression\n",
        "alpha = [10 ** x for x in range(-5, 4)]\n",
        "print(alpha)\n",
        "cv_log_error_array=[]\n",
        "for i in alpha:\n",
        "    logisticR=LogisticRegression(penalty='l2',C=i,class_weight='balanced',solver='liblinear',multi_class='ovr')\n",
        "    logisticR.fit(Xtrain1,ytrain)\n",
        "    sig_clf = CalibratedClassifierCV(logisticR, method=\"sigmoid\")\n",
        "    sig_clf.fit(Xtrain1, ytrain)\n",
        "    predict_y = sig_clf.predict_proba(Xcv)\n",
        "    cv_log_error_array.append(log_loss(ycv, predict_y, labels=logisticR.classes_, eps=1e-15))\n",
        "    \n",
        "best_alpha = np.argmin(cv_log_error_array)\n",
        "    \n",
        "logisticR=LogisticRegression(penalty='l2',C=alpha[best_alpha],class_weight='balanced',solver='liblinear',multi_class='ovr')\n",
        "logisticR.fit(Xtrain,ytrain)\n",
        "sig_clf2 = CalibratedClassifierCV(logisticR, method=\"sigmoid\")\n",
        "sig_clf2.fit(Xtrain1, ytrain)\n",
        "pred_y=sig_clf2.predict(Xtest)\n",
        "\n",
        "predict_y = sig_clf2.predict_proba(Xtrain1)\n",
        "print ('For values of best alpha = ', alpha[best_alpha],'log loss for train data',log_loss(ytrain, predict_y, labels=logisticR.classes_, eps=1e-15))\n",
        "predict_y = sig_clf2.predict_proba(Xcv)\n",
        "print ('For values of best alpha = ', alpha[best_alpha],'log loss for cv data',log_loss(ycv, predict_y, labels=logisticR.classes_, eps=1e-15))\n",
        "predict_y = sig_clf2.predict_proba(Xtest)\n",
        "print ('For values of best alpha = ', alpha[best_alpha],'log loss for test data',log_loss(ytest, predict_y, labels=logisticR.classes_, eps=1e-15))\n",
        "\n",
        "C = confusion_matrix(ytest, sig_clf2.predict(Xtest))\n",
        "print('confusion',C)\n",
        "print('*'*100)\n",
        "A =(((C.T)/(C.sum(axis=1))).T)\n",
        "print('recal',A)\n",
        "print('*'*100)\n",
        "B =(C/C.sum(axis=0))\n",
        "print('precision',B)"
      ],
      "metadata": {
        "colab": {
          "base_uri": "https://localhost:8080/"
        },
        "id": "HtgEGxQmCaSC",
        "outputId": "2762655f-dea8-4e25-f363-a7918c43edf4"
      },
      "execution_count": null,
      "outputs": [
        {
          "output_type": "stream",
          "name": "stdout",
          "text": [
            "[1e-05, 0.0001, 0.001, 0.01, 0.1, 1, 10, 100, 1000]\n",
            "For values of best alpha =  0.0001 log loss for train data 0.8866480503912654\n",
            "For values of best alpha =  0.0001 log loss for cv data 2.461330533344743\n",
            "For values of best alpha =  0.0001 log loss for test data 2.3113448041247957\n",
            "confusion [[11286   791     0]\n",
            " [ 5134   319     0]\n",
            " [ 2610   267     0]]\n",
            "****************************************************************************************************\n",
            "recal [[0.9345036  0.0654964  0.        ]\n",
            " [0.94150009 0.05849991 0.        ]\n",
            " [0.90719499 0.09280501 0.        ]]\n",
            "****************************************************************************************************\n",
            "precision [[0.59306358 0.57443718        nan]\n",
            " [0.26978455 0.23166304        nan]\n",
            " [0.13715187 0.19389978        nan]]\n"
          ]
        }
      ]
    },
    {
      "cell_type": "code",
      "source": [
        "#random forest\n",
        "alpha=[10,50,100,500]\n",
        "cv_log_error_array=[]\n",
        "train_log_error_array=[]\n",
        "from sklearn.ensemble import RandomForestClassifier\n",
        "for i in alpha:\n",
        "    r_cfl=RandomForestClassifier(n_estimators=i,random_state=42,n_jobs=-1,class_weight='balanced_subsample',max_depth=None)\n",
        "    r_cfl.fit(Xtrain1,ytrain)\n",
        "    sig_clf = CalibratedClassifierCV(r_cfl, method=\"sigmoid\")\n",
        "    sig_clf.fit(Xtrain1, ytrain)\n",
        "    predict_y = sig_clf.predict_proba(Xcv)\n",
        "    cv_log_error_array.append(log_loss(ycv, predict_y, labels=r_cfl.classes_, eps=1e-15))\n",
        "\n",
        "best_alpha = np.argmin(cv_log_error_array)\n",
        "\n",
        "r_cfl=RandomForestClassifier(n_estimators=alpha[best_alpha],random_state=42,n_jobs=-1,class_weight='balanced_subsample',max_depth=None)\n",
        "r_cfl.fit(Xtrain1,ytrain)\n",
        "sig_clf3 = CalibratedClassifierCV(r_cfl, method=\"sigmoid\")\n",
        "sig_clf3.fit(Xtrain1, ytrain)\n",
        "\n",
        "predict_y = sig_clf3.predict_proba(Xtrain1)\n",
        "print('For values of best alpha = ', alpha[best_alpha], \"The train log loss is:\",log_loss(ytrain, predict_y))\n",
        "predict_y = sig_clf3.predict_proba(Xcv)\n",
        "print('For values of best alpha = ', alpha[best_alpha], \"The cross validation log loss is:\",log_loss(ycv, predict_y))\n",
        "predict_y = sig_clf3.predict_proba(Xtest)\n",
        "print('For values of best alpha = ', alpha[best_alpha], \"The test log loss is:\",log_loss(ytest, predict_y))\n",
        "C = confusion_matrix(ytest, sig_clf3.predict(Xtest))\n",
        "print('confusion',C)\n",
        "print('*'*100)\n",
        "A =(((C.T)/(C.sum(axis=1))).T)\n",
        "print('recal',A)\n",
        "print('*'*100)\n",
        "B =(C/C.sum(axis=0))\n",
        "print('precision',B)"
      ],
      "metadata": {
        "colab": {
          "base_uri": "https://localhost:8080/"
        },
        "id": "tWygsOa2ST1X",
        "outputId": "5028f521-80a7-475b-9e68-a2069b32562a"
      },
      "execution_count": null,
      "outputs": [
        {
          "output_type": "stream",
          "name": "stdout",
          "text": [
            "For values of best alpha =  10 The train log loss is: 0.1415187600700315\n",
            "For values of best alpha =  10 The cross validation log loss is: 0.9396168165782628\n",
            "For values of best alpha =  10 The test log loss is: 0.9396115012417116\n",
            "confusion [[12077     0     0]\n",
            " [ 5453     0     0]\n",
            " [ 2877     0     0]]\n",
            "****************************************************************************************************\n",
            "recal [[1. 0. 0.]\n",
            " [1. 0. 0.]\n",
            " [1. 0. 0.]]\n",
            "****************************************************************************************************\n",
            "precision [[0.59180673        nan        nan]\n",
            " [0.26721223        nan        nan]\n",
            " [0.14098104        nan        nan]]\n"
          ]
        }
      ]
    },
    {
      "cell_type": "code",
      "source": [
        "pq=X.columns\n",
        "print(pq)"
      ],
      "metadata": {
        "colab": {
          "base_uri": "https://localhost:8080/"
        },
        "id": "WsjYos3IV6MJ",
        "outputId": "a39d135a-5411-4fa3-943c-99e50ee1f68b"
      },
      "execution_count": null,
      "outputs": [
        {
          "output_type": "stream",
          "name": "stdout",
          "text": [
            "Index(['id', 'event_type', 'log_feature', 'volume', 'resource_type',\n",
            "       'severity_type', 'location'],\n",
            "      dtype='object')\n"
          ]
        }
      ]
    },
    {
      "cell_type": "code",
      "source": [
        "plt.barh(r_cfl.feature_names_in_, r_cfl.feature_importances_)"
      ],
      "metadata": {
        "colab": {
          "base_uri": "https://localhost:8080/",
          "height": 283
        },
        "id": "EiSZPfs2zD_J",
        "outputId": "b36031b7-b444-4555-d675-03cd8dd6a751"
      },
      "execution_count": null,
      "outputs": [
        {
          "output_type": "execute_result",
          "data": {
            "text/plain": [
              "<BarContainer object of 7 artists>"
            ]
          },
          "metadata": {},
          "execution_count": 70
        },
        {
          "output_type": "display_data",
          "data": {
            "text/plain": [
              "<Figure size 432x288 with 1 Axes>"
            ],
            "image/png": "[encoded data removed]"
          },
          "metadata": {
            "needs_background": "light"
          }
        }
      ]
    }
  ]
}